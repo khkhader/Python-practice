{
 "cells": [
  {
   "cell_type": "code",
   "execution_count": 1,
   "id": "d9ee5c49-81f2-41bd-9135-4cf194876ed0",
   "metadata": {},
   "outputs": [],
   "source": [
    "import pandas as pd\n",
    "products = pd.read_csv('../data/eniac/clean/products_cl.csv')"
   ]
  },
  {
   "cell_type": "code",
   "execution_count": 2,
   "id": "9f9c54f2-b4ae-451a-a3be-8ea93d010c42",
   "metadata": {},
   "outputs": [],
   "source": [
    "import re"
   ]
  },
  {
   "cell_type": "markdown",
   "id": "75f02635-f60b-44cd-b7a3-11fb7311e24d",
   "metadata": {},
   "source": [
    "# Introduction to Regex\n",
    "\n",
    "## GOAL\n",
    "\n",
    "Introduce to the library `re` (regexp) and show the main functions and how filter text based on regular expressions. \n",
    "\n",
    "## DESCRIPTION\n",
    "\n",
    "In this workshop, the following functions will be reviewed: \n",
    "\n",
    "* `findall()`\n",
    "* `search()`\n",
    "* `split()`\n",
    "* `sub()`\n",
    "* `span()`\n",
    "* `string()`\n",
    "* `group()`\n",
    "\n",
    "Metacharacters: ` . ^ $ * + ? { } [ ] \\ | ( )`\n",
    "\n",
    "Special Sequences: `\\A` `\\b` `\\d` `\\s`\n",
    "\n",
    "And how to compile the regex expressions to reuse it. \n",
    "\n",
    "More information on that [link](https://www.w3schools.com/python/python_regex.asp)."
   ]
  },
  {
   "cell_type": "code",
   "execution_count": 3,
   "id": "6dd11cf8-2211-42fe-b849-762296eaf087",
   "metadata": {},
   "outputs": [
    {
     "data": {
      "text/html": [
       "<div>\n",
       "<style scoped>\n",
       "    .dataframe tbody tr th:only-of-type {\n",
       "        vertical-align: middle;\n",
       "    }\n",
       "\n",
       "    .dataframe tbody tr th {\n",
       "        vertical-align: top;\n",
       "    }\n",
       "\n",
       "    .dataframe thead th {\n",
       "        text-align: right;\n",
       "    }\n",
       "</style>\n",
       "<table border=\"1\" class=\"dataframe\">\n",
       "  <thead>\n",
       "    <tr style=\"text-align: right;\">\n",
       "      <th></th>\n",
       "      <th>sku</th>\n",
       "      <th>name</th>\n",
       "      <th>desc</th>\n",
       "      <th>price</th>\n",
       "    </tr>\n",
       "  </thead>\n",
       "  <tbody>\n",
       "    <tr>\n",
       "      <th>8319</th>\n",
       "      <td>BOS0059</td>\n",
       "      <td>Bose SoundLink Bluetooth Speaker Revolve Gray</td>\n",
       "      <td>Bluetooth connection Sound speaker 360 degrees...</td>\n",
       "      <td>229.0</td>\n",
       "    </tr>\n",
       "  </tbody>\n",
       "</table>\n",
       "</div>"
      ],
      "text/plain": [
       "          sku                                           name  \\\n",
       "8319  BOS0059  Bose SoundLink Bluetooth Speaker Revolve Gray   \n",
       "\n",
       "                                                   desc  price  \n",
       "8319  Bluetooth connection Sound speaker 360 degrees...  229.0  "
      ]
     },
     "execution_count": 3,
     "metadata": {},
     "output_type": "execute_result"
    }
   ],
   "source": [
    "products.sample()"
   ]
  },
  {
   "cell_type": "code",
   "execution_count": 4,
   "id": "482b7fae-c3eb-490f-a083-e63dba245dbd",
   "metadata": {},
   "outputs": [
    {
     "data": {
      "text/plain": [
       "'Full HD video surveillance camera with 180 degrees and night vision compatible HomeKit'"
      ]
     },
     "execution_count": 4,
     "metadata": {},
     "output_type": "execute_result"
    }
   ],
   "source": [
    "# extract an specific description\n",
    "prod_descr = products.query('sku == \"DLK0139\"')['desc'].values[0]\n",
    "prod_descr"
   ]
  },
  {
   "cell_type": "markdown",
   "id": "4a456803-df6c-466b-a297-63740e9d7b9d",
   "metadata": {},
   "source": [
    "### `findall`\n",
    "\n",
    "Returns a list containing all matches"
   ]
  },
  {
   "cell_type": "code",
   "execution_count": 5,
   "id": "35581226-eab0-4cbf-8075-b4f8a4b7fdea",
   "metadata": {},
   "outputs": [
    {
     "data": {
      "text/plain": [
       "['a', 'a', 'a', 'a', 'a']"
      ]
     },
     "execution_count": 5,
     "metadata": {},
     "output_type": "execute_result"
    }
   ],
   "source": [
    "# return all ocurrencies appearing on a string\n",
    "re.findall('a', prod_descr)"
   ]
  },
  {
   "cell_type": "markdown",
   "id": "8f96a5e6-fdfc-45f4-9232-af41e85e2bf0",
   "metadata": {},
   "source": [
    "### `search`\n",
    "\n",
    "Returns a Match object if there is a match anywhere in the string. If there is more than one match, only the first occurrence of the match will be returned.\n",
    "\n",
    "The mathch objects have the following methods: \n",
    "- `.span()` returns a tuple containing the start-, and end positions of the match.\n",
    "- `.string` returns the string passed into the function\n",
    "- `.group()` returns the part of the string where there was a match"
   ]
  },
  {
   "cell_type": "code",
   "execution_count": 6,
   "id": "245e8302-7bab-45a8-a757-03904f6a291e",
   "metadata": {},
   "outputs": [
    {
     "data": {
      "text/plain": [
       "'Full HD video surveillance camera with 180 degrees and night vision compatible HomeKit'"
      ]
     },
     "execution_count": 6,
     "metadata": {},
     "output_type": "execute_result"
    }
   ],
   "source": [
    "prod_descr"
   ]
  },
  {
   "cell_type": "code",
   "execution_count": 7,
   "id": "2ff86b34-a016-4fdf-a238-7f0c937efa88",
   "metadata": {},
   "outputs": [],
   "source": [
    "match_obj = re.search('video', prod_descr)"
   ]
  },
  {
   "cell_type": "code",
   "execution_count": 8,
   "id": "ba793604-af05-4efe-a6ff-7cc3f7f8c12f",
   "metadata": {},
   "outputs": [
    {
     "data": {
      "text/plain": [
       "'Full HD video surveillance camera with 180 degrees and night vision compatible HomeKit'"
      ]
     },
     "execution_count": 8,
     "metadata": {},
     "output_type": "execute_result"
    }
   ],
   "source": [
    "match_obj.string"
   ]
  },
  {
   "cell_type": "code",
   "execution_count": 9,
   "id": "b31e9c6b-db63-4068-a4c8-ecaaae5ed6d9",
   "metadata": {},
   "outputs": [
    {
     "data": {
      "text/plain": [
       "'video'"
      ]
     },
     "execution_count": 9,
     "metadata": {},
     "output_type": "execute_result"
    }
   ],
   "source": [
    "match_obj.group()"
   ]
  },
  {
   "cell_type": "code",
   "execution_count": 10,
   "id": "a1e6d1ac-557b-4910-a7db-00af467a7ccc",
   "metadata": {},
   "outputs": [
    {
     "data": {
      "text/plain": [
       "(8, 13)"
      ]
     },
     "execution_count": 10,
     "metadata": {},
     "output_type": "execute_result"
    }
   ],
   "source": [
    "match_obj.span()"
   ]
  },
  {
   "cell_type": "markdown",
   "id": "430ed72d-e14e-4d8e-816a-08dac24f6f9a",
   "metadata": {},
   "source": [
    "### `split`\n",
    "\n",
    "Returns a list where the string has been split at each match"
   ]
  },
  {
   "cell_type": "code",
   "execution_count": 11,
   "id": "f5bba774-5a80-46aa-a160-20f1aac60dea",
   "metadata": {},
   "outputs": [
    {
     "data": {
      "text/plain": [
       "['Full HD video surveillance camera with 180 degrees',\n",
       " 'night vision compatible HomeKit']"
      ]
     },
     "execution_count": 11,
     "metadata": {},
     "output_type": "execute_result"
    }
   ],
   "source": [
    "prod_descr.split(' and ') # and is removed from the list"
   ]
  },
  {
   "cell_type": "markdown",
   "id": "bc56c2a7-a16c-4f4a-ba44-c49b3124183a",
   "metadata": {},
   "source": [
    "### `sub`\n",
    "\n",
    "Replaces one or many matches with a string"
   ]
  },
  {
   "cell_type": "code",
   "execution_count": 12,
   "id": "9e165a38-b28c-4553-bec3-54e602b6b8b9",
   "metadata": {},
   "outputs": [
    {
     "name": "stdout",
     "output_type": "stream",
     "text": [
      "Full HD video surveillance pool with 180 degrees and night vision compatible HomeKit\n"
     ]
    }
   ],
   "source": [
    "dark_descr = re.sub(\"camera\", \"pool\", prod_descr)\n",
    "print(dark_descr)"
   ]
  },
  {
   "cell_type": "markdown",
   "id": "1a56b9a8-a875-4797-b1f5-e58b53e4f085",
   "metadata": {},
   "source": [
    "### METACHARACTERS\n",
    "\n",
    "\n",
    "Some characters are special metacharacters, and don’t match themselves. Instead, they signal that some out-of-the-ordinary thing should be matched, or they affect other portions of the RE by repeating them or changing their meaning.\n",
    "\n",
    "` . ^ $ * + ? { } [ ] \\ | ( )`\n",
    "\n",
    " #### `[]` means set of characters:\n",
    " \n",
    " - `[abc]` will match any of the characters a, b, or c\n",
    " - `[a-c]` will do the same\n",
    " - `[a-z]` will match any lowercase letter"
   ]
  },
  {
   "cell_type": "code",
   "execution_count": 13,
   "id": "01404851-4c82-4632-a311-f0beceea0109",
   "metadata": {},
   "outputs": [],
   "source": [
    "alphanumeric = \"4298fsfsv012rvv21v9\""
   ]
  },
  {
   "cell_type": "code",
   "execution_count": 14,
   "id": "5f239469-b3d9-45aa-b21c-3b89d6d8443f",
   "metadata": {},
   "outputs": [
    {
     "data": {
      "text/plain": [
       "['f', 's', 'f', 's', 'v', 'r', 'v', 'v', 'v']"
      ]
     },
     "execution_count": 14,
     "metadata": {},
     "output_type": "execute_result"
    }
   ],
   "source": [
    "re.findall(r\"[a-z]\", alphanumeric)"
   ]
  },
  {
   "cell_type": "markdown",
   "id": "55e5d646-dbb9-49e8-ae66-9c753dc48e0b",
   "metadata": {},
   "source": [
    "`\\` Can help us to scape special characters "
   ]
  },
  {
   "cell_type": "code",
   "execution_count": 15,
   "id": "9084819b-a0b1-40d4-9906-365f67d05cbf",
   "metadata": {},
   "outputs": [
    {
     "name": "stdout",
     "output_type": "stream",
     "text": [
      "4298fsfsv012rvv21v9[a-z]\n"
     ]
    },
    {
     "data": {
      "text/plain": [
       "['[a-z]']"
      ]
     },
     "execution_count": 15,
     "metadata": {},
     "output_type": "execute_result"
    }
   ],
   "source": [
    "alphanumeric_with_special = alphanumeric + \"[a-z]\"\n",
    "print(alphanumeric_with_special)\n",
    "# CALLENGE: use \\ to escape the square brakets\n",
    "re.findall(r\"\\[a-z]\", alphanumeric_with_special)"
   ]
  },
  {
   "cell_type": "markdown",
   "id": "4fedc6ac-d29d-4c09-ba6e-d555b21eca01",
   "metadata": {},
   "source": [
    "#### Some special sequences:\n",
    "\n",
    "- `\\A`- Returns a match if the specified characters are at the beginning of the string\n",
    "- `\\b` - Returns a match where the specified characters are at the beginning or at the end of a word\n",
    "- `\\d` - \tReturns a match where the string contains digits (numbers from 0-9) (`\\D` for where the string DOES NOT contain digits)\n",
    "- `\\s`- Returns a match where the string contains a white space character (`\\S` for where the string DOES NOT contain a white space)"
   ]
  },
  {
   "cell_type": "code",
   "execution_count": 16,
   "id": "d706b06a-0a9e-442e-b197-10435744e551",
   "metadata": {},
   "outputs": [
    {
     "data": {
      "text/plain": [
       "'Full HD video surveillance camera with 180 degrees and night vision compatible HomeKit'"
      ]
     },
     "execution_count": 16,
     "metadata": {},
     "output_type": "execute_result"
    }
   ],
   "source": [
    "prod_descr"
   ]
  },
  {
   "cell_type": "code",
   "execution_count": 17,
   "id": "9881f2d0-bcb0-48a8-9c82-f8964227e0c8",
   "metadata": {},
   "outputs": [
    {
     "data": {
      "text/plain": [
       "['1', '8', '0']"
      ]
     },
     "execution_count": 17,
     "metadata": {},
     "output_type": "execute_result"
    }
   ],
   "source": [
    "# find all possible numbers\n",
    "re.findall(r\"\\d\", prod_descr)"
   ]
  },
  {
   "cell_type": "markdown",
   "id": "3de5a230-668f-44f6-95b0-f2798a2c2e1c",
   "metadata": {},
   "source": [
    "### `.`\tAny character (except newline character)"
   ]
  },
  {
   "cell_type": "code",
   "execution_count": 18,
   "id": "a666bb70-1a39-4654-96aa-91ee7fbca66b",
   "metadata": {},
   "outputs": [
    {
     "data": {
      "text/plain": [
       "['anc', 'e c', 'n c']"
      ]
     },
     "execution_count": 18,
     "metadata": {},
     "output_type": "execute_result"
    }
   ],
   "source": [
    "re.findall(r'..c', prod_descr)"
   ]
  },
  {
   "cell_type": "markdown",
   "id": "a5b653bb-4a2d-460e-aed4-8036781dc482",
   "metadata": {},
   "source": [
    "### `+` One or more occurrences"
   ]
  },
  {
   "cell_type": "code",
   "execution_count": 19,
   "id": "bfe72f03-83c7-45ff-a331-778792e2c655",
   "metadata": {},
   "outputs": [
    {
     "data": {
      "text/plain": [
       "['e', 'e', 'e', 'e', 'e', 'ee', 'e', 'e']"
      ]
     },
     "execution_count": 19,
     "metadata": {},
     "output_type": "execute_result"
    }
   ],
   "source": [
    "re.findall(r'e+', prod_descr)"
   ]
  },
  {
   "cell_type": "code",
   "execution_count": 20,
   "id": "d0c8db59-f5ae-4acd-8812-59d5763f0991",
   "metadata": {},
   "outputs": [
    {
     "data": {
      "text/plain": [
       "'Full HD vid__o surv__illanc__ cam__ra with 180 d__gr__s and night vision compatibl__ Hom__Kit'"
      ]
     },
     "execution_count": 20,
     "metadata": {},
     "output_type": "execute_result"
    }
   ],
   "source": [
    "re.sub(\"e+\", \"__\", prod_descr)"
   ]
  },
  {
   "cell_type": "markdown",
   "id": "6af7e67e-0840-4f7a-a57d-f88d13f089a3",
   "metadata": {},
   "source": [
    "### `{}`- Exactly the specified number of occurrences"
   ]
  },
  {
   "cell_type": "code",
   "execution_count": 21,
   "id": "69debc89-efee-425c-b3b2-9bf8ec6aa487",
   "metadata": {},
   "outputs": [
    {
     "data": {
      "text/plain": [
       "['ee']"
      ]
     },
     "execution_count": 21,
     "metadata": {},
     "output_type": "execute_result"
    }
   ],
   "source": [
    "re.findall(r\"e{2}\", prod_descr)"
   ]
  },
  {
   "cell_type": "code",
   "execution_count": 22,
   "id": "890b9f28-e833-4412-833c-5be1a4f9bcc9",
   "metadata": {},
   "outputs": [
    {
     "data": {
      "text/plain": [
       "'Full HD video surveillance camera with 180 degr__s and night vision compatible HomeKit'"
      ]
     },
     "execution_count": 22,
     "metadata": {},
     "output_type": "execute_result"
    }
   ],
   "source": [
    "re.sub(r\"e{2}\", \"__\", prod_descr)"
   ]
  },
  {
   "cell_type": "markdown",
   "id": "bf91a768-ad05-4f8e-b814-4dd6fbd8fa66",
   "metadata": {},
   "source": [
    "### `^` Starts with"
   ]
  },
  {
   "cell_type": "code",
   "execution_count": 23,
   "id": "16b3a243-c3a9-46ae-9b99-4b0d926ae18a",
   "metadata": {},
   "outputs": [
    {
     "data": {
      "text/plain": [
       "['F']"
      ]
     },
     "execution_count": 23,
     "metadata": {},
     "output_type": "execute_result"
    }
   ],
   "source": [
    "re.findall(r\"^F\", prod_descr)"
   ]
  },
  {
   "cell_type": "markdown",
   "id": "22012cda-4d4a-4ea3-93a6-3343a5ff368e",
   "metadata": {},
   "source": [
    "#### How to apply it on the whole dataframe?"
   ]
  },
  {
   "cell_type": "code",
   "execution_count": 24,
   "id": "17188a6d-cb74-41cb-82a3-ac93552718a5",
   "metadata": {},
   "outputs": [
    {
     "data": {
      "text/html": [
       "<div>\n",
       "<style scoped>\n",
       "    .dataframe tbody tr th:only-of-type {\n",
       "        vertical-align: middle;\n",
       "    }\n",
       "\n",
       "    .dataframe tbody tr th {\n",
       "        vertical-align: top;\n",
       "    }\n",
       "\n",
       "    .dataframe thead th {\n",
       "        text-align: right;\n",
       "    }\n",
       "</style>\n",
       "<table border=\"1\" class=\"dataframe\">\n",
       "  <thead>\n",
       "    <tr style=\"text-align: right;\">\n",
       "      <th></th>\n",
       "      <th>sku</th>\n",
       "      <th>name</th>\n",
       "      <th>desc</th>\n",
       "      <th>price</th>\n",
       "    </tr>\n",
       "  </thead>\n",
       "  <tbody>\n",
       "    <tr>\n",
       "      <th>123</th>\n",
       "      <td>FIT0009</td>\n",
       "      <td>Fitbit Aria scale smart white</td>\n",
       "      <td>smart scale with WiFi connection.</td>\n",
       "      <td>119.99</td>\n",
       "    </tr>\n",
       "    <tr>\n",
       "      <th>124</th>\n",
       "      <td>FIT0010</td>\n",
       "      <td>Fitbit Aria scale smart black</td>\n",
       "      <td>smart scale with WiFi connection.</td>\n",
       "      <td>119.99</td>\n",
       "    </tr>\n",
       "    <tr>\n",
       "      <th>270</th>\n",
       "      <td>FIT0013</td>\n",
       "      <td>Fitbit ZIP monitor green activity</td>\n",
       "      <td>Activity Monitor compact and lightweight.</td>\n",
       "      <td>59.99</td>\n",
       "    </tr>\n",
       "    <tr>\n",
       "      <th>699</th>\n",
       "      <td>FIT0023</td>\n",
       "      <td>Fitbit Flex Bracelet navy activity monitor</td>\n",
       "      <td>Control activity bracelet with two interchange...</td>\n",
       "      <td>99.99</td>\n",
       "    </tr>\n",
       "    <tr>\n",
       "      <th>1454</th>\n",
       "      <td>FIT0024</td>\n",
       "      <td>Fitbit Charge Bracelet Black Size L</td>\n",
       "      <td>Bracelet size L activity and sleep monitor wor...</td>\n",
       "      <td>129.95</td>\n",
       "    </tr>\n",
       "    <tr>\n",
       "      <th>1510</th>\n",
       "      <td>FIT0026</td>\n",
       "      <td>Fitbit Charge HR Bracelet Black Size L</td>\n",
       "      <td>Bracelet sport and activity monitors sleep.</td>\n",
       "      <td>149.95</td>\n",
       "    </tr>\n",
       "    <tr>\n",
       "      <th>2178</th>\n",
       "      <td>FIT0028</td>\n",
       "      <td>Fitbit Surge Figured Black Clock</td>\n",
       "      <td>Smartwatch with monitoring activity and sleep ...</td>\n",
       "      <td>249.95</td>\n",
       "    </tr>\n",
       "    <tr>\n",
       "      <th>2181</th>\n",
       "      <td>FIT0029</td>\n",
       "      <td>Fitbit Surge Black Clock Small size</td>\n",
       "      <td>Smartwatch with monitoring activity and sleep ...</td>\n",
       "      <td>249.95</td>\n",
       "    </tr>\n",
       "    <tr>\n",
       "      <th>9533</th>\n",
       "      <td>FIT0062</td>\n",
       "      <td>Fitbit Smartwatch Ionic Gray</td>\n",
       "      <td>Fitbit is the sports Smartwatch Ionic waterpro...</td>\n",
       "      <td>349.95</td>\n",
       "    </tr>\n",
       "    <tr>\n",
       "      <th>9534</th>\n",
       "      <td>FIT0064</td>\n",
       "      <td>Fitbit Orange Blue Ionic Smartwatch</td>\n",
       "      <td>Fitbit is the sports Smartwatch Ionic waterpro...</td>\n",
       "      <td>349.95</td>\n",
       "    </tr>\n",
       "    <tr>\n",
       "      <th>9535</th>\n",
       "      <td>FIT0065</td>\n",
       "      <td>Fitbit Smartwatch Ionic Silver</td>\n",
       "      <td>Fitbit is the sports Smartwatch Ionic waterpro...</td>\n",
       "      <td>349.95</td>\n",
       "    </tr>\n",
       "  </tbody>\n",
       "</table>\n",
       "</div>"
      ],
      "text/plain": [
       "          sku                                        name  \\\n",
       "123   FIT0009               Fitbit Aria scale smart white   \n",
       "124   FIT0010               Fitbit Aria scale smart black   \n",
       "270   FIT0013           Fitbit ZIP monitor green activity   \n",
       "699   FIT0023  Fitbit Flex Bracelet navy activity monitor   \n",
       "1454  FIT0024         Fitbit Charge Bracelet Black Size L   \n",
       "1510  FIT0026      Fitbit Charge HR Bracelet Black Size L   \n",
       "2178  FIT0028            Fitbit Surge Figured Black Clock   \n",
       "2181  FIT0029         Fitbit Surge Black Clock Small size   \n",
       "9533  FIT0062                Fitbit Smartwatch Ionic Gray   \n",
       "9534  FIT0064         Fitbit Orange Blue Ionic Smartwatch   \n",
       "9535  FIT0065              Fitbit Smartwatch Ionic Silver   \n",
       "\n",
       "                                                   desc   price  \n",
       "123                   smart scale with WiFi connection.  119.99  \n",
       "124                   smart scale with WiFi connection.  119.99  \n",
       "270           Activity Monitor compact and lightweight.   59.99  \n",
       "699   Control activity bracelet with two interchange...   99.99  \n",
       "1454  Bracelet size L activity and sleep monitor wor...  129.95  \n",
       "1510        Bracelet sport and activity monitors sleep.  149.95  \n",
       "2178  Smartwatch with monitoring activity and sleep ...  249.95  \n",
       "2181  Smartwatch with monitoring activity and sleep ...  249.95  \n",
       "9533  Fitbit is the sports Smartwatch Ionic waterpro...  349.95  \n",
       "9534  Fitbit is the sports Smartwatch Ionic waterpro...  349.95  \n",
       "9535  Fitbit is the sports Smartwatch Ionic waterpro...  349.95  "
      ]
     },
     "execution_count": 24,
     "metadata": {},
     "output_type": "execute_result"
    }
   ],
   "source": [
    "products.loc[products['name'].str.contains(r'^Fit')]"
   ]
  },
  {
   "cell_type": "markdown",
   "id": "cb03a989-1a94-464c-b98e-aa7c4ca0cb04",
   "metadata": {},
   "source": [
    "Learn more how to apply regexp and pandas: \n",
    "\n",
    "* https://kanoki.org/2019/11/12/how-to-use-regex-in-pandas/"
   ]
  },
  {
   "cell_type": "markdown",
   "id": "c615c355-f81a-4430-8adf-9078456cc445",
   "metadata": {},
   "source": [
    "### `*`\tZero or more occurences"
   ]
  },
  {
   "cell_type": "code",
   "execution_count": 25,
   "id": "006b446a-ba27-4367-93b5-ff39db6a4457",
   "metadata": {},
   "outputs": [],
   "source": [
    "similar_words = [\"hey\", \"hay\", \"how\", \"h i j k\", \"h\", \"ha\", \"oops\"]"
   ]
  },
  {
   "cell_type": "code",
   "execution_count": 26,
   "id": "a56a2752-930f-4729-9f8e-49ef36b21244",
   "metadata": {},
   "outputs": [
    {
     "name": "stdout",
     "output_type": "stream",
     "text": [
      "['hey']\n",
      "['hay']\n",
      "['how']\n",
      "['h i j k']\n",
      "['h']\n",
      "['ha']\n",
      "[]\n"
     ]
    }
   ],
   "source": [
    "# use \".\" to return all words starting with \"h\"\n",
    "for word in similar_words:\n",
    "    print(re.findall(\"h.*\", word))"
   ]
  },
  {
   "cell_type": "code",
   "execution_count": 27,
   "id": "22744473-02b5-4098-b31a-0b8cd209ef58",
   "metadata": {},
   "outputs": [
    {
     "name": "stdout",
     "output_type": "stream",
     "text": [
      "Full HD video surveillance camera with 180 degrees and night vision compatible HomeKit\n"
     ]
    },
    {
     "data": {
      "text/plain": [
       "['vid', 've', 'vis']"
      ]
     },
     "execution_count": 27,
     "metadata": {},
     "output_type": "execute_result"
    }
   ],
   "source": [
    "print(prod_descr)\n",
    "re.findall(\"vi*\\S\", prod_descr)"
   ]
  },
  {
   "cell_type": "code",
   "execution_count": 28,
   "id": "24bc3426-1f4f-4b3f-8966-f343628c9a88",
   "metadata": {},
   "outputs": [
    {
     "data": {
      "text/plain": [
       "['video', 'veillance', 'vision']"
      ]
     },
     "execution_count": 28,
     "metadata": {},
     "output_type": "execute_result"
    }
   ],
   "source": [
    "# Another way to show\n",
    "re.findall(\"vi*\\w+\", prod_descr)\n",
    "# \\w: Returns a match where the string contains any word characters \n",
    "#    (characters from a to Z, digits from 0-9, and the underscore _ character)\n",
    "# +: One or more occurrences"
   ]
  },
  {
   "cell_type": "markdown",
   "id": "f85e3643-bc19-4009-a986-cdc257fb546a",
   "metadata": {},
   "source": [
    "### Examples into dataframes"
   ]
  },
  {
   "cell_type": "code",
   "execution_count": 29,
   "id": "c832326e-f6cc-448d-a892-dc4fa981db0d",
   "metadata": {},
   "outputs": [
    {
     "name": "stderr",
     "output_type": "stream",
     "text": [
      "<ipython-input-29-0095c638ed2f>:4: UserWarning: This pattern has match groups. To actually get the groups, use str.extract.\n",
      "  .loc[products['name'].str.contains(r'(body|Body)')]\n"
     ]
    },
    {
     "data": {
      "text/html": [
       "<div>\n",
       "<style scoped>\n",
       "    .dataframe tbody tr th:only-of-type {\n",
       "        vertical-align: middle;\n",
       "    }\n",
       "\n",
       "    .dataframe tbody tr th {\n",
       "        vertical-align: top;\n",
       "    }\n",
       "\n",
       "    .dataframe thead th {\n",
       "        text-align: right;\n",
       "    }\n",
       "</style>\n",
       "<table border=\"1\" class=\"dataframe\">\n",
       "  <thead>\n",
       "    <tr style=\"text-align: right;\">\n",
       "      <th></th>\n",
       "      <th>sku</th>\n",
       "      <th>name</th>\n",
       "      <th>desc</th>\n",
       "      <th>price</th>\n",
       "    </tr>\n",
       "  </thead>\n",
       "  <tbody>\n",
       "    <tr>\n",
       "      <th>9630</th>\n",
       "      <td>BOD0009</td>\n",
       "      <td>BodyGuardz TrainR Pro 8/7/6 iPhone Case with A...</td>\n",
       "      <td>Advanced holster included sports armband for i...</td>\n",
       "      <td>39.99</td>\n",
       "    </tr>\n",
       "    <tr>\n",
       "      <th>10293</th>\n",
       "      <td>BOD0007</td>\n",
       "      <td>BodyGuardz TrainR Pro X iPhone Case with Armba...</td>\n",
       "      <td>Advanced holster included sports armband for i...</td>\n",
       "      <td>39.99</td>\n",
       "    </tr>\n",
       "    <tr>\n",
       "      <th>5225</th>\n",
       "      <td>GTE0075</td>\n",
       "      <td>G-Technology G-DOCK ev Body only USB3.0</td>\n",
       "      <td>Housing with connection USB3.0 compatible with...</td>\n",
       "      <td>107.99</td>\n",
       "    </tr>\n",
       "    <tr>\n",
       "      <th>6017</th>\n",
       "      <td>LMP0023</td>\n",
       "      <td>LMP battery MacBook Pro 17 \"Unibody Early / Mi...</td>\n",
       "      <td>replacement battery compatible with MacBook Pr...</td>\n",
       "      <td>129.99</td>\n",
       "    </tr>\n",
       "    <tr>\n",
       "      <th>4621</th>\n",
       "      <td>NTE0104</td>\n",
       "      <td>NewerTech NuPower 95 W Battery for MacBook Pro...</td>\n",
       "      <td>internal battery MacBook Pro 17-inch Unibody 2011</td>\n",
       "      <td>131.99</td>\n",
       "    </tr>\n",
       "  </tbody>\n",
       "</table>\n",
       "</div>"
      ],
      "text/plain": [
       "           sku                                               name  \\\n",
       "9630   BOD0009  BodyGuardz TrainR Pro 8/7/6 iPhone Case with A...   \n",
       "10293  BOD0007  BodyGuardz TrainR Pro X iPhone Case with Armba...   \n",
       "5225   GTE0075            G-Technology G-DOCK ev Body only USB3.0   \n",
       "6017   LMP0023  LMP battery MacBook Pro 17 \"Unibody Early / Mi...   \n",
       "4621   NTE0104  NewerTech NuPower 95 W Battery for MacBook Pro...   \n",
       "\n",
       "                                                    desc   price  \n",
       "9630   Advanced holster included sports armband for i...   39.99  \n",
       "10293  Advanced holster included sports armband for i...   39.99  \n",
       "5225   Housing with connection USB3.0 compatible with...  107.99  \n",
       "6017   replacement battery compatible with MacBook Pr...  129.99  \n",
       "4621   internal battery MacBook Pro 17-inch Unibody 2011  131.99  "
      ]
     },
     "execution_count": 29,
     "metadata": {},
     "output_type": "execute_result"
    }
   ],
   "source": [
    "# I would like to filter all the names that contain body\n",
    "(\n",
    "products\n",
    "    .loc[products['name'].str.contains(r'(body|Body)')]\n",
    "    .sort_values('name').head(5))"
   ]
  },
  {
   "cell_type": "code",
   "execution_count": 30,
   "id": "522e5412-3306-4ae2-b8f2-d38f1a6f3518",
   "metadata": {},
   "outputs": [
    {
     "name": "stderr",
     "output_type": "stream",
     "text": [
      "<ipython-input-30-820f94f05924>:4: UserWarning: This pattern has match groups. To actually get the groups, use str.extract.\n",
      "  .loc[products['name'].str.contains(r'(b|B)ody')]\n"
     ]
    },
    {
     "data": {
      "text/html": [
       "<div>\n",
       "<style scoped>\n",
       "    .dataframe tbody tr th:only-of-type {\n",
       "        vertical-align: middle;\n",
       "    }\n",
       "\n",
       "    .dataframe tbody tr th {\n",
       "        vertical-align: top;\n",
       "    }\n",
       "\n",
       "    .dataframe thead th {\n",
       "        text-align: right;\n",
       "    }\n",
       "</style>\n",
       "<table border=\"1\" class=\"dataframe\">\n",
       "  <thead>\n",
       "    <tr style=\"text-align: right;\">\n",
       "      <th></th>\n",
       "      <th>sku</th>\n",
       "      <th>name</th>\n",
       "      <th>desc</th>\n",
       "      <th>price</th>\n",
       "    </tr>\n",
       "  </thead>\n",
       "  <tbody>\n",
       "    <tr>\n",
       "      <th>9630</th>\n",
       "      <td>BOD0009</td>\n",
       "      <td>BodyGuardz TrainR Pro 8/7/6 iPhone Case with A...</td>\n",
       "      <td>Advanced holster included sports armband for i...</td>\n",
       "      <td>39.99</td>\n",
       "    </tr>\n",
       "    <tr>\n",
       "      <th>10293</th>\n",
       "      <td>BOD0007</td>\n",
       "      <td>BodyGuardz TrainR Pro X iPhone Case with Armba...</td>\n",
       "      <td>Advanced holster included sports armband for i...</td>\n",
       "      <td>39.99</td>\n",
       "    </tr>\n",
       "    <tr>\n",
       "      <th>5225</th>\n",
       "      <td>GTE0075</td>\n",
       "      <td>G-Technology G-DOCK ev Body only USB3.0</td>\n",
       "      <td>Housing with connection USB3.0 compatible with...</td>\n",
       "      <td>107.99</td>\n",
       "    </tr>\n",
       "    <tr>\n",
       "      <th>6017</th>\n",
       "      <td>LMP0023</td>\n",
       "      <td>LMP battery MacBook Pro 17 \"Unibody Early / Mi...</td>\n",
       "      <td>replacement battery compatible with MacBook Pr...</td>\n",
       "      <td>129.99</td>\n",
       "    </tr>\n",
       "    <tr>\n",
       "      <th>4621</th>\n",
       "      <td>NTE0104</td>\n",
       "      <td>NewerTech NuPower 95 W Battery for MacBook Pro...</td>\n",
       "      <td>internal battery MacBook Pro 17-inch Unibody 2011</td>\n",
       "      <td>131.99</td>\n",
       "    </tr>\n",
       "  </tbody>\n",
       "</table>\n",
       "</div>"
      ],
      "text/plain": [
       "           sku                                               name  \\\n",
       "9630   BOD0009  BodyGuardz TrainR Pro 8/7/6 iPhone Case with A...   \n",
       "10293  BOD0007  BodyGuardz TrainR Pro X iPhone Case with Armba...   \n",
       "5225   GTE0075            G-Technology G-DOCK ev Body only USB3.0   \n",
       "6017   LMP0023  LMP battery MacBook Pro 17 \"Unibody Early / Mi...   \n",
       "4621   NTE0104  NewerTech NuPower 95 W Battery for MacBook Pro...   \n",
       "\n",
       "                                                    desc   price  \n",
       "9630   Advanced holster included sports armband for i...   39.99  \n",
       "10293  Advanced holster included sports armband for i...   39.99  \n",
       "5225   Housing with connection USB3.0 compatible with...  107.99  \n",
       "6017   replacement battery compatible with MacBook Pr...  129.99  \n",
       "4621   internal battery MacBook Pro 17-inch Unibody 2011  131.99  "
      ]
     },
     "execution_count": 30,
     "metadata": {},
     "output_type": "execute_result"
    }
   ],
   "source": [
    "# CHALLENGE: how can you reduce the previous regexp expression?\n",
    "(\n",
    "products\n",
    "    .loc[products['name'].str.contains(r'(b|B)ody')]\n",
    "    .sort_values('name').head(5))"
   ]
  },
  {
   "cell_type": "markdown",
   "id": "672399e9-289c-4009-8d18-9abaada6e1d3",
   "metadata": {},
   "source": [
    "### Compile regular expressions"
   ]
  },
  {
   "cell_type": "code",
   "execution_count": 32,
   "id": "7ba9bce0-5c70-4d4d-a635-a21dbf3cdbf0",
   "metadata": {},
   "outputs": [
    {
     "name": "stderr",
     "output_type": "stream",
     "text": [
      "<ipython-input-32-bae410dbd2ba>:27: UserWarning: This pattern has match groups. To actually get the groups, use str.extract.\n",
      "  (x['desc'].str.contains(regexp, regex=True)), label, x['category'])))\n"
     ]
    },
    {
     "data": {
      "text/plain": [
       "unknown        6432\n",
       "protect        1131\n",
       "case            850\n",
       "refurbished     522\n",
       "cable           409\n",
       "strap           292\n",
       "stand           279\n",
       "battery         265\n",
       "headset         149\n",
       "camera          126\n",
       "watch            88\n",
       "mouse            36\n",
       "Name: category, dtype: int64"
      ]
     },
     "execution_count": 32,
     "metadata": {},
     "output_type": "execute_result"
    }
   ],
   "source": [
    "# the last will be the first ones\n",
    "regexp_dict = {\n",
    "    'ipod':'^.{0,7}apple ipod',\n",
    "    'case':'(case|funda|housing|casing|folder)',\n",
    "    'cable':'cable|connector|Lightning to USB|Wall socket|power strip',\n",
    "    'battery':'battery',\n",
    "    'headset':'(headset|headphones)',\n",
    "    'mouse':'(mouse|trackpad)',\n",
    "    'stand':'(stand|support)',\n",
    "    'protect':'(protect|cover|sleeve|Screensaver|shell)',\n",
    "    'watch':'(^.{0,6}apple watch|smartwatch|smart watch)',\n",
    "    'camera':'camera',\n",
    "    'refurbished':'(refurbished|reconditioned|like new)',\n",
    "    'strap':'strap|armband|belt|bracelet'\n",
    "}\n",
    "\n",
    "temp = products.copy().assign(category = 'unknown')\n",
    "\n",
    "import numpy as np\n",
    "\n",
    "for label, value in regexp_dict.items(): \n",
    "    regexp = re.compile(value, flags=re.IGNORECASE)    \n",
    "    temp = (\n",
    "    temp\n",
    "        .assign(\n",
    "            category = lambda x: np.where(\n",
    "                (x['desc'].str.contains(regexp, regex=True)), label, x['category'])))\n",
    "\n",
    "temp['category'].value_counts()"
   ]
  },
  {
   "cell_type": "code",
   "execution_count": 34,
   "id": "41b00097-26f2-4001-883c-616f7e3a5b6d",
   "metadata": {},
   "outputs": [
    {
     "data": {
      "text/html": [
       "<div>\n",
       "<style scoped>\n",
       "    .dataframe tbody tr th:only-of-type {\n",
       "        vertical-align: middle;\n",
       "    }\n",
       "\n",
       "    .dataframe tbody tr th {\n",
       "        vertical-align: top;\n",
       "    }\n",
       "\n",
       "    .dataframe thead th {\n",
       "        text-align: right;\n",
       "    }\n",
       "</style>\n",
       "<table border=\"1\" class=\"dataframe\">\n",
       "  <thead>\n",
       "    <tr style=\"text-align: right;\">\n",
       "      <th></th>\n",
       "      <th>sku</th>\n",
       "      <th>name</th>\n",
       "      <th>desc</th>\n",
       "      <th>price</th>\n",
       "      <th>category</th>\n",
       "    </tr>\n",
       "  </thead>\n",
       "  <tbody>\n",
       "    <tr>\n",
       "      <th>0</th>\n",
       "      <td>RAI0007</td>\n",
       "      <td>Silver Rain Design mStand Support</td>\n",
       "      <td>Aluminum support compatible with all MacBook</td>\n",
       "      <td>59.99</td>\n",
       "      <td>stand</td>\n",
       "    </tr>\n",
       "    <tr>\n",
       "      <th>1</th>\n",
       "      <td>APP0023</td>\n",
       "      <td>Apple Mac Keyboard Keypad Spanish</td>\n",
       "      <td>USB ultrathin keyboard Apple Mac Spanish.</td>\n",
       "      <td>59.00</td>\n",
       "      <td>unknown</td>\n",
       "    </tr>\n",
       "    <tr>\n",
       "      <th>2</th>\n",
       "      <td>APP0025</td>\n",
       "      <td>Mighty Mouse Apple Mouse for Mac</td>\n",
       "      <td>mouse Apple USB cable.</td>\n",
       "      <td>59.00</td>\n",
       "      <td>mouse</td>\n",
       "    </tr>\n",
       "    <tr>\n",
       "      <th>3</th>\n",
       "      <td>APP0072</td>\n",
       "      <td>Apple Dock to USB Cable iPhone and iPod white</td>\n",
       "      <td>IPhone dock and USB Cable Apple iPod.</td>\n",
       "      <td>25.00</td>\n",
       "      <td>cable</td>\n",
       "    </tr>\n",
       "    <tr>\n",
       "      <th>4</th>\n",
       "      <td>KIN0007</td>\n",
       "      <td>Mac Memory Kingston 2GB 667MHz DDR2 SO-DIMM</td>\n",
       "      <td>2GB RAM Mac mini and iMac (2006/07) MacBook Pr...</td>\n",
       "      <td>34.99</td>\n",
       "      <td>unknown</td>\n",
       "    </tr>\n",
       "    <tr>\n",
       "      <th>...</th>\n",
       "      <td>...</td>\n",
       "      <td>...</td>\n",
       "      <td>...</td>\n",
       "      <td>...</td>\n",
       "      <td>...</td>\n",
       "    </tr>\n",
       "    <tr>\n",
       "      <th>10574</th>\n",
       "      <td>BEL0376</td>\n",
       "      <td>Belkin Travel Support Apple Watch Black</td>\n",
       "      <td>compact and portable stand vertically or horiz...</td>\n",
       "      <td>29.99</td>\n",
       "      <td>stand</td>\n",
       "    </tr>\n",
       "    <tr>\n",
       "      <th>10575</th>\n",
       "      <td>THU0060</td>\n",
       "      <td>Enroute Thule 14L Backpack MacBook 13 \"Black</td>\n",
       "      <td>Backpack with capacity of 14 liter compartment...</td>\n",
       "      <td>69.95</td>\n",
       "      <td>case</td>\n",
       "    </tr>\n",
       "    <tr>\n",
       "      <th>10576</th>\n",
       "      <td>THU0061</td>\n",
       "      <td>Enroute Thule 14L Backpack MacBook 13 \"Blue</td>\n",
       "      <td>Backpack with capacity of 14 liter compartment...</td>\n",
       "      <td>69.95</td>\n",
       "      <td>case</td>\n",
       "    </tr>\n",
       "    <tr>\n",
       "      <th>10577</th>\n",
       "      <td>THU0062</td>\n",
       "      <td>Enroute Thule 14L Backpack MacBook 13 \"Red</td>\n",
       "      <td>Backpack with capacity of 14 liter compartment...</td>\n",
       "      <td>69.95</td>\n",
       "      <td>case</td>\n",
       "    </tr>\n",
       "    <tr>\n",
       "      <th>10578</th>\n",
       "      <td>THU0063</td>\n",
       "      <td>Enroute Thule 14L Backpack MacBook 13 \"Green</td>\n",
       "      <td>Backpack with capacity of 14 liter compartment...</td>\n",
       "      <td>69.95</td>\n",
       "      <td>case</td>\n",
       "    </tr>\n",
       "  </tbody>\n",
       "</table>\n",
       "<p>10579 rows × 5 columns</p>\n",
       "</div>"
      ],
      "text/plain": [
       "           sku                                           name  \\\n",
       "0      RAI0007              Silver Rain Design mStand Support   \n",
       "1      APP0023              Apple Mac Keyboard Keypad Spanish   \n",
       "2      APP0025               Mighty Mouse Apple Mouse for Mac   \n",
       "3      APP0072  Apple Dock to USB Cable iPhone and iPod white   \n",
       "4      KIN0007    Mac Memory Kingston 2GB 667MHz DDR2 SO-DIMM   \n",
       "...        ...                                            ...   \n",
       "10574  BEL0376        Belkin Travel Support Apple Watch Black   \n",
       "10575  THU0060   Enroute Thule 14L Backpack MacBook 13 \"Black   \n",
       "10576  THU0061    Enroute Thule 14L Backpack MacBook 13 \"Blue   \n",
       "10577  THU0062     Enroute Thule 14L Backpack MacBook 13 \"Red   \n",
       "10578  THU0063   Enroute Thule 14L Backpack MacBook 13 \"Green   \n",
       "\n",
       "                                                    desc  price category  \n",
       "0           Aluminum support compatible with all MacBook  59.99    stand  \n",
       "1              USB ultrathin keyboard Apple Mac Spanish.  59.00  unknown  \n",
       "2                                 mouse Apple USB cable.  59.00    mouse  \n",
       "3                  IPhone dock and USB Cable Apple iPod.  25.00    cable  \n",
       "4      2GB RAM Mac mini and iMac (2006/07) MacBook Pr...  34.99  unknown  \n",
       "...                                                  ...    ...      ...  \n",
       "10574  compact and portable stand vertically or horiz...  29.99    stand  \n",
       "10575  Backpack with capacity of 14 liter compartment...  69.95     case  \n",
       "10576  Backpack with capacity of 14 liter compartment...  69.95     case  \n",
       "10577  Backpack with capacity of 14 liter compartment...  69.95     case  \n",
       "10578  Backpack with capacity of 14 liter compartment...  69.95     case  \n",
       "\n",
       "[10579 rows x 5 columns]"
      ]
     },
     "execution_count": 34,
     "metadata": {},
     "output_type": "execute_result"
    }
   ],
   "source": [
    "temp"
   ]
  },
  {
   "cell_type": "code",
   "execution_count": null,
   "id": "46602ef1-1813-4c83-a152-f962c91db905",
   "metadata": {},
   "outputs": [],
   "source": [
    "(\n",
    "producgts\n",
    ")"
   ]
  }
 ],
 "metadata": {
  "kernelspec": {
   "display_name": "Python 3",
   "language": "python",
   "name": "python3"
  },
  "language_info": {
   "codemirror_mode": {
    "name": "ipython",
    "version": 3
   },
   "file_extension": ".py",
   "mimetype": "text/x-python",
   "name": "python",
   "nbconvert_exporter": "python",
   "pygments_lexer": "ipython3",
   "version": "3.8.8"
  }
 },
 "nbformat": 4,
 "nbformat_minor": 5
}
