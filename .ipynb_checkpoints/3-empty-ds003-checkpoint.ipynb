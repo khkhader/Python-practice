{
 "cells": [
  {
   "cell_type": "markdown",
   "id": "21e8f32b",
   "metadata": {},
   "source": [
    "# Data cleaning and merging dataframes"
   ]
  },
  {
   "cell_type": "markdown",
   "id": "4e1694f0",
   "metadata": {},
   "source": [
    "## Loading multiple datasets"
   ]
  },
  {
   "cell_type": "markdown",
   "id": "79de9439",
   "metadata": {},
   "source": [
    "### Classical way\n",
    "\n",
    "Reading file by file"
   ]
  },
  {
   "cell_type": "code",
   "execution_count": 24,
   "id": "11df155e",
   "metadata": {},
   "outputs": [],
   "source": [
    "import pandas as pd\n",
    "\n",
    "path = '../data/eniac/'\n",
    "orderlines = pd.read_csv(path + 'orderlines.csv')\n",
    "orders = pd.read_csv(path + 'orders.csv')\n",
    "brands = pd.read_csv(path + 'brands.csv')\n",
    "products = pd.read_csv(path + 'products.csv')"
   ]
  },
  {
   "cell_type": "code",
   "execution_count": 47,
   "id": "e4cb46c8-c077-4748-b32b-48603beb3634",
   "metadata": {},
   "outputs": [
    {
     "data": {
      "text/plain": [
       "'../data/eniac/orderlines.csv'"
      ]
     },
     "execution_count": 47,
     "metadata": {},
     "output_type": "execute_result"
    }
   ],
   "source": [
    "path + 'orderlines.csv'"
   ]
  },
  {
   "cell_type": "markdown",
   "id": "8c5649d3",
   "metadata": {},
   "source": [
    "### Another way\n",
    "\n",
    "Using `os` and a loop to read all the files from a directory. It's also possible to read only files with a certain extension (like `.csv`):"
   ]
  },
  {
   "cell_type": "code",
   "execution_count": 5,
   "id": "31bdd072-f82b-4e2c-ae2f-725505d60d21",
   "metadata": {},
   "outputs": [],
   "source": [
    "import pandas as pd\n",
    "import os"
   ]
  },
  {
   "cell_type": "code",
   "execution_count": 100,
   "id": "e1235749-89c3-46a8-af39-7bf731ebe432",
   "metadata": {},
   "outputs": [
    {
     "data": {
      "text/plain": [
       "('./',\n",
       " ['empty-notebooks', '.ipynb_checkpoints'],\n",
       " ['4-initial-exploration-visualisations.ipynb',\n",
       "  '0-markdown.ipynb',\n",
       "  '3-data-quality-and-merges.ipynb',\n",
       "  '1-data-exploration.ipynb',\n",
       "  'create-product-categories.ipynb',\n",
       "  '2-data-aggregation.ipynb',\n",
       "  '3-data-quality-and-merges-guillem.ipynb',\n",
       "  'Archive.zip',\n",
       "  '2-data-aggregation-guillem.ipynb',\n",
       "  '5-category-creation-and-pandas-pipe.ipynb'])"
      ]
     },
     "execution_count": 100,
     "metadata": {},
     "output_type": "execute_result"
    }
   ],
   "source": [
    "next(os.walk('./'))"
   ]
  },
  {
   "cell_type": "code",
   "execution_count": 6,
   "id": "b69d3b17",
   "metadata": {},
   "outputs": [],
   "source": [
    "path = '../data/eniac/'\n",
    "path, dirs, files = next(os.walk(path))\n",
    "#print(files)\n",
    "\n",
    "# remove non-csv files\n",
    "for file in files:\n",
    "    if not file.endswith(\"csv\"):\n",
    "        files.remove(file)"
   ]
  },
  {
   "cell_type": "code",
   "execution_count": 7,
   "id": "2c358a4b-c756-4277-a768-02e1b61c4d34",
   "metadata": {},
   "outputs": [
    {
     "data": {
      "text/plain": [
       "['products.csv', 'orders.csv', 'orderlines.csv', 'brands.csv']"
      ]
     },
     "execution_count": 7,
     "metadata": {},
     "output_type": "execute_result"
    }
   ],
   "source": [
    "files"
   ]
  },
  {
   "cell_type": "code",
   "execution_count": 8,
   "id": "3245475f-5d76-40ff-877f-ab209bee9adb",
   "metadata": {},
   "outputs": [
    {
     "data": {
      "text/plain": [
       "(293983, 7)"
      ]
     },
     "execution_count": 8,
     "metadata": {},
     "output_type": "execute_result"
    }
   ],
   "source": [
    "orderlines.shape"
   ]
  },
  {
   "cell_type": "code",
   "execution_count": 9,
   "id": "cc0028a1",
   "metadata": {},
   "outputs": [],
   "source": [
    "# create empty list \n",
    "df_list = []\n",
    "\n",
    "# append datasets to the list\n",
    "for file in files:\n",
    "    temp_df = pd.read_csv(path + file, sep=',')\n",
    "    df_list.append(temp_df)\n",
    "\n",
    "# show results\n",
    "products, orders, orderlines, brands = df_list[0], df_list[1], df_list[2], df_list[3]"
   ]
  },
  {
   "cell_type": "markdown",
   "id": "3f23e939",
   "metadata": {},
   "source": [
    "## Data quality\n",
    "\n",
    "### Missing values"
   ]
  },
  {
   "cell_type": "code",
   "execution_count": 2,
   "id": "9f65de28-707e-4431-8c1f-d014e043fa8f",
   "metadata": {},
   "outputs": [
    {
     "name": "stdout",
     "output_type": "stream",
     "text": [
      "Hi\n",
      "I am a new line\n"
     ]
    }
   ],
   "source": [
    "print(\"Hi\\nI am a new line\")"
   ]
  },
  {
   "cell_type": "code",
   "execution_count": 79,
   "id": "aef55b39-3ab7-467f-8637-12006d587112",
   "metadata": {},
   "outputs": [],
   "source": [
    "# products.loc[products.isna().sum(axis=1) > 0].head(30)"
   ]
  },
  {
   "cell_type": "code",
   "execution_count": 10,
   "id": "c0c8035f",
   "metadata": {},
   "outputs": [],
   "source": [
    "def check_missing_values(data): \n",
    "    print('Missing values:' + '\\n' + str(data.isna().sum()))"
   ]
  },
  {
   "cell_type": "code",
   "execution_count": 11,
   "id": "b551e4b0",
   "metadata": {},
   "outputs": [
    {
     "name": "stdout",
     "output_type": "stream",
     "text": [
      "File name: products.csv\n",
      "Missing values:\n",
      "sku             0\n",
      "name            0\n",
      "desc            7\n",
      "price          46\n",
      "promo_price     0\n",
      "in_stock        0\n",
      "type           50\n",
      "dtype: int64\n",
      "\n",
      "\n",
      "File name: orders.csv\n",
      "Missing values:\n",
      "order_id        0\n",
      "created_date    0\n",
      "total_paid      5\n",
      "state           0\n",
      "dtype: int64\n",
      "\n",
      "\n",
      "File name: orderlines.csv\n",
      "Missing values:\n",
      "id                  0\n",
      "id_order            0\n",
      "product_id          0\n",
      "product_quantity    0\n",
      "sku                 0\n",
      "unit_price          0\n",
      "date                0\n",
      "dtype: int64\n",
      "\n",
      "\n",
      "File name: brands.csv\n",
      "Missing values:\n",
      "short    0\n",
      "long     0\n",
      "dtype: int64\n",
      "\n",
      "\n"
     ]
    }
   ],
   "source": [
    "for i in range(len(df_list)): \n",
    "    print(f'File name: {files[i]}')\n",
    "    check_missing_values(df_list[i])\n",
    "    print('\\n')"
   ]
  },
  {
   "cell_type": "markdown",
   "id": "9ab7a58e",
   "metadata": {},
   "source": [
    "### Duplicates"
   ]
  },
  {
   "cell_type": "code",
   "execution_count": 95,
   "id": "550f122e-78a2-40d8-8bed-6a55543d88af",
   "metadata": {},
   "outputs": [
    {
     "data": {
      "text/html": [
       "<div>\n",
       "<style scoped>\n",
       "    .dataframe tbody tr th:only-of-type {\n",
       "        vertical-align: middle;\n",
       "    }\n",
       "\n",
       "    .dataframe tbody tr th {\n",
       "        vertical-align: top;\n",
       "    }\n",
       "\n",
       "    .dataframe thead th {\n",
       "        text-align: right;\n",
       "    }\n",
       "</style>\n",
       "<table border=\"1\" class=\"dataframe\">\n",
       "  <thead>\n",
       "    <tr style=\"text-align: right;\">\n",
       "      <th></th>\n",
       "      <th>x</th>\n",
       "    </tr>\n",
       "  </thead>\n",
       "  <tbody>\n",
       "    <tr>\n",
       "      <th>0</th>\n",
       "      <td>1</td>\n",
       "    </tr>\n",
       "    <tr>\n",
       "      <th>1</th>\n",
       "      <td>2</td>\n",
       "    </tr>\n",
       "    <tr>\n",
       "      <th>2</th>\n",
       "      <td>3</td>\n",
       "    </tr>\n",
       "    <tr>\n",
       "      <th>3</th>\n",
       "      <td>3</td>\n",
       "    </tr>\n",
       "    <tr>\n",
       "      <th>4</th>\n",
       "      <td>2</td>\n",
       "    </tr>\n",
       "    <tr>\n",
       "      <th>5</th>\n",
       "      <td>3</td>\n",
       "    </tr>\n",
       "  </tbody>\n",
       "</table>\n",
       "</div>"
      ],
      "text/plain": [
       "   x\n",
       "0  1\n",
       "1  2\n",
       "2  3\n",
       "3  3\n",
       "4  2\n",
       "5  3"
      ]
     },
     "execution_count": 95,
     "metadata": {},
     "output_type": "execute_result"
    }
   ],
   "source": [
    "pd.DataFrame({\n",
    "    'x':[1,2,3,3,2,3]\n",
    "})"
   ]
  },
  {
   "cell_type": "code",
   "execution_count": 92,
   "id": "81617dfd-6e60-45c8-aded-ffa9455807f0",
   "metadata": {},
   "outputs": [
    {
     "data": {
      "text/plain": [
       "3"
      ]
     },
     "execution_count": 92,
     "metadata": {},
     "output_type": "execute_result"
    }
   ],
   "source": [
    "pd.DataFrame({\n",
    "    'x':[1,2,3,3,2,3]\n",
    "}).duplicated().sum()"
   ]
  },
  {
   "cell_type": "code",
   "execution_count": 84,
   "id": "3656281e-8611-4e83-ba7d-2aed764ceb12",
   "metadata": {},
   "outputs": [
    {
     "data": {
      "text/plain": [
       "8746"
      ]
     },
     "execution_count": 84,
     "metadata": {},
     "output_type": "execute_result"
    }
   ],
   "source": [
    "products.duplicated().sum() "
   ]
  },
  {
   "cell_type": "code",
   "execution_count": 86,
   "id": "90d07f0a-1715-4744-808c-77c33b8f2f3e",
   "metadata": {},
   "outputs": [
    {
     "data": {
      "text/plain": [
       "(19326, 7)"
      ]
     },
     "execution_count": 86,
     "metadata": {},
     "output_type": "execute_result"
    }
   ],
   "source": [
    "products.shape"
   ]
  },
  {
   "cell_type": "code",
   "execution_count": 87,
   "id": "42c3871d-c2a2-47b6-9d8c-fba5608c17ba",
   "metadata": {},
   "outputs": [
    {
     "data": {
      "text/plain": [
       "0.4525509676084032"
      ]
     },
     "execution_count": 87,
     "metadata": {},
     "output_type": "execute_result"
    }
   ],
   "source": [
    "8746 / 19326"
   ]
  },
  {
   "cell_type": "code",
   "execution_count": 12,
   "id": "d978f721",
   "metadata": {},
   "outputs": [],
   "source": [
    "def check_duplicates(data): \n",
    "    print('Duplicated rows: ', data.duplicated().sum())"
   ]
  },
  {
   "cell_type": "code",
   "execution_count": 13,
   "id": "4baa932c",
   "metadata": {},
   "outputs": [
    {
     "name": "stdout",
     "output_type": "stream",
     "text": [
      "File name: products.csv\n",
      "Missing values:\n",
      "sku             0\n",
      "name            0\n",
      "desc            7\n",
      "price          46\n",
      "promo_price     0\n",
      "in_stock        0\n",
      "type           50\n",
      "dtype: int64\n",
      "Duplicated rows:  8746\n",
      "\n",
      "\n",
      "File name: orders.csv\n",
      "Missing values:\n",
      "order_id        0\n",
      "created_date    0\n",
      "total_paid      5\n",
      "state           0\n",
      "dtype: int64\n",
      "Duplicated rows:  0\n",
      "\n",
      "\n",
      "File name: orderlines.csv\n",
      "Missing values:\n",
      "id                  0\n",
      "id_order            0\n",
      "product_id          0\n",
      "product_quantity    0\n",
      "sku                 0\n",
      "unit_price          0\n",
      "date                0\n",
      "dtype: int64\n",
      "Duplicated rows:  0\n",
      "\n",
      "\n",
      "File name: brands.csv\n",
      "Missing values:\n",
      "short    0\n",
      "long     0\n",
      "dtype: int64\n",
      "Duplicated rows:  0\n",
      "\n",
      "\n"
     ]
    }
   ],
   "source": [
    "for i in range(len(df_list)): \n",
    "    print(f'File name: {files[i]}')\n",
    "    check_missing_values(df_list[i])\n",
    "    check_duplicates(df_list[i])\n",
    "    print('\\n')"
   ]
  },
  {
   "cell_type": "markdown",
   "id": "f0e78d55",
   "metadata": {},
   "source": [
    "Based on our initial exploration we need to find a way to deal with our missing values. \n",
    "\n",
    "Do we have other problems like data inconsistency? \n",
    "\n",
    "* Example: problems with the `price` column in the `orderlines` dataframe."
   ]
  },
  {
   "cell_type": "markdown",
   "id": "ae389f33",
   "metadata": {},
   "source": [
    "### Data inconsistency (data types)"
   ]
  },
  {
   "cell_type": "code",
   "execution_count": 14,
   "id": "9a300894",
   "metadata": {},
   "outputs": [
    {
     "name": "stdout",
     "output_type": "stream",
     "text": [
      "File name: products.csv\n",
      "Missing values:\n",
      "sku             0\n",
      "name            0\n",
      "desc            7\n",
      "price          46\n",
      "promo_price     0\n",
      "in_stock        0\n",
      "type           50\n",
      "dtype: int64\n",
      "Duplicated rows:  8746\n",
      "<class 'pandas.core.frame.DataFrame'>\n",
      "RangeIndex: 19326 entries, 0 to 19325\n",
      "Data columns (total 7 columns):\n",
      " #   Column       Non-Null Count  Dtype \n",
      "---  ------       --------------  ----- \n",
      " 0   sku          19326 non-null  object\n",
      " 1   name         19326 non-null  object\n",
      " 2   desc         19319 non-null  object\n",
      " 3   price        19280 non-null  object\n",
      " 4   promo_price  19326 non-null  object\n",
      " 5   in_stock     19326 non-null  int64 \n",
      " 6   type         19276 non-null  object\n",
      "dtypes: int64(1), object(6)\n",
      "memory usage: 1.0+ MB\n",
      "\n",
      "\n",
      "File name: orders.csv\n",
      "Missing values:\n",
      "order_id        0\n",
      "created_date    0\n",
      "total_paid      5\n",
      "state           0\n",
      "dtype: int64\n",
      "Duplicated rows:  0\n",
      "<class 'pandas.core.frame.DataFrame'>\n",
      "RangeIndex: 226909 entries, 0 to 226908\n",
      "Data columns (total 4 columns):\n",
      " #   Column        Non-Null Count   Dtype  \n",
      "---  ------        --------------   -----  \n",
      " 0   order_id      226909 non-null  int64  \n",
      " 1   created_date  226909 non-null  object \n",
      " 2   total_paid    226904 non-null  float64\n",
      " 3   state         226909 non-null  object \n",
      "dtypes: float64(1), int64(1), object(2)\n",
      "memory usage: 6.9+ MB\n",
      "\n",
      "\n",
      "File name: orderlines.csv\n",
      "Missing values:\n",
      "id                  0\n",
      "id_order            0\n",
      "product_id          0\n",
      "product_quantity    0\n",
      "sku                 0\n",
      "unit_price          0\n",
      "date                0\n",
      "dtype: int64\n",
      "Duplicated rows:  0\n",
      "<class 'pandas.core.frame.DataFrame'>\n",
      "RangeIndex: 293983 entries, 0 to 293982\n",
      "Data columns (total 7 columns):\n",
      " #   Column            Non-Null Count   Dtype \n",
      "---  ------            --------------   ----- \n",
      " 0   id                293983 non-null  int64 \n",
      " 1   id_order          293983 non-null  int64 \n",
      " 2   product_id        293983 non-null  int64 \n",
      " 3   product_quantity  293983 non-null  int64 \n",
      " 4   sku               293983 non-null  object\n",
      " 5   unit_price        293983 non-null  object\n",
      " 6   date              293983 non-null  object\n",
      "dtypes: int64(4), object(3)\n",
      "memory usage: 15.7+ MB\n",
      "\n",
      "\n",
      "File name: brands.csv\n",
      "Missing values:\n",
      "short    0\n",
      "long     0\n",
      "dtype: int64\n",
      "Duplicated rows:  0\n",
      "<class 'pandas.core.frame.DataFrame'>\n",
      "RangeIndex: 187 entries, 0 to 186\n",
      "Data columns (total 2 columns):\n",
      " #   Column  Non-Null Count  Dtype \n",
      "---  ------  --------------  ----- \n",
      " 0   short   187 non-null    object\n",
      " 1   long    187 non-null    object\n",
      "dtypes: object(2)\n",
      "memory usage: 3.0+ KB\n",
      "\n",
      "\n"
     ]
    }
   ],
   "source": [
    "for i in range(len(df_list)): \n",
    "    \n",
    "    print(f'File name: {files[i]}')\n",
    "    check_missing_values(df_list[i])\n",
    "    check_duplicates(df_list[i])\n",
    "    df_list[i].info()\n",
    "    print('\\n')"
   ]
  },
  {
   "cell_type": "markdown",
   "id": "0a8061d8",
   "metadata": {},
   "source": [
    "Some aspects that do not make a lot of sense:\n",
    "\n",
    "* **products**: \n",
    "    * `price` and `promo_price` are loaded as objects. They should be floats. \n",
    "    * Quite a lot of missing values: \n",
    "        * `description`: 7 missing values. Maybe that could be inferred from the product name?\n",
    "        * `price`: the missing values could be filled from the `orderlines` dataset. But first we will need to clean it. \n",
    "\n",
    "    \n",
    "* **orders**: \n",
    "    * `created_date` should have a date data type. Then, it would be a good quality check to see if the created date for `orders` mathces with the created dates for `orderlines`. \n",
    "    \n",
    "    \n",
    "* **orderlines**: \n",
    "    * `unit_price` has to be a float, something wrong there. \n",
    "    * `date` has to be transformed to a date data type. Then, as we said, check that it with matches with the `orders` dataset. \n",
    "    \n",
    "    \n",
    "* **brands**: looks fine. \n",
    "\n",
    "\n",
    "Where do we have to start? Since `orders` and `orderlines` seem very crucial to the analysis, we will start by checking that they match."
   ]
  },
  {
   "cell_type": "markdown",
   "id": "07656c82",
   "metadata": {},
   "source": [
    "## Cleaning orders"
   ]
  },
  {
   "cell_type": "code",
   "execution_count": 15,
   "id": "94109f5b",
   "metadata": {},
   "outputs": [],
   "source": [
    "# change date datatype\n",
    "orders['created_date'] = pd.to_datetime(orders['created_date'])"
   ]
  },
  {
   "cell_type": "markdown",
   "id": "aee64b3c",
   "metadata": {},
   "source": [
    "Some data I could extract from here to do a data quality check with `orderlines`: \n",
    "\n",
    "* the sum of `total_paid` on both datasets should be the same\n",
    "* the initial and last date should be the same"
   ]
  },
  {
   "cell_type": "code",
   "execution_count": 16,
   "id": "0f0697a9",
   "metadata": {},
   "outputs": [
    {
     "data": {
      "text/plain": [
       "Timestamp('2017-01-01 00:07:19')"
      ]
     },
     "execution_count": 16,
     "metadata": {},
     "output_type": "execute_result"
    }
   ],
   "source": [
    "min(orders['created_date'])"
   ]
  },
  {
   "cell_type": "code",
   "execution_count": 17,
   "id": "8b151e57",
   "metadata": {},
   "outputs": [
    {
     "data": {
      "text/plain": [
       "Timestamp('2018-03-14 13:58:36')"
      ]
     },
     "execution_count": 17,
     "metadata": {},
     "output_type": "execute_result"
    }
   ],
   "source": [
    "max(orders['created_date'])"
   ]
  },
  {
   "cell_type": "code",
   "execution_count": 18,
   "id": "da1d28d1",
   "metadata": {},
   "outputs": [
    {
     "data": {
      "text/plain": [
       "nan"
      ]
     },
     "execution_count": 18,
     "metadata": {},
     "output_type": "execute_result"
    }
   ],
   "source": [
    "sum(orders['total_paid'])"
   ]
  },
  {
   "cell_type": "markdown",
   "id": "7edc7d07",
   "metadata": {},
   "source": [
    "I forgot to deal with missing values on our orders dataset!"
   ]
  },
  {
   "cell_type": "code",
   "execution_count": 13,
   "id": "82ad135e",
   "metadata": {},
   "outputs": [
    {
     "data": {
      "text/plain": [
       "order_id        0\n",
       "created_date    0\n",
       "total_paid      5\n",
       "state           0\n",
       "dtype: int64"
      ]
     },
     "execution_count": 13,
     "metadata": {},
     "output_type": "execute_result"
    }
   ],
   "source": [
    "orders.isna().sum()"
   ]
  },
  {
   "cell_type": "code",
   "execution_count": 14,
   "id": "d4940c1c",
   "metadata": {},
   "outputs": [
    {
     "data": {
      "text/html": [
       "<div>\n",
       "<style scoped>\n",
       "    .dataframe tbody tr th:only-of-type {\n",
       "        vertical-align: middle;\n",
       "    }\n",
       "\n",
       "    .dataframe tbody tr th {\n",
       "        vertical-align: top;\n",
       "    }\n",
       "\n",
       "    .dataframe thead th {\n",
       "        text-align: right;\n",
       "    }\n",
       "</style>\n",
       "<table border=\"1\" class=\"dataframe\">\n",
       "  <thead>\n",
       "    <tr style=\"text-align: right;\">\n",
       "      <th></th>\n",
       "      <th>order_id</th>\n",
       "      <th>created_date</th>\n",
       "      <th>total_paid</th>\n",
       "      <th>state</th>\n",
       "    </tr>\n",
       "  </thead>\n",
       "  <tbody>\n",
       "    <tr>\n",
       "      <th>127701</th>\n",
       "      <td>427314</td>\n",
       "      <td>2017-11-20 18:54:39</td>\n",
       "      <td>NaN</td>\n",
       "      <td>Pending</td>\n",
       "    </tr>\n",
       "    <tr>\n",
       "      <th>132013</th>\n",
       "      <td>431655</td>\n",
       "      <td>2017-11-22 12:15:24</td>\n",
       "      <td>NaN</td>\n",
       "      <td>Pending</td>\n",
       "    </tr>\n",
       "    <tr>\n",
       "      <th>147316</th>\n",
       "      <td>447411</td>\n",
       "      <td>2017-11-27 10:32:37</td>\n",
       "      <td>NaN</td>\n",
       "      <td>Pending</td>\n",
       "    </tr>\n",
       "    <tr>\n",
       "      <th>148833</th>\n",
       "      <td>448966</td>\n",
       "      <td>2017-11-27 18:54:15</td>\n",
       "      <td>NaN</td>\n",
       "      <td>Pending</td>\n",
       "    </tr>\n",
       "    <tr>\n",
       "      <th>149434</th>\n",
       "      <td>449596</td>\n",
       "      <td>2017-11-27 21:52:08</td>\n",
       "      <td>NaN</td>\n",
       "      <td>Pending</td>\n",
       "    </tr>\n",
       "  </tbody>\n",
       "</table>\n",
       "</div>"
      ],
      "text/plain": [
       "        order_id        created_date  total_paid    state\n",
       "127701    427314 2017-11-20 18:54:39         NaN  Pending\n",
       "132013    431655 2017-11-22 12:15:24         NaN  Pending\n",
       "147316    447411 2017-11-27 10:32:37         NaN  Pending\n",
       "148833    448966 2017-11-27 18:54:15         NaN  Pending\n",
       "149434    449596 2017-11-27 21:52:08         NaN  Pending"
      ]
     },
     "execution_count": 14,
     "metadata": {},
     "output_type": "execute_result"
    }
   ],
   "source": [
    "# let's filter them out\n",
    "orders.loc[orders['total_paid'].isna()]"
   ]
  },
  {
   "cell_type": "code",
   "execution_count": 26,
   "id": "4f3fe23d-06b5-4f66-82a1-ce28f6508425",
   "metadata": {},
   "outputs": [
    {
     "data": {
      "text/plain": [
       "(226909, 4)"
      ]
     },
     "execution_count": 26,
     "metadata": {},
     "output_type": "execute_result"
    }
   ],
   "source": [
    "orders.shape"
   ]
  },
  {
   "cell_type": "markdown",
   "id": "5eee1066",
   "metadata": {},
   "source": [
    "These orders have a state of \"Pending\", so I can exclude them from our dataset. We are interested on the completed ones."
   ]
  },
  {
   "cell_type": "code",
   "execution_count": 28,
   "id": "5bdda057",
   "metadata": {},
   "outputs": [],
   "source": [
    "orders.dropna(inplace=True)"
   ]
  },
  {
   "cell_type": "code",
   "execution_count": 29,
   "id": "2a1ae347-fee0-47aa-a9a7-7cfe2be150ee",
   "metadata": {},
   "outputs": [
    {
     "data": {
      "text/plain": [
       "(226904, 4)"
      ]
     },
     "execution_count": 29,
     "metadata": {},
     "output_type": "execute_result"
    }
   ],
   "source": [
    "orders.shape"
   ]
  },
  {
   "cell_type": "markdown",
   "id": "735237aa",
   "metadata": {},
   "source": [
    "Now my dataset is clean. And the total paid is: "
   ]
  },
  {
   "cell_type": "code",
   "execution_count": 23,
   "id": "46d4e428",
   "metadata": {},
   "outputs": [
    {
     "data": {
      "text/plain": [
       "129159615.07000001"
      ]
     },
     "execution_count": 23,
     "metadata": {},
     "output_type": "execute_result"
    }
   ],
   "source": [
    "orders['total_paid'].sum()"
   ]
  },
  {
   "cell_type": "markdown",
   "id": "244a0534",
   "metadata": {},
   "source": [
    "## Cleaning orderlines"
   ]
  },
  {
   "cell_type": "markdown",
   "id": "601b301a",
   "metadata": {},
   "source": [
    "First let's transform our date time. "
   ]
  },
  {
   "cell_type": "code",
   "execution_count": 17,
   "id": "33600b3d",
   "metadata": {},
   "outputs": [],
   "source": [
    "orderlines['date'] = pd.to_datetime(orderlines['date'])"
   ]
  },
  {
   "cell_type": "code",
   "execution_count": 18,
   "id": "d785530b",
   "metadata": {},
   "outputs": [
    {
     "data": {
      "text/plain": [
       "Timestamp('2017-01-01 00:07:19')"
      ]
     },
     "execution_count": 18,
     "metadata": {},
     "output_type": "execute_result"
    }
   ],
   "source": [
    "min(orderlines['date'])\n",
    "# orders: Timestamp('2017-01-01 00:07:19')"
   ]
  },
  {
   "cell_type": "code",
   "execution_count": 19,
   "id": "358ec479",
   "metadata": {},
   "outputs": [
    {
     "data": {
      "text/plain": [
       "Timestamp('2018-03-14 13:58:36')"
      ]
     },
     "execution_count": 19,
     "metadata": {},
     "output_type": "execute_result"
    }
   ],
   "source": [
    "max(orderlines['date'])\n",
    "# orders: Timestamp('2018-03-14 13:58:36')"
   ]
  },
  {
   "cell_type": "markdown",
   "id": "d373d513",
   "metadata": {},
   "source": [
    "Yes, it seems it match. Now let's test our total_paid. \n",
    "\n",
    "To get this value, we will have to calculate a new column, total price for each row. It would be `product_quantity` * `unit_price`. I can not multiply a two different types of data. So I will have to transform the unit price to a numeric one. "
   ]
  },
  {
   "cell_type": "code",
   "execution_count": 51,
   "id": "3b6b799c-775c-4436-b4b1-9d5494bbf61c",
   "metadata": {},
   "outputs": [
    {
     "data": {
      "text/html": [
       "<div>\n",
       "<style scoped>\n",
       "    .dataframe tbody tr th:only-of-type {\n",
       "        vertical-align: middle;\n",
       "    }\n",
       "\n",
       "    .dataframe tbody tr th {\n",
       "        vertical-align: top;\n",
       "    }\n",
       "\n",
       "    .dataframe thead th {\n",
       "        text-align: right;\n",
       "    }\n",
       "</style>\n",
       "<table border=\"1\" class=\"dataframe\">\n",
       "  <thead>\n",
       "    <tr style=\"text-align: right;\">\n",
       "      <th></th>\n",
       "      <th>id</th>\n",
       "      <th>id_order</th>\n",
       "      <th>product_id</th>\n",
       "      <th>product_quantity</th>\n",
       "      <th>sku</th>\n",
       "      <th>unit_price</th>\n",
       "      <th>date</th>\n",
       "    </tr>\n",
       "  </thead>\n",
       "  <tbody>\n",
       "    <tr>\n",
       "      <th>6248</th>\n",
       "      <td>1136197</td>\n",
       "      <td>305330</td>\n",
       "      <td>0</td>\n",
       "      <td>1</td>\n",
       "      <td>MOS0174</td>\n",
       "      <td>29.99</td>\n",
       "      <td>2017-01-09 00:56:26</td>\n",
       "    </tr>\n",
       "    <tr>\n",
       "      <th>190079</th>\n",
       "      <td>1479793</td>\n",
       "      <td>456449</td>\n",
       "      <td>0</td>\n",
       "      <td>1</td>\n",
       "      <td>BEL0264</td>\n",
       "      <td>14.99</td>\n",
       "      <td>2017-12-06 20:27:28</td>\n",
       "    </tr>\n",
       "    <tr>\n",
       "      <th>156455</th>\n",
       "      <td>1427646</td>\n",
       "      <td>434546</td>\n",
       "      <td>0</td>\n",
       "      <td>1</td>\n",
       "      <td>APP2086</td>\n",
       "      <td>1.178.59</td>\n",
       "      <td>2017-11-23 13:18:29</td>\n",
       "    </tr>\n",
       "    <tr>\n",
       "      <th>12157</th>\n",
       "      <td>1148536</td>\n",
       "      <td>310553</td>\n",
       "      <td>0</td>\n",
       "      <td>1</td>\n",
       "      <td>APP1611</td>\n",
       "      <td>1.631.99</td>\n",
       "      <td>2017-01-16 16:56:23</td>\n",
       "    </tr>\n",
       "    <tr>\n",
       "      <th>50345</th>\n",
       "      <td>1222002</td>\n",
       "      <td>343219</td>\n",
       "      <td>0</td>\n",
       "      <td>1</td>\n",
       "      <td>WAC0228</td>\n",
       "      <td>879.99</td>\n",
       "      <td>2017-04-04 17:20:10</td>\n",
       "    </tr>\n",
       "  </tbody>\n",
       "</table>\n",
       "</div>"
      ],
      "text/plain": [
       "             id  id_order  product_id  product_quantity      sku unit_price  \\\n",
       "6248    1136197    305330           0                 1  MOS0174      29.99   \n",
       "190079  1479793    456449           0                 1  BEL0264      14.99   \n",
       "156455  1427646    434546           0                 1  APP2086   1.178.59   \n",
       "12157   1148536    310553           0                 1  APP1611   1.631.99   \n",
       "50345   1222002    343219           0                 1  WAC0228     879.99   \n",
       "\n",
       "                       date  \n",
       "6248    2017-01-09 00:56:26  \n",
       "190079  2017-12-06 20:27:28  \n",
       "156455  2017-11-23 13:18:29  \n",
       "12157   2017-01-16 16:56:23  \n",
       "50345   2017-04-04 17:20:10  "
      ]
     },
     "execution_count": 51,
     "metadata": {},
     "output_type": "execute_result"
    }
   ],
   "source": [
    "orderlines.sample(5)"
   ]
  },
  {
   "cell_type": "code",
   "execution_count": 20,
   "id": "8f6c560b",
   "metadata": {},
   "outputs": [
    {
     "ename": "ValueError",
     "evalue": "Unable to parse string \"1.137.99\" at position 6",
     "output_type": "error",
     "traceback": [
      "\u001b[0;31m---------------------------------------------------------------------------\u001b[0m",
      "\u001b[0;31mValueError\u001b[0m                                Traceback (most recent call last)",
      "\u001b[0;32m~/opt/anaconda3/lib/python3.8/site-packages/pandas/_libs/lib.pyx\u001b[0m in \u001b[0;36mpandas._libs.lib.maybe_convert_numeric\u001b[0;34m()\u001b[0m\n",
      "\u001b[0;31mValueError\u001b[0m: Unable to parse string \"1.137.99\"",
      "\nDuring handling of the above exception, another exception occurred:\n",
      "\u001b[0;31mValueError\u001b[0m                                Traceback (most recent call last)",
      "\u001b[0;32m<ipython-input-20-b7e873fbc801>\u001b[0m in \u001b[0;36m<module>\u001b[0;34m\u001b[0m\n\u001b[0;32m----> 1\u001b[0;31m \u001b[0morderlines\u001b[0m\u001b[0;34m[\u001b[0m\u001b[0;34m'product_quantity'\u001b[0m\u001b[0;34m]\u001b[0m \u001b[0;34m*\u001b[0m \u001b[0mpd\u001b[0m\u001b[0;34m.\u001b[0m\u001b[0mto_numeric\u001b[0m\u001b[0;34m(\u001b[0m\u001b[0morderlines\u001b[0m\u001b[0;34m[\u001b[0m\u001b[0;34m'unit_price'\u001b[0m\u001b[0;34m]\u001b[0m\u001b[0;34m)\u001b[0m\u001b[0;34m\u001b[0m\u001b[0;34m\u001b[0m\u001b[0m\n\u001b[0m",
      "\u001b[0;32m~/opt/anaconda3/lib/python3.8/site-packages/pandas/core/tools/numeric.py\u001b[0m in \u001b[0;36mto_numeric\u001b[0;34m(arg, errors, downcast)\u001b[0m\n\u001b[1;32m    181\u001b[0m         \u001b[0mcoerce_numeric\u001b[0m \u001b[0;34m=\u001b[0m \u001b[0merrors\u001b[0m \u001b[0;32mnot\u001b[0m \u001b[0;32min\u001b[0m \u001b[0;34m(\u001b[0m\u001b[0;34m\"ignore\"\u001b[0m\u001b[0;34m,\u001b[0m \u001b[0;34m\"raise\"\u001b[0m\u001b[0;34m)\u001b[0m\u001b[0;34m\u001b[0m\u001b[0;34m\u001b[0m\u001b[0m\n\u001b[1;32m    182\u001b[0m         \u001b[0;32mtry\u001b[0m\u001b[0;34m:\u001b[0m\u001b[0;34m\u001b[0m\u001b[0;34m\u001b[0m\u001b[0m\n\u001b[0;32m--> 183\u001b[0;31m             values, _ = lib.maybe_convert_numeric(\n\u001b[0m\u001b[1;32m    184\u001b[0m                 \u001b[0mvalues\u001b[0m\u001b[0;34m,\u001b[0m \u001b[0mset\u001b[0m\u001b[0;34m(\u001b[0m\u001b[0;34m)\u001b[0m\u001b[0;34m,\u001b[0m \u001b[0mcoerce_numeric\u001b[0m\u001b[0;34m=\u001b[0m\u001b[0mcoerce_numeric\u001b[0m\u001b[0;34m\u001b[0m\u001b[0;34m\u001b[0m\u001b[0m\n\u001b[1;32m    185\u001b[0m             )\n",
      "\u001b[0;32m~/opt/anaconda3/lib/python3.8/site-packages/pandas/_libs/lib.pyx\u001b[0m in \u001b[0;36mpandas._libs.lib.maybe_convert_numeric\u001b[0;34m()\u001b[0m\n",
      "\u001b[0;31mValueError\u001b[0m: Unable to parse string \"1.137.99\" at position 6"
     ]
    }
   ],
   "source": [
    "orderlines['product_quantity'] * pd.to_numeric(orderlines['unit_price'])"
   ]
  },
  {
   "cell_type": "markdown",
   "id": "5dd71aa4",
   "metadata": {},
   "source": [
    "While trying to transform this column to numeric an error appears. From the error message, \"Unable to parse string \"1.137.99\" at position 6\", it seems that our dataset has some problems with the thousands separators: they were encoded as dots, and python only admits one dot per number: the _decimal_ separator!\n",
    "\n",
    "There are a lot of different ways to solve this problem. The first thing I will do is to count how many dots appear for each number using string operations. If price has more than one dot, I will consider it corrupted. "
   ]
  },
  {
   "cell_type": "code",
   "execution_count": 55,
   "id": "ec0f9507-f0c1-4dea-8e44-8ecde33d6a21",
   "metadata": {},
   "outputs": [],
   "source": [
    "# we create a copy of the dataset\n",
    "ol_temp = orderlines.copy()"
   ]
  },
  {
   "cell_type": "code",
   "execution_count": 60,
   "id": "ce64cfe9-b8f5-4f7c-8ffe-64594c6acd90",
   "metadata": {},
   "outputs": [
    {
     "data": {
      "text/plain": [
       "0         1\n",
       "1         1\n",
       "2         1\n",
       "3         1\n",
       "4         1\n",
       "         ..\n",
       "293978    1\n",
       "293979    1\n",
       "293980    1\n",
       "293981    1\n",
       "293982    1\n",
       "Name: unit_price, Length: 293983, dtype: int64"
      ]
     },
     "execution_count": 60,
     "metadata": {},
     "output_type": "execute_result"
    }
   ],
   "source": [
    "orderlines['unit_price'].str.count('\\.')"
   ]
  },
  {
   "cell_type": "code",
   "execution_count": 61,
   "id": "3095ecea",
   "metadata": {},
   "outputs": [
    {
     "data": {
      "text/html": [
       "<div>\n",
       "<style scoped>\n",
       "    .dataframe tbody tr th:only-of-type {\n",
       "        vertical-align: middle;\n",
       "    }\n",
       "\n",
       "    .dataframe tbody tr th {\n",
       "        vertical-align: top;\n",
       "    }\n",
       "\n",
       "    .dataframe thead th {\n",
       "        text-align: right;\n",
       "    }\n",
       "</style>\n",
       "<table border=\"1\" class=\"dataframe\">\n",
       "  <thead>\n",
       "    <tr style=\"text-align: right;\">\n",
       "      <th></th>\n",
       "      <th>id</th>\n",
       "      <th>id_order</th>\n",
       "      <th>product_id</th>\n",
       "      <th>product_quantity</th>\n",
       "      <th>sku</th>\n",
       "      <th>unit_price</th>\n",
       "      <th>date</th>\n",
       "      <th>dots</th>\n",
       "    </tr>\n",
       "  </thead>\n",
       "  <tbody>\n",
       "    <tr>\n",
       "      <th>0</th>\n",
       "      <td>1119109</td>\n",
       "      <td>299539</td>\n",
       "      <td>0</td>\n",
       "      <td>1</td>\n",
       "      <td>OTT0133</td>\n",
       "      <td>18.99</td>\n",
       "      <td>2017-01-01 00:07:19</td>\n",
       "      <td>1</td>\n",
       "    </tr>\n",
       "    <tr>\n",
       "      <th>1</th>\n",
       "      <td>1119110</td>\n",
       "      <td>299540</td>\n",
       "      <td>0</td>\n",
       "      <td>1</td>\n",
       "      <td>LGE0043</td>\n",
       "      <td>399.00</td>\n",
       "      <td>2017-01-01 00:19:45</td>\n",
       "      <td>1</td>\n",
       "    </tr>\n",
       "    <tr>\n",
       "      <th>2</th>\n",
       "      <td>1119111</td>\n",
       "      <td>299541</td>\n",
       "      <td>0</td>\n",
       "      <td>1</td>\n",
       "      <td>PAR0071</td>\n",
       "      <td>474.05</td>\n",
       "      <td>2017-01-01 00:20:57</td>\n",
       "      <td>1</td>\n",
       "    </tr>\n",
       "  </tbody>\n",
       "</table>\n",
       "</div>"
      ],
      "text/plain": [
       "        id  id_order  product_id  product_quantity      sku unit_price  \\\n",
       "0  1119109    299539           0                 1  OTT0133      18.99   \n",
       "1  1119110    299540           0                 1  LGE0043     399.00   \n",
       "2  1119111    299541           0                 1  PAR0071     474.05   \n",
       "\n",
       "                  date  dots  \n",
       "0  2017-01-01 00:07:19     1  \n",
       "1  2017-01-01 00:19:45     1  \n",
       "2  2017-01-01 00:20:57     1  "
      ]
     },
     "execution_count": 61,
     "metadata": {},
     "output_type": "execute_result"
    }
   ],
   "source": [
    "# create a new column with the amount of dots in the unit_price column\n",
    "ol_temp['dots'] = orderlines['unit_price'].str.count('\\.')\n",
    "ol_temp.head(3)"
   ]
  },
  {
   "cell_type": "code",
   "execution_count": 62,
   "id": "02508672-13d9-487b-a28a-7a55a44bbd08",
   "metadata": {},
   "outputs": [
    {
     "data": {
      "text/html": [
       "<div>\n",
       "<style scoped>\n",
       "    .dataframe tbody tr th:only-of-type {\n",
       "        vertical-align: middle;\n",
       "    }\n",
       "\n",
       "    .dataframe tbody tr th {\n",
       "        vertical-align: top;\n",
       "    }\n",
       "\n",
       "    .dataframe thead th {\n",
       "        text-align: right;\n",
       "    }\n",
       "</style>\n",
       "<table border=\"1\" class=\"dataframe\">\n",
       "  <thead>\n",
       "    <tr style=\"text-align: right;\">\n",
       "      <th></th>\n",
       "      <th>id</th>\n",
       "      <th>id_order</th>\n",
       "      <th>product_id</th>\n",
       "      <th>product_quantity</th>\n",
       "      <th>sku</th>\n",
       "      <th>unit_price</th>\n",
       "      <th>date</th>\n",
       "      <th>dots</th>\n",
       "    </tr>\n",
       "  </thead>\n",
       "  <tbody>\n",
       "    <tr>\n",
       "      <th>6</th>\n",
       "      <td>1119115</td>\n",
       "      <td>299544</td>\n",
       "      <td>0</td>\n",
       "      <td>1</td>\n",
       "      <td>APP1582</td>\n",
       "      <td>1.137.99</td>\n",
       "      <td>2017-01-01 01:17:21</td>\n",
       "      <td>2</td>\n",
       "    </tr>\n",
       "    <tr>\n",
       "      <th>11</th>\n",
       "      <td>1119126</td>\n",
       "      <td>299549</td>\n",
       "      <td>0</td>\n",
       "      <td>1</td>\n",
       "      <td>PAC0929</td>\n",
       "      <td>2.565.99</td>\n",
       "      <td>2017-01-01 02:07:42</td>\n",
       "      <td>2</td>\n",
       "    </tr>\n",
       "    <tr>\n",
       "      <th>15</th>\n",
       "      <td>1119131</td>\n",
       "      <td>299553</td>\n",
       "      <td>0</td>\n",
       "      <td>1</td>\n",
       "      <td>APP1854</td>\n",
       "      <td>3.278.99</td>\n",
       "      <td>2017-01-01 02:14:47</td>\n",
       "      <td>2</td>\n",
       "    </tr>\n",
       "    <tr>\n",
       "      <th>43</th>\n",
       "      <td>1119195</td>\n",
       "      <td>299582</td>\n",
       "      <td>0</td>\n",
       "      <td>1</td>\n",
       "      <td>PAC0961</td>\n",
       "      <td>2.616.99</td>\n",
       "      <td>2017-01-01 08:54:00</td>\n",
       "      <td>2</td>\n",
       "    </tr>\n",
       "    <tr>\n",
       "      <th>59</th>\n",
       "      <td>1119214</td>\n",
       "      <td>299596</td>\n",
       "      <td>0</td>\n",
       "      <td>1</td>\n",
       "      <td>PAC1599</td>\n",
       "      <td>2.873.99</td>\n",
       "      <td>2017-01-01 09:53:11</td>\n",
       "      <td>2</td>\n",
       "    </tr>\n",
       "    <tr>\n",
       "      <th>...</th>\n",
       "      <td>...</td>\n",
       "      <td>...</td>\n",
       "      <td>...</td>\n",
       "      <td>...</td>\n",
       "      <td>...</td>\n",
       "      <td>...</td>\n",
       "      <td>...</td>\n",
       "      <td>...</td>\n",
       "    </tr>\n",
       "    <tr>\n",
       "      <th>293862</th>\n",
       "      <td>1649999</td>\n",
       "      <td>452946</td>\n",
       "      <td>0</td>\n",
       "      <td>1</td>\n",
       "      <td>APP2075</td>\n",
       "      <td>2.999.00</td>\n",
       "      <td>2018-03-14 13:03:33</td>\n",
       "      <td>2</td>\n",
       "    </tr>\n",
       "    <tr>\n",
       "      <th>293887</th>\n",
       "      <td>1650045</td>\n",
       "      <td>527321</td>\n",
       "      <td>0</td>\n",
       "      <td>1</td>\n",
       "      <td>PAC2148</td>\n",
       "      <td>3.497.00</td>\n",
       "      <td>2018-03-14 13:10:15</td>\n",
       "      <td>2</td>\n",
       "    </tr>\n",
       "    <tr>\n",
       "      <th>293889</th>\n",
       "      <td>1650050</td>\n",
       "      <td>527324</td>\n",
       "      <td>0</td>\n",
       "      <td>1</td>\n",
       "      <td>PAC2117</td>\n",
       "      <td>3.075.00</td>\n",
       "      <td>2018-03-14 13:10:56</td>\n",
       "      <td>2</td>\n",
       "    </tr>\n",
       "    <tr>\n",
       "      <th>293911</th>\n",
       "      <td>1650088</td>\n",
       "      <td>527342</td>\n",
       "      <td>0</td>\n",
       "      <td>1</td>\n",
       "      <td>APP2492</td>\n",
       "      <td>1.329.00</td>\n",
       "      <td>2018-03-14 13:24:51</td>\n",
       "      <td>2</td>\n",
       "    </tr>\n",
       "    <tr>\n",
       "      <th>293936</th>\n",
       "      <td>1650135</td>\n",
       "      <td>527364</td>\n",
       "      <td>0</td>\n",
       "      <td>1</td>\n",
       "      <td>APP2491</td>\n",
       "      <td>1.329.00</td>\n",
       "      <td>2018-03-14 13:36:13</td>\n",
       "      <td>2</td>\n",
       "    </tr>\n",
       "  </tbody>\n",
       "</table>\n",
       "<p>36169 rows × 8 columns</p>\n",
       "</div>"
      ],
      "text/plain": [
       "             id  id_order  product_id  product_quantity      sku unit_price  \\\n",
       "6       1119115    299544           0                 1  APP1582   1.137.99   \n",
       "11      1119126    299549           0                 1  PAC0929   2.565.99   \n",
       "15      1119131    299553           0                 1  APP1854   3.278.99   \n",
       "43      1119195    299582           0                 1  PAC0961   2.616.99   \n",
       "59      1119214    299596           0                 1  PAC1599   2.873.99   \n",
       "...         ...       ...         ...               ...      ...        ...   \n",
       "293862  1649999    452946           0                 1  APP2075   2.999.00   \n",
       "293887  1650045    527321           0                 1  PAC2148   3.497.00   \n",
       "293889  1650050    527324           0                 1  PAC2117   3.075.00   \n",
       "293911  1650088    527342           0                 1  APP2492   1.329.00   \n",
       "293936  1650135    527364           0                 1  APP2491   1.329.00   \n",
       "\n",
       "                       date  dots  \n",
       "6       2017-01-01 01:17:21     2  \n",
       "11      2017-01-01 02:07:42     2  \n",
       "15      2017-01-01 02:14:47     2  \n",
       "43      2017-01-01 08:54:00     2  \n",
       "59      2017-01-01 09:53:11     2  \n",
       "...                     ...   ...  \n",
       "293862  2018-03-14 13:03:33     2  \n",
       "293887  2018-03-14 13:10:15     2  \n",
       "293889  2018-03-14 13:10:56     2  \n",
       "293911  2018-03-14 13:24:51     2  \n",
       "293936  2018-03-14 13:36:13     2  \n",
       "\n",
       "[36169 rows x 8 columns]"
      ]
     },
     "execution_count": 62,
     "metadata": {},
     "output_type": "execute_result"
    }
   ],
   "source": [
    "# show the rows with more than one dot\n",
    "ol_temp.query('dots > 1')"
   ]
  },
  {
   "cell_type": "markdown",
   "id": "f3062263",
   "metadata": {},
   "source": [
    "Our theory about the thousands separators is confirmed. How can we solve this problem? \n",
    "\n",
    "My approach would be to remove all the dots for all the unit_prices, and then add a dot before the last 2 digits to all the rows. Then I will transform it into numeric values."
   ]
  },
  {
   "cell_type": "code",
   "execution_count": 67,
   "id": "8460b249-2c85-4794-b4fd-ee7c6e30ce48",
   "metadata": {},
   "outputs": [
    {
     "data": {
      "text/plain": [
       "0          1899\n",
       "1         39900\n",
       "2         47405\n",
       "3          6839\n",
       "4          2374\n",
       "          ...  \n",
       "293978     4299\n",
       "293979    14158\n",
       "293980      999\n",
       "293981     1999\n",
       "293982     1399\n",
       "Name: unit_price, Length: 293983, dtype: object"
      ]
     },
     "execution_count": 67,
     "metadata": {},
     "output_type": "execute_result"
    }
   ],
   "source": [
    "orderlines['unit_price'].str.replace('\\.','', regex=True)"
   ]
  },
  {
   "cell_type": "code",
   "execution_count": 73,
   "id": "7a32bb4d",
   "metadata": {},
   "outputs": [
    {
     "data": {
      "text/html": [
       "<div>\n",
       "<style scoped>\n",
       "    .dataframe tbody tr th:only-of-type {\n",
       "        vertical-align: middle;\n",
       "    }\n",
       "\n",
       "    .dataframe tbody tr th {\n",
       "        vertical-align: top;\n",
       "    }\n",
       "\n",
       "    .dataframe thead th {\n",
       "        text-align: right;\n",
       "    }\n",
       "</style>\n",
       "<table border=\"1\" class=\"dataframe\">\n",
       "  <thead>\n",
       "    <tr style=\"text-align: right;\">\n",
       "      <th></th>\n",
       "      <th>id</th>\n",
       "      <th>id_order</th>\n",
       "      <th>product_id</th>\n",
       "      <th>product_quantity</th>\n",
       "      <th>sku</th>\n",
       "      <th>unit_price</th>\n",
       "      <th>date</th>\n",
       "      <th>unit_price_nd</th>\n",
       "    </tr>\n",
       "  </thead>\n",
       "  <tbody>\n",
       "    <tr>\n",
       "      <th>0</th>\n",
       "      <td>1119109</td>\n",
       "      <td>299539</td>\n",
       "      <td>0</td>\n",
       "      <td>1</td>\n",
       "      <td>OTT0133</td>\n",
       "      <td>18.99</td>\n",
       "      <td>2017-01-01 00:07:19</td>\n",
       "      <td>1899</td>\n",
       "    </tr>\n",
       "    <tr>\n",
       "      <th>1</th>\n",
       "      <td>1119110</td>\n",
       "      <td>299540</td>\n",
       "      <td>0</td>\n",
       "      <td>1</td>\n",
       "      <td>LGE0043</td>\n",
       "      <td>399.00</td>\n",
       "      <td>2017-01-01 00:19:45</td>\n",
       "      <td>39900</td>\n",
       "    </tr>\n",
       "    <tr>\n",
       "      <th>2</th>\n",
       "      <td>1119111</td>\n",
       "      <td>299541</td>\n",
       "      <td>0</td>\n",
       "      <td>1</td>\n",
       "      <td>PAR0071</td>\n",
       "      <td>474.05</td>\n",
       "      <td>2017-01-01 00:20:57</td>\n",
       "      <td>47405</td>\n",
       "    </tr>\n",
       "    <tr>\n",
       "      <th>3</th>\n",
       "      <td>1119112</td>\n",
       "      <td>299542</td>\n",
       "      <td>0</td>\n",
       "      <td>1</td>\n",
       "      <td>WDT0315</td>\n",
       "      <td>68.39</td>\n",
       "      <td>2017-01-01 00:51:40</td>\n",
       "      <td>6839</td>\n",
       "    </tr>\n",
       "    <tr>\n",
       "      <th>4</th>\n",
       "      <td>1119113</td>\n",
       "      <td>299543</td>\n",
       "      <td>0</td>\n",
       "      <td>1</td>\n",
       "      <td>JBL0104</td>\n",
       "      <td>23.74</td>\n",
       "      <td>2017-01-01 01:06:38</td>\n",
       "      <td>2374</td>\n",
       "    </tr>\n",
       "  </tbody>\n",
       "</table>\n",
       "</div>"
      ],
      "text/plain": [
       "        id  id_order  product_id  product_quantity      sku unit_price  \\\n",
       "0  1119109    299539           0                 1  OTT0133      18.99   \n",
       "1  1119110    299540           0                 1  LGE0043     399.00   \n",
       "2  1119111    299541           0                 1  PAR0071     474.05   \n",
       "3  1119112    299542           0                 1  WDT0315      68.39   \n",
       "4  1119113    299543           0                 1  JBL0104      23.74   \n",
       "\n",
       "                  date unit_price_nd  \n",
       "0  2017-01-01 00:07:19          1899  \n",
       "1  2017-01-01 00:19:45         39900  \n",
       "2  2017-01-01 00:20:57         47405  \n",
       "3  2017-01-01 00:51:40          6839  \n",
       "4  2017-01-01 01:06:38          2374  "
      ]
     },
     "execution_count": 73,
     "metadata": {},
     "output_type": "execute_result"
    }
   ],
   "source": [
    "orderlines = orderlines.assign(unit_price_nd = orderlines['unit_price'].str.replace('\\.','', regex=True))\n",
    "orderlines.head(5)"
   ]
  },
  {
   "cell_type": "code",
   "execution_count": 82,
   "id": "22d5a3ca-3b98-4c8f-8d04-c961bfeb732b",
   "metadata": {},
   "outputs": [
    {
     "data": {
      "text/plain": [
       "0    99\n",
       "1    00\n",
       "2    05\n",
       "3    39\n",
       "4    74\n",
       "Name: unit_price_nd, dtype: object"
      ]
     },
     "execution_count": 82,
     "metadata": {},
     "output_type": "execute_result"
    }
   ],
   "source": [
    "orderlines['unit_price_nd'].str[-2:][:5]"
   ]
  },
  {
   "cell_type": "code",
   "execution_count": 83,
   "id": "236b3c75-a38d-4fff-bd4a-0a56cb1f6ac0",
   "metadata": {},
   "outputs": [
    {
     "data": {
      "text/plain": [
       "0     18\n",
       "1    399\n",
       "2    474\n",
       "3     68\n",
       "4     23\n",
       "Name: unit_price_nd, dtype: object"
      ]
     },
     "execution_count": 83,
     "metadata": {},
     "output_type": "execute_result"
    }
   ],
   "source": [
    "orderlines['unit_price_nd'].str[:-2][:5]"
   ]
  },
  {
   "cell_type": "code",
   "execution_count": 85,
   "id": "71a69a53",
   "metadata": {},
   "outputs": [
    {
     "data": {
      "text/html": [
       "<div>\n",
       "<style scoped>\n",
       "    .dataframe tbody tr th:only-of-type {\n",
       "        vertical-align: middle;\n",
       "    }\n",
       "\n",
       "    .dataframe tbody tr th {\n",
       "        vertical-align: top;\n",
       "    }\n",
       "\n",
       "    .dataframe thead th {\n",
       "        text-align: right;\n",
       "    }\n",
       "</style>\n",
       "<table border=\"1\" class=\"dataframe\">\n",
       "  <thead>\n",
       "    <tr style=\"text-align: right;\">\n",
       "      <th></th>\n",
       "      <th>id</th>\n",
       "      <th>id_order</th>\n",
       "      <th>product_id</th>\n",
       "      <th>product_quantity</th>\n",
       "      <th>sku</th>\n",
       "      <th>unit_price</th>\n",
       "      <th>date</th>\n",
       "      <th>unit_price_nd</th>\n",
       "      <th>digits</th>\n",
       "      <th>integers</th>\n",
       "    </tr>\n",
       "  </thead>\n",
       "  <tbody>\n",
       "    <tr>\n",
       "      <th>0</th>\n",
       "      <td>1119109</td>\n",
       "      <td>299539</td>\n",
       "      <td>0</td>\n",
       "      <td>1</td>\n",
       "      <td>OTT0133</td>\n",
       "      <td>18.99</td>\n",
       "      <td>2017-01-01 00:07:19</td>\n",
       "      <td>1899</td>\n",
       "      <td>99</td>\n",
       "      <td>18</td>\n",
       "    </tr>\n",
       "    <tr>\n",
       "      <th>1</th>\n",
       "      <td>1119110</td>\n",
       "      <td>299540</td>\n",
       "      <td>0</td>\n",
       "      <td>1</td>\n",
       "      <td>LGE0043</td>\n",
       "      <td>399.00</td>\n",
       "      <td>2017-01-01 00:19:45</td>\n",
       "      <td>39900</td>\n",
       "      <td>00</td>\n",
       "      <td>399</td>\n",
       "    </tr>\n",
       "    <tr>\n",
       "      <th>2</th>\n",
       "      <td>1119111</td>\n",
       "      <td>299541</td>\n",
       "      <td>0</td>\n",
       "      <td>1</td>\n",
       "      <td>PAR0071</td>\n",
       "      <td>474.05</td>\n",
       "      <td>2017-01-01 00:20:57</td>\n",
       "      <td>47405</td>\n",
       "      <td>05</td>\n",
       "      <td>474</td>\n",
       "    </tr>\n",
       "    <tr>\n",
       "      <th>3</th>\n",
       "      <td>1119112</td>\n",
       "      <td>299542</td>\n",
       "      <td>0</td>\n",
       "      <td>1</td>\n",
       "      <td>WDT0315</td>\n",
       "      <td>68.39</td>\n",
       "      <td>2017-01-01 00:51:40</td>\n",
       "      <td>6839</td>\n",
       "      <td>39</td>\n",
       "      <td>68</td>\n",
       "    </tr>\n",
       "    <tr>\n",
       "      <th>4</th>\n",
       "      <td>1119113</td>\n",
       "      <td>299543</td>\n",
       "      <td>0</td>\n",
       "      <td>1</td>\n",
       "      <td>JBL0104</td>\n",
       "      <td>23.74</td>\n",
       "      <td>2017-01-01 01:06:38</td>\n",
       "      <td>2374</td>\n",
       "      <td>74</td>\n",
       "      <td>23</td>\n",
       "    </tr>\n",
       "  </tbody>\n",
       "</table>\n",
       "</div>"
      ],
      "text/plain": [
       "        id  id_order  product_id  product_quantity      sku unit_price  \\\n",
       "0  1119109    299539           0                 1  OTT0133      18.99   \n",
       "1  1119110    299540           0                 1  LGE0043     399.00   \n",
       "2  1119111    299541           0                 1  PAR0071     474.05   \n",
       "3  1119112    299542           0                 1  WDT0315      68.39   \n",
       "4  1119113    299543           0                 1  JBL0104      23.74   \n",
       "\n",
       "                  date unit_price_nd digits integers  \n",
       "0  2017-01-01 00:07:19          1899     99       18  \n",
       "1  2017-01-01 00:19:45         39900     00      399  \n",
       "2  2017-01-01 00:20:57         47405     05      474  \n",
       "3  2017-01-01 00:51:40          6839     39       68  \n",
       "4  2017-01-01 01:06:38          2374     74       23  "
      ]
     },
     "execution_count": 85,
     "metadata": {},
     "output_type": "execute_result"
    }
   ],
   "source": [
    "orderlines['integers'] = orderlines['unit_price_nd'].str[:-2]\n",
    "orderlines['digits'] = orderlines['unit_price_nd'].str[-2:]\n",
    "orderlines.head()"
   ]
  },
  {
   "cell_type": "code",
   "execution_count": 86,
   "id": "72a67b19",
   "metadata": {},
   "outputs": [
    {
     "data": {
      "text/html": [
       "<div>\n",
       "<style scoped>\n",
       "    .dataframe tbody tr th:only-of-type {\n",
       "        vertical-align: middle;\n",
       "    }\n",
       "\n",
       "    .dataframe tbody tr th {\n",
       "        vertical-align: top;\n",
       "    }\n",
       "\n",
       "    .dataframe thead th {\n",
       "        text-align: right;\n",
       "    }\n",
       "</style>\n",
       "<table border=\"1\" class=\"dataframe\">\n",
       "  <thead>\n",
       "    <tr style=\"text-align: right;\">\n",
       "      <th></th>\n",
       "      <th>id</th>\n",
       "      <th>id_order</th>\n",
       "      <th>product_id</th>\n",
       "      <th>product_quantity</th>\n",
       "      <th>sku</th>\n",
       "      <th>unit_price</th>\n",
       "      <th>date</th>\n",
       "      <th>unit_price_nd</th>\n",
       "      <th>digits</th>\n",
       "      <th>integers</th>\n",
       "      <th>new_unit_price</th>\n",
       "    </tr>\n",
       "  </thead>\n",
       "  <tbody>\n",
       "    <tr>\n",
       "      <th>0</th>\n",
       "      <td>1119109</td>\n",
       "      <td>299539</td>\n",
       "      <td>0</td>\n",
       "      <td>1</td>\n",
       "      <td>OTT0133</td>\n",
       "      <td>18.99</td>\n",
       "      <td>2017-01-01 00:07:19</td>\n",
       "      <td>1899</td>\n",
       "      <td>99</td>\n",
       "      <td>18</td>\n",
       "      <td>18.99</td>\n",
       "    </tr>\n",
       "    <tr>\n",
       "      <th>1</th>\n",
       "      <td>1119110</td>\n",
       "      <td>299540</td>\n",
       "      <td>0</td>\n",
       "      <td>1</td>\n",
       "      <td>LGE0043</td>\n",
       "      <td>399.00</td>\n",
       "      <td>2017-01-01 00:19:45</td>\n",
       "      <td>39900</td>\n",
       "      <td>00</td>\n",
       "      <td>399</td>\n",
       "      <td>399.00</td>\n",
       "    </tr>\n",
       "    <tr>\n",
       "      <th>2</th>\n",
       "      <td>1119111</td>\n",
       "      <td>299541</td>\n",
       "      <td>0</td>\n",
       "      <td>1</td>\n",
       "      <td>PAR0071</td>\n",
       "      <td>474.05</td>\n",
       "      <td>2017-01-01 00:20:57</td>\n",
       "      <td>47405</td>\n",
       "      <td>05</td>\n",
       "      <td>474</td>\n",
       "      <td>474.05</td>\n",
       "    </tr>\n",
       "    <tr>\n",
       "      <th>3</th>\n",
       "      <td>1119112</td>\n",
       "      <td>299542</td>\n",
       "      <td>0</td>\n",
       "      <td>1</td>\n",
       "      <td>WDT0315</td>\n",
       "      <td>68.39</td>\n",
       "      <td>2017-01-01 00:51:40</td>\n",
       "      <td>6839</td>\n",
       "      <td>39</td>\n",
       "      <td>68</td>\n",
       "      <td>68.39</td>\n",
       "    </tr>\n",
       "    <tr>\n",
       "      <th>4</th>\n",
       "      <td>1119113</td>\n",
       "      <td>299543</td>\n",
       "      <td>0</td>\n",
       "      <td>1</td>\n",
       "      <td>JBL0104</td>\n",
       "      <td>23.74</td>\n",
       "      <td>2017-01-01 01:06:38</td>\n",
       "      <td>2374</td>\n",
       "      <td>74</td>\n",
       "      <td>23</td>\n",
       "      <td>23.74</td>\n",
       "    </tr>\n",
       "  </tbody>\n",
       "</table>\n",
       "</div>"
      ],
      "text/plain": [
       "        id  id_order  product_id  product_quantity      sku unit_price  \\\n",
       "0  1119109    299539           0                 1  OTT0133      18.99   \n",
       "1  1119110    299540           0                 1  LGE0043     399.00   \n",
       "2  1119111    299541           0                 1  PAR0071     474.05   \n",
       "3  1119112    299542           0                 1  WDT0315      68.39   \n",
       "4  1119113    299543           0                 1  JBL0104      23.74   \n",
       "\n",
       "                  date unit_price_nd digits integers new_unit_price  \n",
       "0  2017-01-01 00:07:19          1899     99       18          18.99  \n",
       "1  2017-01-01 00:19:45         39900     00      399         399.00  \n",
       "2  2017-01-01 00:20:57         47405     05      474         474.05  \n",
       "3  2017-01-01 00:51:40          6839     39       68          68.39  \n",
       "4  2017-01-01 01:06:38          2374     74       23          23.74  "
      ]
     },
     "execution_count": 86,
     "metadata": {},
     "output_type": "execute_result"
    }
   ],
   "source": [
    "orderlines['new_unit_price'] = orderlines['integers'] + '.' + orderlines['digits']\n",
    "orderlines.head()"
   ]
  },
  {
   "cell_type": "code",
   "execution_count": 87,
   "id": "bc63e1c8-cedd-4409-9d6a-2daf1be19343",
   "metadata": {},
   "outputs": [
    {
     "name": "stdout",
     "output_type": "stream",
     "text": [
      "<class 'pandas.core.frame.DataFrame'>\n",
      "RangeIndex: 293983 entries, 0 to 293982\n",
      "Data columns (total 11 columns):\n",
      " #   Column            Non-Null Count   Dtype \n",
      "---  ------            --------------   ----- \n",
      " 0   id                293983 non-null  int64 \n",
      " 1   id_order          293983 non-null  int64 \n",
      " 2   product_id        293983 non-null  int64 \n",
      " 3   product_quantity  293983 non-null  int64 \n",
      " 4   sku               293983 non-null  object\n",
      " 5   unit_price        293983 non-null  object\n",
      " 6   date              293983 non-null  object\n",
      " 7   unit_price_nd     293983 non-null  object\n",
      " 8   digits            293983 non-null  object\n",
      " 9   integers          293983 non-null  object\n",
      " 10  new_unit_price    293983 non-null  object\n",
      "dtypes: int64(4), object(7)\n",
      "memory usage: 24.7+ MB\n"
     ]
    }
   ],
   "source": [
    "orderlines.info()"
   ]
  },
  {
   "cell_type": "code",
   "execution_count": 88,
   "id": "d1cc1b11",
   "metadata": {},
   "outputs": [
    {
     "name": "stdout",
     "output_type": "stream",
     "text": [
      "<class 'pandas.core.frame.DataFrame'>\n",
      "RangeIndex: 293983 entries, 0 to 293982\n",
      "Data columns (total 11 columns):\n",
      " #   Column            Non-Null Count   Dtype  \n",
      "---  ------            --------------   -----  \n",
      " 0   id                293983 non-null  int64  \n",
      " 1   id_order          293983 non-null  int64  \n",
      " 2   product_id        293983 non-null  int64  \n",
      " 3   product_quantity  293983 non-null  int64  \n",
      " 4   sku               293983 non-null  object \n",
      " 5   unit_price        293983 non-null  float64\n",
      " 6   date              293983 non-null  object \n",
      " 7   unit_price_nd     293983 non-null  object \n",
      " 8   digits            293983 non-null  object \n",
      " 9   integers          293983 non-null  object \n",
      " 10  new_unit_price    293983 non-null  object \n",
      "dtypes: float64(1), int64(4), object(6)\n",
      "memory usage: 24.7+ MB\n"
     ]
    }
   ],
   "source": [
    "# last step is to transform it to numeric\n",
    "orderlines['unit_price'] = pd.to_numeric(orderlines['new_unit_price'])\n",
    "orderlines.info()"
   ]
  },
  {
   "cell_type": "markdown",
   "id": "0d8221b0",
   "metadata": {},
   "source": [
    "Now it is time to see if it is the same than the orders files. "
   ]
  },
  {
   "cell_type": "code",
   "execution_count": 93,
   "id": "9dbdb4d7",
   "metadata": {},
   "outputs": [
    {
     "data": {
      "text/html": [
       "<div>\n",
       "<style scoped>\n",
       "    .dataframe tbody tr th:only-of-type {\n",
       "        vertical-align: middle;\n",
       "    }\n",
       "\n",
       "    .dataframe tbody tr th {\n",
       "        vertical-align: top;\n",
       "    }\n",
       "\n",
       "    .dataframe thead th {\n",
       "        text-align: right;\n",
       "    }\n",
       "</style>\n",
       "<table border=\"1\" class=\"dataframe\">\n",
       "  <thead>\n",
       "    <tr style=\"text-align: right;\">\n",
       "      <th></th>\n",
       "      <th>id</th>\n",
       "      <th>id_order</th>\n",
       "      <th>product_id</th>\n",
       "      <th>product_quantity</th>\n",
       "      <th>sku</th>\n",
       "      <th>unit_price</th>\n",
       "      <th>date</th>\n",
       "      <th>total_price</th>\n",
       "    </tr>\n",
       "  </thead>\n",
       "  <tbody>\n",
       "    <tr>\n",
       "      <th>152040</th>\n",
       "      <td>1420317</td>\n",
       "      <td>431136</td>\n",
       "      <td>0</td>\n",
       "      <td>1</td>\n",
       "      <td>APP0663</td>\n",
       "      <td>229.99</td>\n",
       "      <td>2017-11-22 07:19:00</td>\n",
       "      <td>229.99</td>\n",
       "    </tr>\n",
       "    <tr>\n",
       "      <th>223519</th>\n",
       "      <td>1537171</td>\n",
       "      <td>481882</td>\n",
       "      <td>0</td>\n",
       "      <td>1</td>\n",
       "      <td>MOS0237</td>\n",
       "      <td>19.99</td>\n",
       "      <td>2018-01-04 13:58:12</td>\n",
       "      <td>19.99</td>\n",
       "    </tr>\n",
       "    <tr>\n",
       "      <th>262063</th>\n",
       "      <td>1599354</td>\n",
       "      <td>505585</td>\n",
       "      <td>0</td>\n",
       "      <td>1</td>\n",
       "      <td>APP0662</td>\n",
       "      <td>159.00</td>\n",
       "      <td>2018-02-04 19:13:25</td>\n",
       "      <td>159.00</td>\n",
       "    </tr>\n",
       "    <tr>\n",
       "      <th>62056</th>\n",
       "      <td>1242302</td>\n",
       "      <td>353038</td>\n",
       "      <td>0</td>\n",
       "      <td>1</td>\n",
       "      <td>APP0927</td>\n",
       "      <td>14.99</td>\n",
       "      <td>2017-05-05 16:21:30</td>\n",
       "      <td>14.99</td>\n",
       "    </tr>\n",
       "    <tr>\n",
       "      <th>57280</th>\n",
       "      <td>1234070</td>\n",
       "      <td>349114</td>\n",
       "      <td>0</td>\n",
       "      <td>2</td>\n",
       "      <td>SAM0116</td>\n",
       "      <td>114.99</td>\n",
       "      <td>2017-04-24 09:31:58</td>\n",
       "      <td>229.98</td>\n",
       "    </tr>\n",
       "  </tbody>\n",
       "</table>\n",
       "</div>"
      ],
      "text/plain": [
       "             id  id_order  product_id  product_quantity      sku  unit_price  \\\n",
       "152040  1420317    431136           0                 1  APP0663      229.99   \n",
       "223519  1537171    481882           0                 1  MOS0237       19.99   \n",
       "262063  1599354    505585           0                 1  APP0662      159.00   \n",
       "62056   1242302    353038           0                 1  APP0927       14.99   \n",
       "57280   1234070    349114           0                 2  SAM0116      114.99   \n",
       "\n",
       "                       date  total_price  \n",
       "152040  2017-11-22 07:19:00       229.99  \n",
       "223519  2018-01-04 13:58:12        19.99  \n",
       "262063  2018-02-04 19:13:25       159.00  \n",
       "62056   2017-05-05 16:21:30        14.99  \n",
       "57280   2017-04-24 09:31:58       229.98  "
      ]
     },
     "execution_count": 93,
     "metadata": {},
     "output_type": "execute_result"
    }
   ],
   "source": [
    "#orderlines.drop(['unit_price_nd','digits','integers','new_unit_price'], axis=1, inplace=True)\n",
    "orderlines['total_price'] = orderlines['product_quantity'] * orderlines['unit_price']\n",
    "orderlines.sample(5)"
   ]
  },
  {
   "cell_type": "code",
   "execution_count": 94,
   "id": "1929ad78-0aea-4662-a1fd-9f2b3eeaccc2",
   "metadata": {},
   "outputs": [
    {
     "data": {
      "text/html": [
       "<div>\n",
       "<style scoped>\n",
       "    .dataframe tbody tr th:only-of-type {\n",
       "        vertical-align: middle;\n",
       "    }\n",
       "\n",
       "    .dataframe tbody tr th {\n",
       "        vertical-align: top;\n",
       "    }\n",
       "\n",
       "    .dataframe thead th {\n",
       "        text-align: right;\n",
       "    }\n",
       "</style>\n",
       "<table border=\"1\" class=\"dataframe\">\n",
       "  <thead>\n",
       "    <tr style=\"text-align: right;\">\n",
       "      <th></th>\n",
       "      <th>order_id</th>\n",
       "      <th>created_date</th>\n",
       "      <th>total_paid</th>\n",
       "      <th>state</th>\n",
       "    </tr>\n",
       "  </thead>\n",
       "  <tbody>\n",
       "    <tr>\n",
       "      <th>0</th>\n",
       "      <td>241319</td>\n",
       "      <td>2017-01-02 13:35:40</td>\n",
       "      <td>44.99</td>\n",
       "      <td>Cancelled</td>\n",
       "    </tr>\n",
       "    <tr>\n",
       "      <th>1</th>\n",
       "      <td>241423</td>\n",
       "      <td>2017-11-06 13:10:02</td>\n",
       "      <td>136.15</td>\n",
       "      <td>Completed</td>\n",
       "    </tr>\n",
       "    <tr>\n",
       "      <th>2</th>\n",
       "      <td>242832</td>\n",
       "      <td>2017-12-31 17:40:03</td>\n",
       "      <td>15.76</td>\n",
       "      <td>Completed</td>\n",
       "    </tr>\n",
       "    <tr>\n",
       "      <th>3</th>\n",
       "      <td>243330</td>\n",
       "      <td>2017-02-16 10:59:38</td>\n",
       "      <td>84.98</td>\n",
       "      <td>Completed</td>\n",
       "    </tr>\n",
       "    <tr>\n",
       "      <th>4</th>\n",
       "      <td>243784</td>\n",
       "      <td>2017-11-24 13:35:19</td>\n",
       "      <td>157.86</td>\n",
       "      <td>Cancelled</td>\n",
       "    </tr>\n",
       "  </tbody>\n",
       "</table>\n",
       "</div>"
      ],
      "text/plain": [
       "   order_id         created_date  total_paid      state\n",
       "0    241319  2017-01-02 13:35:40       44.99  Cancelled\n",
       "1    241423  2017-11-06 13:10:02      136.15  Completed\n",
       "2    242832  2017-12-31 17:40:03       15.76  Completed\n",
       "3    243330  2017-02-16 10:59:38       84.98  Completed\n",
       "4    243784  2017-11-24 13:35:19      157.86  Cancelled"
      ]
     },
     "execution_count": 94,
     "metadata": {},
     "output_type": "execute_result"
    }
   ],
   "source": [
    "orders.head()"
   ]
  },
  {
   "cell_type": "code",
   "execution_count": 96,
   "id": "a8104f0a-3e27-4a21-bbb2-fb6283752600",
   "metadata": {},
   "outputs": [
    {
     "data": {
      "text/plain": [
       "128776222.0298095"
      ]
     },
     "execution_count": 96,
     "metadata": {},
     "output_type": "execute_result"
    }
   ],
   "source": [
    "sum(orderlines['total_price'])\n",
    "# 129159615.07000001"
   ]
  },
  {
   "cell_type": "code",
   "execution_count": 97,
   "id": "8b97ec65-1017-4ebf-921b-1614f73a4389",
   "metadata": {},
   "outputs": [
    {
     "data": {
      "text/plain": [
       "129159615.06991275"
      ]
     },
     "execution_count": 97,
     "metadata": {},
     "output_type": "execute_result"
    }
   ],
   "source": [
    "sum(orders['total_paid'])"
   ]
  },
  {
   "cell_type": "markdown",
   "id": "58f972d0",
   "metadata": {},
   "source": [
    "What!? After all this work the values do not match! How can we figure it out where is the problem? "
   ]
  },
  {
   "cell_type": "markdown",
   "id": "e8479ecb",
   "metadata": {},
   "source": [
    "## Matching `orders` and `orderlines`\n",
    "\n",
    "It is possible that some orders exist in one dataset but not in the other one. This would be a potential source for this price mismatch. Let's solve it!"
   ]
  },
  {
   "cell_type": "markdown",
   "id": "890b0c16",
   "metadata": {},
   "source": [
    "We first create a new column in the `orderlines` dataset using `assign`. We also use `isin()` to create a boolen value (True/False) that checks whether the `id_order` is present in the `orders` dataset:"
   ]
  },
  {
   "cell_type": "code",
   "execution_count": 100,
   "id": "eba19286",
   "metadata": {},
   "outputs": [
    {
     "data": {
      "text/plain": [
       "293743"
      ]
     },
     "execution_count": 100,
     "metadata": {},
     "output_type": "execute_result"
    }
   ],
   "source": [
    "(\n",
    "orderlines\n",
    "    .assign(check_orders = orderlines['id_order'].isin(orders['order_id']))\n",
    ")['check_orders'].sum()"
   ]
  },
  {
   "cell_type": "code",
   "execution_count": 101,
   "id": "73620440-425a-486b-84ac-ff426198f65c",
   "metadata": {},
   "outputs": [
    {
     "data": {
      "text/plain": [
       "(293983, 8)"
      ]
     },
     "execution_count": 101,
     "metadata": {},
     "output_type": "execute_result"
    }
   ],
   "source": [
    "orderlines.shape"
   ]
  },
  {
   "cell_type": "markdown",
   "id": "8dbe0e0e",
   "metadata": {},
   "source": [
    "Then, using `.query` we select rows where the value in this new column is `False`:"
   ]
  },
  {
   "cell_type": "code",
   "execution_count": 104,
   "id": "92c7c89b",
   "metadata": {},
   "outputs": [
    {
     "data": {
      "text/html": [
       "<div>\n",
       "<style scoped>\n",
       "    .dataframe tbody tr th:only-of-type {\n",
       "        vertical-align: middle;\n",
       "    }\n",
       "\n",
       "    .dataframe tbody tr th {\n",
       "        vertical-align: top;\n",
       "    }\n",
       "\n",
       "    .dataframe thead th {\n",
       "        text-align: right;\n",
       "    }\n",
       "</style>\n",
       "<table border=\"1\" class=\"dataframe\">\n",
       "  <thead>\n",
       "    <tr style=\"text-align: right;\">\n",
       "      <th></th>\n",
       "      <th>id</th>\n",
       "      <th>id_order</th>\n",
       "      <th>product_id</th>\n",
       "      <th>product_quantity</th>\n",
       "      <th>sku</th>\n",
       "      <th>unit_price</th>\n",
       "      <th>date</th>\n",
       "      <th>total_price</th>\n",
       "      <th>check_orders</th>\n",
       "    </tr>\n",
       "  </thead>\n",
       "  <tbody>\n",
       "    <tr>\n",
       "      <th>5</th>\n",
       "      <td>1119114</td>\n",
       "      <td>295310</td>\n",
       "      <td>0</td>\n",
       "      <td>10</td>\n",
       "      <td>WDT0249</td>\n",
       "      <td>231.79</td>\n",
       "      <td>2017-01-01 01:14:27</td>\n",
       "      <td>2317.90</td>\n",
       "      <td>False</td>\n",
       "    </tr>\n",
       "    <tr>\n",
       "      <th>63</th>\n",
       "      <td>1119218</td>\n",
       "      <td>296284</td>\n",
       "      <td>0</td>\n",
       "      <td>1</td>\n",
       "      <td>BNQ0042</td>\n",
       "      <td>699.00</td>\n",
       "      <td>2017-01-01 09:58:35</td>\n",
       "      <td>699.00</td>\n",
       "      <td>False</td>\n",
       "    </tr>\n",
       "    <tr>\n",
       "      <th>67</th>\n",
       "      <td>1119223</td>\n",
       "      <td>294806</td>\n",
       "      <td>0</td>\n",
       "      <td>1</td>\n",
       "      <td>APP1849</td>\n",
       "      <td>2558.99</td>\n",
       "      <td>2017-01-01 10:09:15</td>\n",
       "      <td>2558.99</td>\n",
       "      <td>False</td>\n",
       "    </tr>\n",
       "    <tr>\n",
       "      <th>69</th>\n",
       "      <td>1119226</td>\n",
       "      <td>294806</td>\n",
       "      <td>0</td>\n",
       "      <td>1</td>\n",
       "      <td>APP1864</td>\n",
       "      <td>2797.99</td>\n",
       "      <td>2017-01-01 10:15:14</td>\n",
       "      <td>2797.99</td>\n",
       "      <td>False</td>\n",
       "    </tr>\n",
       "    <tr>\n",
       "      <th>70</th>\n",
       "      <td>1119235</td>\n",
       "      <td>297261</td>\n",
       "      <td>0</td>\n",
       "      <td>1</td>\n",
       "      <td>QNA0177</td>\n",
       "      <td>304.99</td>\n",
       "      <td>2017-01-01 10:17:59</td>\n",
       "      <td>304.99</td>\n",
       "      <td>False</td>\n",
       "    </tr>\n",
       "    <tr>\n",
       "      <th>...</th>\n",
       "      <td>...</td>\n",
       "      <td>...</td>\n",
       "      <td>...</td>\n",
       "      <td>...</td>\n",
       "      <td>...</td>\n",
       "      <td>...</td>\n",
       "      <td>...</td>\n",
       "      <td>...</td>\n",
       "      <td>...</td>\n",
       "    </tr>\n",
       "    <tr>\n",
       "      <th>275665</th>\n",
       "      <td>1621177</td>\n",
       "      <td>244328</td>\n",
       "      <td>0</td>\n",
       "      <td>1</td>\n",
       "      <td>OWC0260</td>\n",
       "      <td>349.00</td>\n",
       "      <td>2018-02-20 13:00:45</td>\n",
       "      <td>349.00</td>\n",
       "      <td>False</td>\n",
       "    </tr>\n",
       "    <tr>\n",
       "      <th>280055</th>\n",
       "      <td>1628699</td>\n",
       "      <td>261391</td>\n",
       "      <td>0</td>\n",
       "      <td>1</td>\n",
       "      <td>APP2352</td>\n",
       "      <td>3343.00</td>\n",
       "      <td>2018-02-27 11:43:25</td>\n",
       "      <td>3343.00</td>\n",
       "      <td>False</td>\n",
       "    </tr>\n",
       "    <tr>\n",
       "      <th>280352</th>\n",
       "      <td>1629247</td>\n",
       "      <td>287797</td>\n",
       "      <td>0</td>\n",
       "      <td>1</td>\n",
       "      <td>SYN0182</td>\n",
       "      <td>484.11</td>\n",
       "      <td>2018-02-27 19:16:26</td>\n",
       "      <td>484.11</td>\n",
       "      <td>False</td>\n",
       "    </tr>\n",
       "    <tr>\n",
       "      <th>280856</th>\n",
       "      <td>1630150</td>\n",
       "      <td>261391</td>\n",
       "      <td>0</td>\n",
       "      <td>1</td>\n",
       "      <td>SAT0091</td>\n",
       "      <td>44.99</td>\n",
       "      <td>2018-02-28 12:18:26</td>\n",
       "      <td>44.99</td>\n",
       "      <td>False</td>\n",
       "    </tr>\n",
       "    <tr>\n",
       "      <th>280869</th>\n",
       "      <td>1630178</td>\n",
       "      <td>261391</td>\n",
       "      <td>0</td>\n",
       "      <td>1</td>\n",
       "      <td>SAT0062</td>\n",
       "      <td>49.99</td>\n",
       "      <td>2018-02-28 12:30:57</td>\n",
       "      <td>49.99</td>\n",
       "      <td>False</td>\n",
       "    </tr>\n",
       "  </tbody>\n",
       "</table>\n",
       "<p>240 rows × 9 columns</p>\n",
       "</div>"
      ],
      "text/plain": [
       "             id  id_order  product_id  product_quantity      sku  unit_price  \\\n",
       "5       1119114    295310           0                10  WDT0249      231.79   \n",
       "63      1119218    296284           0                 1  BNQ0042      699.00   \n",
       "67      1119223    294806           0                 1  APP1849     2558.99   \n",
       "69      1119226    294806           0                 1  APP1864     2797.99   \n",
       "70      1119235    297261           0                 1  QNA0177      304.99   \n",
       "...         ...       ...         ...               ...      ...         ...   \n",
       "275665  1621177    244328           0                 1  OWC0260      349.00   \n",
       "280055  1628699    261391           0                 1  APP2352     3343.00   \n",
       "280352  1629247    287797           0                 1  SYN0182      484.11   \n",
       "280856  1630150    261391           0                 1  SAT0091       44.99   \n",
       "280869  1630178    261391           0                 1  SAT0062       49.99   \n",
       "\n",
       "                       date  total_price  check_orders  \n",
       "5       2017-01-01 01:14:27      2317.90         False  \n",
       "63      2017-01-01 09:58:35       699.00         False  \n",
       "67      2017-01-01 10:09:15      2558.99         False  \n",
       "69      2017-01-01 10:15:14      2797.99         False  \n",
       "70      2017-01-01 10:17:59       304.99         False  \n",
       "...                     ...          ...           ...  \n",
       "275665  2018-02-20 13:00:45       349.00         False  \n",
       "280055  2018-02-27 11:43:25      3343.00         False  \n",
       "280352  2018-02-27 19:16:26       484.11         False  \n",
       "280856  2018-02-28 12:18:26        44.99         False  \n",
       "280869  2018-02-28 12:30:57        49.99         False  \n",
       "\n",
       "[240 rows x 9 columns]"
      ]
     },
     "execution_count": 104,
     "metadata": {},
     "output_type": "execute_result"
    }
   ],
   "source": [
    "(\n",
    "orderlines\n",
    "    .assign(check_orders = orderlines['id_order'].isin(orders['order_id']))\n",
    "    .query(\"check_orders==False\")\n",
    ")"
   ]
  },
  {
   "cell_type": "markdown",
   "id": "f9772f49",
   "metadata": {},
   "source": [
    "It looks like 240 rows in `orderlines` come from orders not present in the `orders` dataset. This is quite inconsistent, since the `orders` dataset should be the one and only source of truth for orders: if an order is not there, it should not exist. We will try to find out why that happened, but for now, let's just remove those \"ghost\" orders:"
   ]
  },
  {
   "cell_type": "code",
   "execution_count": 105,
   "id": "616b8048-2b45-4e3d-b127-f2d77fc9d569",
   "metadata": {},
   "outputs": [
    {
     "data": {
      "text/plain": [
       "(293983, 8)"
      ]
     },
     "execution_count": 105,
     "metadata": {},
     "output_type": "execute_result"
    }
   ],
   "source": [
    "orderlines.shape"
   ]
  },
  {
   "cell_type": "code",
   "execution_count": 106,
   "id": "ef2d6496",
   "metadata": {},
   "outputs": [],
   "source": [
    "orderlines = (\n",
    "orderlines\n",
    "    .assign(check_orders = orderlines.id_order.isin(orders.order_id))\n",
    "    .query(\"check_orders==True\")\n",
    ")"
   ]
  },
  {
   "cell_type": "code",
   "execution_count": 107,
   "id": "baccc892-10a0-4ac6-bd0b-f3027098709d",
   "metadata": {},
   "outputs": [
    {
     "data": {
      "text/plain": [
       "(293743, 9)"
      ]
     },
     "execution_count": 107,
     "metadata": {},
     "output_type": "execute_result"
    }
   ],
   "source": [
    "orderlines.shape"
   ]
  },
  {
   "cell_type": "markdown",
   "id": "383f2292",
   "metadata": {},
   "source": [
    "Now let's look at this problem in the opposite direction: are there orders in the `orders` dataset not prsent in `orderlines`?"
   ]
  },
  {
   "cell_type": "code",
   "execution_count": 108,
   "id": "953fdd47",
   "metadata": {},
   "outputs": [
    {
     "data": {
      "text/html": [
       "<div>\n",
       "<style scoped>\n",
       "    .dataframe tbody tr th:only-of-type {\n",
       "        vertical-align: middle;\n",
       "    }\n",
       "\n",
       "    .dataframe tbody tr th {\n",
       "        vertical-align: top;\n",
       "    }\n",
       "\n",
       "    .dataframe thead th {\n",
       "        text-align: right;\n",
       "    }\n",
       "</style>\n",
       "<table border=\"1\" class=\"dataframe\">\n",
       "  <thead>\n",
       "    <tr style=\"text-align: right;\">\n",
       "      <th></th>\n",
       "      <th>order_id</th>\n",
       "      <th>created_date</th>\n",
       "      <th>total_paid</th>\n",
       "      <th>state</th>\n",
       "      <th>check_orders</th>\n",
       "    </tr>\n",
       "  </thead>\n",
       "  <tbody>\n",
       "    <tr>\n",
       "      <th>8</th>\n",
       "      <td>245941</td>\n",
       "      <td>2017-01-01 10:32:23</td>\n",
       "      <td>183.52</td>\n",
       "      <td>Completed</td>\n",
       "      <td>False</td>\n",
       "    </tr>\n",
       "    <tr>\n",
       "      <th>65</th>\n",
       "      <td>268629</td>\n",
       "      <td>2017-01-31 11:27:25</td>\n",
       "      <td>73.23</td>\n",
       "      <td>Completed</td>\n",
       "      <td>False</td>\n",
       "    </tr>\n",
       "    <tr>\n",
       "      <th>75</th>\n",
       "      <td>272862</td>\n",
       "      <td>2017-04-18 18:17:10</td>\n",
       "      <td>128.99</td>\n",
       "      <td>Pending</td>\n",
       "      <td>False</td>\n",
       "    </tr>\n",
       "    <tr>\n",
       "      <th>82</th>\n",
       "      <td>277655</td>\n",
       "      <td>2017-02-01 08:44:55</td>\n",
       "      <td>9.99</td>\n",
       "      <td>Pending</td>\n",
       "      <td>False</td>\n",
       "    </tr>\n",
       "    <tr>\n",
       "      <th>83</th>\n",
       "      <td>277994</td>\n",
       "      <td>2017-01-23 18:30:11</td>\n",
       "      <td>52.99</td>\n",
       "      <td>Completed</td>\n",
       "      <td>False</td>\n",
       "    </tr>\n",
       "    <tr>\n",
       "      <th>...</th>\n",
       "      <td>...</td>\n",
       "      <td>...</td>\n",
       "      <td>...</td>\n",
       "      <td>...</td>\n",
       "      <td>...</td>\n",
       "    </tr>\n",
       "    <tr>\n",
       "      <th>226835</th>\n",
       "      <td>527328</td>\n",
       "      <td>2018-03-14 13:14:12</td>\n",
       "      <td>0.00</td>\n",
       "      <td>Shopping Basket</td>\n",
       "      <td>False</td>\n",
       "    </tr>\n",
       "    <tr>\n",
       "      <th>226851</th>\n",
       "      <td>527344</td>\n",
       "      <td>2018-03-14 13:25:21</td>\n",
       "      <td>0.00</td>\n",
       "      <td>Place Order</td>\n",
       "      <td>False</td>\n",
       "    </tr>\n",
       "    <tr>\n",
       "      <th>226853</th>\n",
       "      <td>527346</td>\n",
       "      <td>2018-03-14 13:26:14</td>\n",
       "      <td>0.00</td>\n",
       "      <td>Place Order</td>\n",
       "      <td>False</td>\n",
       "    </tr>\n",
       "    <tr>\n",
       "      <th>226855</th>\n",
       "      <td>527348</td>\n",
       "      <td>2018-03-14 13:28:18</td>\n",
       "      <td>0.00</td>\n",
       "      <td>Place Order</td>\n",
       "      <td>False</td>\n",
       "    </tr>\n",
       "    <tr>\n",
       "      <th>226889</th>\n",
       "      <td>527382</td>\n",
       "      <td>2018-03-14 13:47:43</td>\n",
       "      <td>0.00</td>\n",
       "      <td>Shopping Basket</td>\n",
       "      <td>False</td>\n",
       "    </tr>\n",
       "  </tbody>\n",
       "</table>\n",
       "<p>22213 rows × 5 columns</p>\n",
       "</div>"
      ],
      "text/plain": [
       "        order_id         created_date  total_paid            state  \\\n",
       "8         245941  2017-01-01 10:32:23      183.52        Completed   \n",
       "65        268629  2017-01-31 11:27:25       73.23        Completed   \n",
       "75        272862  2017-04-18 18:17:10      128.99          Pending   \n",
       "82        277655  2017-02-01 08:44:55        9.99          Pending   \n",
       "83        277994  2017-01-23 18:30:11       52.99        Completed   \n",
       "...          ...                  ...         ...              ...   \n",
       "226835    527328  2018-03-14 13:14:12        0.00  Shopping Basket   \n",
       "226851    527344  2018-03-14 13:25:21        0.00      Place Order   \n",
       "226853    527346  2018-03-14 13:26:14        0.00      Place Order   \n",
       "226855    527348  2018-03-14 13:28:18        0.00      Place Order   \n",
       "226889    527382  2018-03-14 13:47:43        0.00  Shopping Basket   \n",
       "\n",
       "        check_orders  \n",
       "8              False  \n",
       "65             False  \n",
       "75             False  \n",
       "82             False  \n",
       "83             False  \n",
       "...              ...  \n",
       "226835         False  \n",
       "226851         False  \n",
       "226853         False  \n",
       "226855         False  \n",
       "226889         False  \n",
       "\n",
       "[22213 rows x 5 columns]"
      ]
     },
     "execution_count": 108,
     "metadata": {},
     "output_type": "execute_result"
    }
   ],
   "source": [
    "(\n",
    "orders\n",
    "    .assign(check_orders = orders['order_id'].isin(orderlines['id_order']))\n",
    "    .query(\"check_orders==False\")\n",
    ")"
   ]
  },
  {
   "cell_type": "markdown",
   "id": "f0c3d357",
   "metadata": {},
   "source": [
    "There are more than 22000 orders in the `orders` dataset that are not present on the `orderlines` dataset!!! We can try to find out why by looking at the state of these orders:"
   ]
  },
  {
   "cell_type": "code",
   "execution_count": 110,
   "id": "2bc462c7",
   "metadata": {},
   "outputs": [
    {
     "data": {
      "text/plain": [
       "Place Order        12304\n",
       "Shopping Basket     9810\n",
       "Completed             45\n",
       "Cancelled             41\n",
       "Pending               13\n",
       "Name: state, dtype: int64"
      ]
     },
     "execution_count": 110,
     "metadata": {},
     "output_type": "execute_result"
    }
   ],
   "source": [
    "(orders\n",
    " .assign(check_orders = orders.order_id.isin(orderlines.id_order))\n",
    " .query(\"check_orders==False\")\n",
    " ['state'].value_counts()\n",
    ")"
   ]
  },
  {
   "cell_type": "markdown",
   "id": "3381d58a",
   "metadata": {},
   "source": [
    "It looks like most of them are orders that were not fully completed: the products were left in the shopping basket or the order was \"placed\" but maybe not paid (hence the state \"Place Order\". Some of them were \"Completed\", though. \n",
    "\n",
    "This will require further research, and we might have to come back to these orders if we have to explore consumer behaviour (e.g. why are orders left in the shopping basket?), but for now, for the sake of data quality, let's drop all of these unmatched orders:"
   ]
  },
  {
   "cell_type": "code",
   "execution_count": 112,
   "id": "f9656fb6",
   "metadata": {},
   "outputs": [],
   "source": [
    "orders = (orders.\n",
    "          assign(check_orders = orders.order_id.isin(orderlines.id_order)).\n",
    "          query(\"check_orders==True\")\n",
    "         )"
   ]
  },
  {
   "cell_type": "markdown",
   "id": "4c538516",
   "metadata": {},
   "source": [
    "Let's now check again if the total paid matches:"
   ]
  },
  {
   "cell_type": "code",
   "execution_count": 113,
   "id": "2322a705",
   "metadata": {},
   "outputs": [
    {
     "data": {
      "text/plain": [
       "129130877.18"
      ]
     },
     "execution_count": 113,
     "metadata": {},
     "output_type": "execute_result"
    }
   ],
   "source": [
    "orders.total_paid.sum()"
   ]
  },
  {
   "cell_type": "code",
   "execution_count": 114,
   "id": "3c1fdc3d",
   "metadata": {},
   "outputs": [
    {
     "data": {
      "text/plain": [
       "128659393.77"
      ]
     },
     "execution_count": 114,
     "metadata": {},
     "output_type": "execute_result"
    }
   ],
   "source": [
    "orderlines.total_price.sum()"
   ]
  },
  {
   "cell_type": "markdown",
   "id": "7c1ab2b5",
   "metadata": {},
   "source": [
    "STILL NOT MATCHING!!! This is outrageous. Let's keep exploring."
   ]
  },
  {
   "cell_type": "markdown",
   "id": "3a326628",
   "metadata": {},
   "source": [
    "## Solving the price mismatch\n",
    "\n",
    "Let's merge both datasets and compare, order by order, the `total_price`. We will call this new merged dataset `orders_info`.\n",
    "\n",
    "*Note: To merge `orderlines` with `orders`, we have to group and aggregate `orderlines`!"
   ]
  },
  {
   "cell_type": "code",
   "execution_count": 120,
   "id": "08a910e4",
   "metadata": {},
   "outputs": [
    {
     "data": {
      "text/html": [
       "<div>\n",
       "<style scoped>\n",
       "    .dataframe tbody tr th:only-of-type {\n",
       "        vertical-align: middle;\n",
       "    }\n",
       "\n",
       "    .dataframe tbody tr th {\n",
       "        vertical-align: top;\n",
       "    }\n",
       "\n",
       "    .dataframe thead th {\n",
       "        text-align: right;\n",
       "    }\n",
       "</style>\n",
       "<table border=\"1\" class=\"dataframe\">\n",
       "  <thead>\n",
       "    <tr style=\"text-align: right;\">\n",
       "      <th></th>\n",
       "      <th>id_order</th>\n",
       "      <th>total_price</th>\n",
       "      <th>order_id</th>\n",
       "      <th>created_date</th>\n",
       "      <th>total_paid</th>\n",
       "      <th>state</th>\n",
       "      <th>check_orders</th>\n",
       "    </tr>\n",
       "  </thead>\n",
       "  <tbody>\n",
       "    <tr>\n",
       "      <th>0</th>\n",
       "      <td>241319</td>\n",
       "      <td>44.99</td>\n",
       "      <td>241319</td>\n",
       "      <td>2017-01-02 13:35:40</td>\n",
       "      <td>44.99</td>\n",
       "      <td>Cancelled</td>\n",
       "      <td>True</td>\n",
       "    </tr>\n",
       "    <tr>\n",
       "      <th>1</th>\n",
       "      <td>241423</td>\n",
       "      <td>129.16</td>\n",
       "      <td>241423</td>\n",
       "      <td>2017-11-06 13:10:02</td>\n",
       "      <td>136.15</td>\n",
       "      <td>Completed</td>\n",
       "      <td>True</td>\n",
       "    </tr>\n",
       "    <tr>\n",
       "      <th>2</th>\n",
       "      <td>242832</td>\n",
       "      <td>10.77</td>\n",
       "      <td>242832</td>\n",
       "      <td>2017-12-31 17:40:03</td>\n",
       "      <td>15.76</td>\n",
       "      <td>Completed</td>\n",
       "      <td>True</td>\n",
       "    </tr>\n",
       "    <tr>\n",
       "      <th>3</th>\n",
       "      <td>243330</td>\n",
       "      <td>77.99</td>\n",
       "      <td>243330</td>\n",
       "      <td>2017-02-16 10:59:38</td>\n",
       "      <td>84.98</td>\n",
       "      <td>Completed</td>\n",
       "      <td>True</td>\n",
       "    </tr>\n",
       "    <tr>\n",
       "      <th>4</th>\n",
       "      <td>243784</td>\n",
       "      <td>153.87</td>\n",
       "      <td>243784</td>\n",
       "      <td>2017-11-24 13:35:19</td>\n",
       "      <td>157.86</td>\n",
       "      <td>Cancelled</td>\n",
       "      <td>True</td>\n",
       "    </tr>\n",
       "    <tr>\n",
       "      <th>...</th>\n",
       "      <td>...</td>\n",
       "      <td>...</td>\n",
       "      <td>...</td>\n",
       "      <td>...</td>\n",
       "      <td>...</td>\n",
       "      <td>...</td>\n",
       "      <td>...</td>\n",
       "    </tr>\n",
       "    <tr>\n",
       "      <th>204686</th>\n",
       "      <td>527397</td>\n",
       "      <td>42.99</td>\n",
       "      <td>527397</td>\n",
       "      <td>2018-03-14 13:56:38</td>\n",
       "      <td>42.99</td>\n",
       "      <td>Place Order</td>\n",
       "      <td>True</td>\n",
       "    </tr>\n",
       "    <tr>\n",
       "      <th>204687</th>\n",
       "      <td>527398</td>\n",
       "      <td>42.99</td>\n",
       "      <td>527398</td>\n",
       "      <td>2018-03-14 13:57:25</td>\n",
       "      <td>42.99</td>\n",
       "      <td>Shopping Basket</td>\n",
       "      <td>True</td>\n",
       "    </tr>\n",
       "    <tr>\n",
       "      <th>204688</th>\n",
       "      <td>527399</td>\n",
       "      <td>141.58</td>\n",
       "      <td>527399</td>\n",
       "      <td>2018-03-14 13:57:34</td>\n",
       "      <td>141.58</td>\n",
       "      <td>Shopping Basket</td>\n",
       "      <td>True</td>\n",
       "    </tr>\n",
       "    <tr>\n",
       "      <th>204689</th>\n",
       "      <td>527400</td>\n",
       "      <td>19.98</td>\n",
       "      <td>527400</td>\n",
       "      <td>2018-03-14 13:57:41</td>\n",
       "      <td>19.98</td>\n",
       "      <td>Shopping Basket</td>\n",
       "      <td>True</td>\n",
       "    </tr>\n",
       "    <tr>\n",
       "      <th>204690</th>\n",
       "      <td>527401</td>\n",
       "      <td>13.99</td>\n",
       "      <td>527401</td>\n",
       "      <td>2018-03-14 13:58:36</td>\n",
       "      <td>18.98</td>\n",
       "      <td>Place Order</td>\n",
       "      <td>True</td>\n",
       "    </tr>\n",
       "  </tbody>\n",
       "</table>\n",
       "<p>204691 rows × 7 columns</p>\n",
       "</div>"
      ],
      "text/plain": [
       "        id_order  total_price  order_id         created_date  total_paid  \\\n",
       "0         241319        44.99    241319  2017-01-02 13:35:40       44.99   \n",
       "1         241423       129.16    241423  2017-11-06 13:10:02      136.15   \n",
       "2         242832        10.77    242832  2017-12-31 17:40:03       15.76   \n",
       "3         243330        77.99    243330  2017-02-16 10:59:38       84.98   \n",
       "4         243784       153.87    243784  2017-11-24 13:35:19      157.86   \n",
       "...          ...          ...       ...                  ...         ...   \n",
       "204686    527397        42.99    527397  2018-03-14 13:56:38       42.99   \n",
       "204687    527398        42.99    527398  2018-03-14 13:57:25       42.99   \n",
       "204688    527399       141.58    527399  2018-03-14 13:57:34      141.58   \n",
       "204689    527400        19.98    527400  2018-03-14 13:57:41       19.98   \n",
       "204690    527401        13.99    527401  2018-03-14 13:58:36       18.98   \n",
       "\n",
       "                  state  check_orders  \n",
       "0             Cancelled          True  \n",
       "1             Completed          True  \n",
       "2             Completed          True  \n",
       "3             Completed          True  \n",
       "4             Cancelled          True  \n",
       "...                 ...           ...  \n",
       "204686      Place Order          True  \n",
       "204687  Shopping Basket          True  \n",
       "204688  Shopping Basket          True  \n",
       "204689  Shopping Basket          True  \n",
       "204690      Place Order          True  \n",
       "\n",
       "[204691 rows x 7 columns]"
      ]
     },
     "execution_count": 120,
     "metadata": {},
     "output_type": "execute_result"
    }
   ],
   "source": [
    "orders_info = (\n",
    "orderlines\n",
    "    .groupby('id_order')\n",
    "    .agg({'total_price':'sum'})\n",
    "    .reset_index()\n",
    "    .merge(orders, how='left', left_on='id_order', right_on='order_id')\n",
    "    .copy()\n",
    ")\n",
    "orders_info"
   ]
  },
  {
   "cell_type": "markdown",
   "id": "7f0f9389",
   "metadata": {},
   "source": [
    "Now that the `total` from both datasets is in the same dataframe, we can create a new column with the difference:"
   ]
  },
  {
   "cell_type": "code",
   "execution_count": 126,
   "id": "b4ba98fb",
   "metadata": {},
   "outputs": [
    {
     "data": {
      "text/html": [
       "<div>\n",
       "<style scoped>\n",
       "    .dataframe tbody tr th:only-of-type {\n",
       "        vertical-align: middle;\n",
       "    }\n",
       "\n",
       "    .dataframe tbody tr th {\n",
       "        vertical-align: top;\n",
       "    }\n",
       "\n",
       "    .dataframe thead th {\n",
       "        text-align: right;\n",
       "    }\n",
       "</style>\n",
       "<table border=\"1\" class=\"dataframe\">\n",
       "  <thead>\n",
       "    <tr style=\"text-align: right;\">\n",
       "      <th></th>\n",
       "      <th>id_order</th>\n",
       "      <th>total_price</th>\n",
       "      <th>order_id</th>\n",
       "      <th>created_date</th>\n",
       "      <th>total_paid</th>\n",
       "      <th>state</th>\n",
       "      <th>check_orders</th>\n",
       "      <th>price_difference</th>\n",
       "    </tr>\n",
       "  </thead>\n",
       "  <tbody>\n",
       "    <tr>\n",
       "      <th>95717</th>\n",
       "      <td>404768</td>\n",
       "      <td>169.98</td>\n",
       "      <td>404768</td>\n",
       "      <td>2017-09-26 11:40:08</td>\n",
       "      <td>174.97</td>\n",
       "      <td>Completed</td>\n",
       "      <td>True</td>\n",
       "      <td>4.99</td>\n",
       "    </tr>\n",
       "    <tr>\n",
       "      <th>145875</th>\n",
       "      <td>460978</td>\n",
       "      <td>30.99</td>\n",
       "      <td>460978</td>\n",
       "      <td>2017-12-13 16:49:13</td>\n",
       "      <td>35.98</td>\n",
       "      <td>Completed</td>\n",
       "      <td>True</td>\n",
       "      <td>4.99</td>\n",
       "    </tr>\n",
       "    <tr>\n",
       "      <th>146545</th>\n",
       "      <td>461698</td>\n",
       "      <td>23.96</td>\n",
       "      <td>461698</td>\n",
       "      <td>2017-12-13 11:42:42</td>\n",
       "      <td>28.95</td>\n",
       "      <td>Completed</td>\n",
       "      <td>True</td>\n",
       "      <td>4.99</td>\n",
       "    </tr>\n",
       "    <tr>\n",
       "      <th>43669</th>\n",
       "      <td>346922</td>\n",
       "      <td>154.99</td>\n",
       "      <td>346922</td>\n",
       "      <td>2017-04-18 09:00:02</td>\n",
       "      <td>154.99</td>\n",
       "      <td>Completed</td>\n",
       "      <td>True</td>\n",
       "      <td>0.00</td>\n",
       "    </tr>\n",
       "    <tr>\n",
       "      <th>104405</th>\n",
       "      <td>414552</td>\n",
       "      <td>136.96</td>\n",
       "      <td>414552</td>\n",
       "      <td>2017-10-19 17:21:50</td>\n",
       "      <td>143.95</td>\n",
       "      <td>Completed</td>\n",
       "      <td>True</td>\n",
       "      <td>6.99</td>\n",
       "    </tr>\n",
       "    <tr>\n",
       "      <th>8938</th>\n",
       "      <td>309252</td>\n",
       "      <td>56.97</td>\n",
       "      <td>309252</td>\n",
       "      <td>2017-01-14 10:53:56</td>\n",
       "      <td>55.96</td>\n",
       "      <td>Completed</td>\n",
       "      <td>True</td>\n",
       "      <td>-1.01</td>\n",
       "    </tr>\n",
       "    <tr>\n",
       "      <th>144146</th>\n",
       "      <td>459054</td>\n",
       "      <td>60.96</td>\n",
       "      <td>459054</td>\n",
       "      <td>2017-12-10 18:39:29</td>\n",
       "      <td>65.95</td>\n",
       "      <td>Completed</td>\n",
       "      <td>True</td>\n",
       "      <td>4.99</td>\n",
       "    </tr>\n",
       "    <tr>\n",
       "      <th>140640</th>\n",
       "      <td>455312</td>\n",
       "      <td>29.99</td>\n",
       "      <td>455312</td>\n",
       "      <td>2017-12-04 22:47:03</td>\n",
       "      <td>36.98</td>\n",
       "      <td>Completed</td>\n",
       "      <td>True</td>\n",
       "      <td>6.99</td>\n",
       "    </tr>\n",
       "    <tr>\n",
       "      <th>61808</th>\n",
       "      <td>366751</td>\n",
       "      <td>343.97</td>\n",
       "      <td>366751</td>\n",
       "      <td>2017-06-18 15:54:05</td>\n",
       "      <td>348.96</td>\n",
       "      <td>Completed</td>\n",
       "      <td>True</td>\n",
       "      <td>4.99</td>\n",
       "    </tr>\n",
       "    <tr>\n",
       "      <th>22286</th>\n",
       "      <td>323899</td>\n",
       "      <td>69.99</td>\n",
       "      <td>323899</td>\n",
       "      <td>2017-02-14 03:48:43</td>\n",
       "      <td>73.98</td>\n",
       "      <td>Completed</td>\n",
       "      <td>True</td>\n",
       "      <td>3.99</td>\n",
       "    </tr>\n",
       "  </tbody>\n",
       "</table>\n",
       "</div>"
      ],
      "text/plain": [
       "        id_order  total_price  order_id         created_date  total_paid  \\\n",
       "95717     404768       169.98    404768  2017-09-26 11:40:08      174.97   \n",
       "145875    460978        30.99    460978  2017-12-13 16:49:13       35.98   \n",
       "146545    461698        23.96    461698  2017-12-13 11:42:42       28.95   \n",
       "43669     346922       154.99    346922  2017-04-18 09:00:02      154.99   \n",
       "104405    414552       136.96    414552  2017-10-19 17:21:50      143.95   \n",
       "8938      309252        56.97    309252  2017-01-14 10:53:56       55.96   \n",
       "144146    459054        60.96    459054  2017-12-10 18:39:29       65.95   \n",
       "140640    455312        29.99    455312  2017-12-04 22:47:03       36.98   \n",
       "61808     366751       343.97    366751  2017-06-18 15:54:05      348.96   \n",
       "22286     323899        69.99    323899  2017-02-14 03:48:43       73.98   \n",
       "\n",
       "            state  check_orders  price_difference  \n",
       "95717   Completed          True              4.99  \n",
       "145875  Completed          True              4.99  \n",
       "146545  Completed          True              4.99  \n",
       "43669   Completed          True              0.00  \n",
       "104405  Completed          True              6.99  \n",
       "8938    Completed          True             -1.01  \n",
       "144146  Completed          True              4.99  \n",
       "140640  Completed          True              6.99  \n",
       "61808   Completed          True              4.99  \n",
       "22286   Completed          True              3.99  "
      ]
     },
     "execution_count": 126,
     "metadata": {},
     "output_type": "execute_result"
    }
   ],
   "source": [
    "orders_info['price_difference'] = orders_info['total_paid'] - orders_info['total_price']\n",
    "orders_info.query('state == \"Completed\"').sample(10)"
   ]
  },
  {
   "cell_type": "code",
   "execution_count": 127,
   "id": "6bf4ecc4",
   "metadata": {},
   "outputs": [
    {
     "data": {
      "text/plain": [
       "count    204691.000000\n",
       "mean          2.303391\n",
       "std         297.461827\n",
       "min      -36159.900000\n",
       "25%           0.000000\n",
       "50%           0.000000\n",
       "75%           0.010000\n",
       "max       90898.610000\n",
       "Name: price_difference, dtype: float64"
      ]
     },
     "execution_count": 127,
     "metadata": {},
     "output_type": "execute_result"
    }
   ],
   "source": [
    "orders_info.price_difference.describe()"
   ]
  },
  {
   "cell_type": "code",
   "execution_count": 156,
   "id": "e57b2d65-81dc-46a2-88cf-1f322744ca43",
   "metadata": {},
   "outputs": [],
   "source": [
    "temp = (\n",
    "orders_info\n",
    "    .assign(price_diff = round(orders_info['total_paid'] - orders_info['total_price'], 2))\n",
    "    ['price_diff']\n",
    "    .unique()\n",
    "    .tolist()\n",
    ")\n",
    "\n",
    "pd.DataFrame({\n",
    "    'x':temp\n",
    "}).sort_values(by='x').head(50)"
   ]
  },
  {
   "cell_type": "markdown",
   "id": "a35b2a4d",
   "metadata": {},
   "source": [
    "Looks like the maximum and minimun price differences are huge: some orders are really corrupted. But we also see from the mean and the quartiles that the price difference is neglegible for most orders."
   ]
  },
  {
   "cell_type": "markdown",
   "id": "45897ecb",
   "metadata": {},
   "source": [
    "## Challenge: Remove outliers\n",
    "\n",
    "Decide on a criteria for removing orders whenever you cannot trust the price difference between `orders` and `orderlines`. "
   ]
  },
  {
   "cell_type": "code",
   "execution_count": 38,
   "id": "3d32e5b1",
   "metadata": {},
   "outputs": [],
   "source": [
    "# code here"
   ]
  },
  {
   "cell_type": "markdown",
   "id": "0554f894",
   "metadata": {},
   "source": [
    "Save the data once you are sure you can trust it!"
   ]
  },
  {
   "cell_type": "code",
   "execution_count": 39,
   "id": "1a7ae4b2",
   "metadata": {},
   "outputs": [],
   "source": [
    "orderlines.to_csv(path + 'clean/orderlines_cl.csv', index=False)\n",
    "orders.to_csv(path + 'clean/orders_cl.csv', index=False)"
   ]
  },
  {
   "cell_type": "markdown",
   "id": "f938b0d7",
   "metadata": {},
   "source": [
    "## Challenge: Cleaning products"
   ]
  },
  {
   "cell_type": "markdown",
   "id": "a9c802d4",
   "metadata": {},
   "source": [
    "Now it is time to clean the products dataset. Let's do a quick review of the things where wrong: "
   ]
  },
  {
   "cell_type": "code",
   "execution_count": 43,
   "id": "7247d09e",
   "metadata": {},
   "outputs": [
    {
     "name": "stdout",
     "output_type": "stream",
     "text": [
      "<class 'pandas.core.frame.DataFrame'>\n",
      "RangeIndex: 19326 entries, 0 to 19325\n",
      "Data columns (total 7 columns):\n",
      " #   Column       Non-Null Count  Dtype \n",
      "---  ------       --------------  ----- \n",
      " 0   sku          19326 non-null  object\n",
      " 1   name         19326 non-null  object\n",
      " 2   desc         19319 non-null  object\n",
      " 3   price        19280 non-null  object\n",
      " 4   promo_price  19326 non-null  object\n",
      " 5   in_stock     19326 non-null  int64 \n",
      " 6   type         19276 non-null  object\n",
      "dtypes: int64(1), object(6)\n",
      "memory usage: 1.0+ MB\n",
      "None\n",
      "Duplicated rows:  8746\n",
      "Missing values:\n",
      "sku             0\n",
      "name            0\n",
      "desc            7\n",
      "price          46\n",
      "promo_price     0\n",
      "in_stock        0\n",
      "type           50\n",
      "dtype: int64\n"
     ]
    }
   ],
   "source": [
    "print(products.info())\n",
    "check_duplicates(products)\n",
    "check_missing_values(products)"
   ]
  },
  {
   "cell_type": "markdown",
   "id": "6ff08d83",
   "metadata": {},
   "source": [
    "Looking at this overview, we can see that there are different things that has to be changed: \n",
    "\n",
    "* Data types: \n",
    "    * price should be a float\n",
    "    * promo price should be a float\n",
    "* Duplicated rows. They have to be removed. \n",
    "    * To accomplish this step you can use the method `pd.DataFrame.drop_duplicates()`. Be sure you drop all the duplicates based on the column **sku**, as it is the one you will use to merge with orderlines. \n",
    "* Missing values: \n",
    "    * Description may be can be infered by the name\n",
    "    * price. Is there a way we can extract the information from another table?\n",
    "    * type. Do we need this column for our analysis?\n",
    "    \n",
    "This task can be accomoplished by using all the methods you already know."
   ]
  },
  {
   "cell_type": "markdown",
   "id": "b30207c2",
   "metadata": {},
   "source": [
    "### Start of the challenge"
   ]
  },
  {
   "cell_type": "code",
   "execution_count": 44,
   "id": "a32bfd83-3f5d-4ef5-88ce-cdea4b0142c9",
   "metadata": {},
   "outputs": [],
   "source": [
    "# code here"
   ]
  },
  {
   "cell_type": "markdown",
   "id": "5e1bc9a7",
   "metadata": {},
   "source": [
    "## Brands"
   ]
  },
  {
   "cell_type": "markdown",
   "id": "06824945",
   "metadata": {},
   "source": [
    "The brands csv looks fine, so we can work together with it. "
   ]
  },
  {
   "cell_type": "code",
   "execution_count": 45,
   "id": "e33b4bae",
   "metadata": {},
   "outputs": [],
   "source": [
    "brands.to_csv(path + 'clean/brands.csv', index=False)"
   ]
  }
 ],
 "metadata": {
  "kernelspec": {
   "display_name": "Python 3",
   "language": "python",
   "name": "python3"
  },
  "language_info": {
   "codemirror_mode": {
    "name": "ipython",
    "version": 3
   },
   "file_extension": ".py",
   "mimetype": "text/x-python",
   "name": "python",
   "nbconvert_exporter": "python",
   "pygments_lexer": "ipython3",
   "version": "3.8.8"
  },
  "toc-showmarkdowntxt": false
 },
 "nbformat": 4,
 "nbformat_minor": 5
}
