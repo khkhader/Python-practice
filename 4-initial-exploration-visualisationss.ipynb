{
 "cells": [
  {
   "cell_type": "markdown",
   "id": "ebc55ff6",
   "metadata": {},
   "source": [
    "# Data visualisation with python"
   ]
  },
  {
   "cell_type": "markdown",
   "id": "bb5f01bd",
   "metadata": {},
   "source": [
    "Let's import the libraries and datasets we need:"
   ]
  },
  {
   "cell_type": "code",
   "execution_count": 1,
   "id": "0f471828",
   "metadata": {},
   "outputs": [],
   "source": [
    "import pandas as pd\n",
    "\n",
    "import matplotlib.pyplot as plt\n",
    "import seaborn as sns\n",
    "\n",
    "# do not display the number with scientific notation\n",
    "pd.options.display.float_format = '{:.2f}'.format\n",
    "\n",
    "import warnings\n",
    "warnings.filterwarnings(\"ignore\")"
   ]
  },
  {
   "cell_type": "code",
   "execution_count": 2,
   "id": "ede1d00f",
   "metadata": {},
   "outputs": [],
   "source": [
    "#path = '../data/eniac/'\n",
    "path = '../eniac_dataset/'\n",
    "\n",
    "orderlines = pd.read_csv(path + 'orderlines_cl.csv')\n",
    "orders = pd.read_csv(path + 'orders_cl.csv')\n",
    "brands = pd.read_csv(path + 'brands_cl.csv')\n",
    "products = pd.read_csv(path + 'products_cl.csv')"
   ]
  },
  {
   "cell_type": "markdown",
   "id": "a92b023c",
   "metadata": {},
   "source": [
    "Transform to date format the columns from orders and orderlines:"
   ]
  },
  {
   "cell_type": "code",
   "execution_count": 3,
   "id": "b412462f",
   "metadata": {},
   "outputs": [
    {
     "name": "stdout",
     "output_type": "stream",
     "text": [
      "<class 'pandas.core.frame.DataFrame'>\n",
      "RangeIndex: 293743 entries, 0 to 293742\n",
      "Data columns (total 9 columns):\n",
      " #   Column            Non-Null Count   Dtype  \n",
      "---  ------            --------------   -----  \n",
      " 0   id                293743 non-null  int64  \n",
      " 1   id_order          293743 non-null  int64  \n",
      " 2   product_id        293743 non-null  int64  \n",
      " 3   product_quantity  293743 non-null  int64  \n",
      " 4   sku               293743 non-null  object \n",
      " 5   unit_price        293743 non-null  float64\n",
      " 6   date              293743 non-null  object \n",
      " 7   total_price       293743 non-null  float64\n",
      " 8   check_orders      293743 non-null  bool   \n",
      "dtypes: bool(1), float64(2), int64(4), object(2)\n",
      "memory usage: 18.2+ MB\n"
     ]
    }
   ],
   "source": [
    "orderlines.info()"
   ]
  },
  {
   "cell_type": "code",
   "execution_count": 4,
   "id": "9e5c5a2f-5444-4155-8313-7dc05c64619d",
   "metadata": {},
   "outputs": [
    {
     "name": "stdout",
     "output_type": "stream",
     "text": [
      "<class 'pandas.core.frame.DataFrame'>\n",
      "RangeIndex: 204691 entries, 0 to 204690\n",
      "Data columns (total 5 columns):\n",
      " #   Column        Non-Null Count   Dtype  \n",
      "---  ------        --------------   -----  \n",
      " 0   order_id      204691 non-null  int64  \n",
      " 1   created_date  204691 non-null  object \n",
      " 2   total_paid    204691 non-null  float64\n",
      " 3   state         204691 non-null  object \n",
      " 4   check_orders  204691 non-null  bool   \n",
      "dtypes: bool(1), float64(1), int64(1), object(2)\n",
      "memory usage: 6.4+ MB\n"
     ]
    }
   ],
   "source": [
    "orders.info()"
   ]
  },
  {
   "cell_type": "code",
   "execution_count": 5,
   "id": "da8e45d2",
   "metadata": {},
   "outputs": [],
   "source": [
    "orders['created_date'] = pd.to_datetime(orders['created_date'])\n",
    "orderlines['date'] = pd.to_datetime(orderlines['date'])"
   ]
  },
  {
   "cell_type": "code",
   "execution_count": 6,
   "id": "49bf3a33",
   "metadata": {},
   "outputs": [
    {
     "data": {
      "text/plain": [
       "667.3462680144781"
      ]
     },
     "execution_count": 6,
     "metadata": {},
     "output_type": "execute_result"
    }
   ],
   "source": [
    "products['price'].mean()"
   ]
  },
  {
   "cell_type": "markdown",
   "id": "6cf39c9c",
   "metadata": {},
   "source": [
    "## Company revenue"
   ]
  },
  {
   "cell_type": "markdown",
   "id": "f9478ff9",
   "metadata": {},
   "source": [
    "First I will need to filter only the orders that have a completed state: "
   ]
  },
  {
   "cell_type": "code",
   "execution_count": 7,
   "id": "a2cfab8a",
   "metadata": {},
   "outputs": [],
   "source": [
    "orders_compl = orders.query('state == \"Completed\"')"
   ]
  },
  {
   "cell_type": "markdown",
   "id": "1acbd4df",
   "metadata": {},
   "source": [
    "Before we create a visualisation, we always need to prepare our dataframe: "
   ]
  },
  {
   "cell_type": "code",
   "execution_count": null,
   "id": "42063533",
   "metadata": {},
   "outputs": [],
   "source": [
    "p_df = (\n",
    "orders_compl\n",
    "    # create two new columns in our dataframe; year and month\n",
    "    .assign(year = orders['created_date'].dt.strftime('%Y'), \n",
    "           month = orders['created_date'].dt.strftime('%b'))\n",
    "    # get the total paid by each year and month\n",
    "    .groupby(['year','month'])\n",
    "    .agg({'total_paid':'sum'})\n",
    "    # reset the index to user the column vector in our plot\n",
    "    .reset_index()\n",
    ")\n",
    "p_df"
   ]
  },
  {
   "cell_type": "code",
   "execution_count": null,
   "id": "cc9a16c8-4c06-460c-8284-7a41584e61d0",
   "metadata": {},
   "outputs": [],
   "source": [
    "sns.barplot(data= p_df, x='month', y='total_paid', hue='year');"
   ]
  },
  {
   "cell_type": "code",
   "execution_count": null,
   "id": "62c0f202-4510-41ce-99df-7dd7b9147b11",
   "metadata": {},
   "outputs": [],
   "source": [
    "# organize the months\n",
    "months = ['Jan', 'Feb', 'Mar', 'Apr', 'May', 'Jun', \n",
    "          'Jul', 'Aug', 'Sep', 'Oct', 'Nov', 'Dec']\n",
    "\n",
    "sns.barplot(data= p_df, x='month', y='total_paid', hue='year', order=months);"
   ]
  },
  {
   "cell_type": "code",
   "execution_count": null,
   "id": "8fead3c9-b5c3-47b9-a193-82ccabb51a87",
   "metadata": {},
   "outputs": [],
   "source": [
    "# increase the plot size\n",
    "months = ['Jan', 'Feb', 'Mar', 'Apr', 'May', 'Jun', \n",
    "          'Jul', 'Aug', 'Sep', 'Oct', 'Nov', 'Dec']\n",
    "\n",
    "plt.subplots(figsize=(12, 8))\n",
    "\n",
    "sns.barplot(data= p_df, x='month', y='total_paid', hue='year', order=months);"
   ]
  },
  {
   "cell_type": "code",
   "execution_count": null,
   "id": "80ba2c9f-cc17-4235-9f1f-bfef19b71dbb",
   "metadata": {},
   "outputs": [],
   "source": [
    "\n",
    "# chnage the x axis to the actual values \n",
    "months = ['Jan', 'Feb', 'Mar', 'Apr', 'May', 'Jun', \n",
    "          'Jul', 'Aug', 'Sep', 'Oct', 'Nov', 'Dec']\n",
    "\n",
    "plt.subplots(figsize=(12, 8))\n",
    "\n",
    "\n",
    "sns.barplot(data= p_df, x='month', y='total_paid', hue='year', order=months);\n",
    "plt.ticklabel_format(style='plain', axis='y') # remove scientific notation for the y axis\n",
    "\n",
    "#sns.despine --> delete the above line "
   ]
  },
  {
   "cell_type": "code",
   "execution_count": null,
   "id": "fca3c516-0f99-4896-8230-5e8193d022b3",
   "metadata": {},
   "outputs": [],
   "source": [
    "# add a line that has the mean \n",
    "\n",
    "# chnage the x axis to the actual values \n",
    "months = ['Jan', 'Feb', 'Mar', 'Apr', 'May', 'Jun', \n",
    "          'Jul', 'Aug', 'Sep', 'Oct', 'Nov', 'Dec']\n",
    "\n",
    "plt.subplots(figsize=(12, 8))\n",
    "\n",
    "\n",
    "p = sns.barplot(data= p_df, x='month', y='total_paid', hue='year', order=months);\n",
    "p.axhline(\n",
    "    p_df['total_paid'].mean(), # value where you want to add your reference line\n",
    "    linestyle='--', # type of line you would like to see on the plot. You can find more informaiton on its documentation\n",
    "    color='gray'\n",
    ")\n",
    "\n",
    "plt.ticklabel_format(style='plain', axis='y') # remove scientific notation for the y axis\n",
    "\n",
    "#sns.despine --> delete the above line "
   ]
  },
  {
   "cell_type": "markdown",
   "id": "008faa68-d225-4761-8edf-a20bb9d77c70",
   "metadata": {},
   "source": [
    "# all together"
   ]
  },
  {
   "cell_type": "code",
   "execution_count": null,
   "id": "a6ff06bc",
   "metadata": {},
   "outputs": [],
   "source": [
    "# Create a list with the months sorted from January to December\n",
    "# It is going to help us sort our columns appropriately\n",
    "months = ['Jan', 'Feb', 'Mar', 'Apr', 'May', 'Jun', \n",
    "          'Jul', 'Aug', 'Sep', 'Oct', 'Nov', 'Dec']\n",
    "\n",
    "# define de size of the plot: 12 with be the width, and 8 the height\n",
    "plt.subplots(figsize=(12, 8))\n",
    "\n",
    "\n",
    "p = sns.barplot(\n",
    "    data=p_df, # dataframe we will use to look for the columns information\n",
    "    x='month', # x values on our chart\n",
    "    y='total_paid', # y values on our chart\n",
    "    hue='year', # group color in our chart\n",
    "    order=months # order x columns\n",
    ")\n",
    "# add a horizontal reference line into the chart to know where the mean value will be\n",
    "p.axhline(\n",
    "    p_df['total_paid'].mean(), # value where you want to add your reference line\n",
    "    linestyle='--', # type of line you would like to see on the plot. You can find more informaiton on its documentation\n",
    "    color='gray'\n",
    ")\n",
    "\n",
    "plt.xlabel('Month') # x label name\n",
    "plt.ylabel('Total paid') # y label name\n",
    "plt.title('Total paid evolution through 2017 and 2018') # title\n",
    "plt.ticklabel_format(style='plain', axis='y') # remove scientific notation for the y axis\n",
    "plt.show() # show the plot"
   ]
  },
  {
   "cell_type": "markdown",
   "id": "cb92dc72",
   "metadata": {},
   "source": [
    "### Revenue distribution by order id"
   ]
  },
  {
   "cell_type": "markdown",
   "id": "a6217a0d",
   "metadata": {},
   "source": [
    "I would like to know more about the different values of `total_paid` for each order by month.\n",
    "\n",
    "Let's talk more about this concept: "
   ]
  },
  {
   "cell_type": "code",
   "execution_count": null,
   "id": "dff82d33",
   "metadata": {},
   "outputs": [],
   "source": [
    "p_df = (\n",
    "orders_compl\n",
    "    # create year and month\n",
    "    .assign(year = orders['created_date'].dt.strftime('%Y'), \n",
    "           month = orders['created_date'].dt.strftime('%b'))\n",
    ")\n",
    "p_df"
   ]
  },
  {
   "cell_type": "markdown",
   "id": "08d4ba45",
   "metadata": {},
   "source": [
    "If we create a barplot directly: "
   ]
  },
  {
   "cell_type": "code",
   "execution_count": null,
   "id": "13135c78",
   "metadata": {},
   "outputs": [],
   "source": [
    "months = ['Jan', 'Feb', 'Mar', 'Apr', 'May', 'Jun', \n",
    "          'Jul', 'Aug', 'Sep', 'Oct', 'Nov', 'Dec']\n",
    "\n",
    "plt.subplots(figsize=(12, 8))\n",
    "\n",
    "sns.barplot(data=p_df, x='month', y='total_paid', hue='year', order=months)\n",
    "\n",
    "plt.xlabel('Month')\n",
    "plt.ylabel('Total paid')\n",
    "plt.title('Total paid evolution through 2017 and 2018')\n",
    "plt.ticklabel_format(style='plain', axis='y')\n",
    "plt.show()"
   ]
  },
  {
   "cell_type": "markdown",
   "id": "e5fed2a2",
   "metadata": {},
   "source": [
    "Look at the description of `?sns.barplot` to undersand more about the chart. What's the meaning of the dark lines on top of each bar?"
   ]
  },
  {
   "cell_type": "markdown",
   "id": "79db6288",
   "metadata": {},
   "source": [
    "A better way to see the distribution by month would be to use another type of chart; the boxplot. "
   ]
  },
  {
   "cell_type": "code",
   "execution_count": null,
   "id": "ca41042a",
   "metadata": {},
   "outputs": [],
   "source": [
    "months = ['Jan', 'Feb', 'Mar', 'Apr', 'May', 'Jun', \n",
    "          'Jul', 'Aug', 'Sep', 'Oct', 'Nov', 'Dec']\n",
    "\n",
    "plt.subplots(figsize=(12, 8))\n",
    "\n",
    "sns.boxplot(data=p_df, x='month', y='total_paid', hue='year', order=months)\n",
    "\n",
    "plt.ylim(0, 800) # define a limit to put focus on your chart\n",
    "plt.xlabel('Month')\n",
    "plt.ylabel('Total paid')\n",
    "plt.title('Total paid evolution through 2017 and 2018')\n",
    "plt.ticklabel_format(style='plain', axis='y')\n",
    "plt.show()"
   ]
  },
  {
   "cell_type": "markdown",
   "id": "cd0063b6",
   "metadata": {},
   "source": [
    "What I am seeing on this chart? Well, the [boxplot](https://en.wikipedia.org/wiki/Box_plot) is a representaition of the pandas function `.describe()`. It shows the main descriptive statistics of a distribution. "
   ]
  },
  {
   "cell_type": "code",
   "execution_count": null,
   "id": "18f79bd0-6972-4498-b4ec-aeb84f3b30ee",
   "metadata": {},
   "outputs": [],
   "source": [
    "# violin gives us the density of the distribution\n",
    "months = ['Jan', 'Feb', 'Mar', 'Apr', 'May', 'Jun', \n",
    "          'Jul', 'Aug', 'Sep', 'Oct', 'Nov', 'Dec']\n",
    "\n",
    "plt.subplots(figsize=(12, 8))\n",
    "\n",
    "sns.violinplot(data=p_df, x='month', y='total_paid', hue='year', order=months)\n",
    "\n",
    "plt.ylim(0, 800) # define a limit to put focus on your chart\n",
    "plt.xlabel('Month')\n",
    "plt.ylabel('Total paid')\n",
    "plt.title('Total paid evolution through 2017 and 2018')\n",
    "plt.ticklabel_format(style='plain', axis='y')\n",
    "plt.show()"
   ]
  },
  {
   "cell_type": "code",
   "execution_count": null,
   "id": "e260ebb2",
   "metadata": {},
   "outputs": [],
   "source": [
    "(\n",
    "p_df\n",
    "    # select this 3 columns\n",
    "    .filter(['year','month','total_paid'])\n",
    "    # apply the describe function to this two groups\n",
    "    .groupby(['year','month'])\n",
    "    .describe()\n",
    ")"
   ]
  },
  {
   "cell_type": "markdown",
   "id": "2df27b93",
   "metadata": {},
   "source": [
    "As you can see, most of our transactions have monthly median values around 100, but maximum values go up to 10,000 and the standard deviation is huge. So we have very different types of customers. \n",
    "\n",
    "A possible hypothesis is that we have a large group of low-paying customers who are end-users and a small group of 'whale' customers who are companies. What's your hypothesis?"
   ]
  },
  {
   "cell_type": "markdown",
   "id": "4dd5e9d9",
   "metadata": {},
   "source": [
    "### Revenue: zoom in January"
   ]
  },
  {
   "cell_type": "markdown",
   "id": "95b311b0",
   "metadata": {},
   "source": [
    "We can zoom into the distribution of one month by filtering one month in our dataset:"
   ]
  },
  {
   "cell_type": "code",
   "execution_count": null,
   "id": "49d06330",
   "metadata": {},
   "outputs": [],
   "source": [
    "p_df_jan = p_df.query('month == \"Jan\"')\n",
    "p_df_jan"
   ]
  },
  {
   "cell_type": "code",
   "execution_count": null,
   "id": "d33458d4",
   "metadata": {},
   "outputs": [],
   "source": [
    "plt.subplots(figsize=(12, 8))\n",
    "\n",
    "sns.histplot(data=p_df_jan, x='total_paid', hue='year', \n",
    "             alpha=.3, # add transparency to you chart\n",
    "             kde=True, # add a density line in the histogram\n",
    "             bins=1000 # define the number of bins the variable total paid will be grouped\n",
    "            )\n",
    "\n",
    "plt.xlim(0, 2000)\n",
    "plt.title('Comparing the distributions of total paid between Jan 2017/18')\n",
    "plt.xlabel('Total paid')\n",
    "sns.despine() # remove the top and right margin, to make your plot prettier \n",
    "plt.show()"
   ]
  },
  {
   "cell_type": "markdown",
   "id": "9ad31d68",
   "metadata": {},
   "source": [
    "Looking at this distributions, we can see that in 2017 there have been more orders with a `total_paid` smaller than in 2018. While in 2018 we have several spikes between 1000 and 1500, which indicates that there are more orders with a higer price in average. \n",
    "\n",
    "Let's check this hypothesis: "
   ]
  },
  {
   "cell_type": "code",
   "execution_count": null,
   "id": "4893d1f3",
   "metadata": {},
   "outputs": [],
   "source": [
    "p_df_jan.groupby('year').agg({'total_paid':['mean','median','std']})"
   ]
  },
  {
   "cell_type": "markdown",
   "id": "0af15f18",
   "metadata": {},
   "source": [
    "My theory is confirmed when we aggregate the data. The standard deviation for 2018 also shows us that there is a higher dispersion compared to 2017, caused mainly but these orders around 1250 euros.\n",
    "\n",
    "Let's see if we can zoom in into the products information for january. "
   ]
  },
  {
   "cell_type": "code",
   "execution_count": null,
   "id": "63ad593f",
   "metadata": {},
   "outputs": [],
   "source": [
    "# we already have the completed orders for January of both year in our p_df_jan, let's it to locate them on the orderlines file\n",
    "p_sku_jan = (\n",
    "orderlines\n",
    "    # filter all the orders id in orderlines for month of january (2017 and 2018)\n",
    "    .loc[orderlines['id_order'].isin(p_df_jan['order_id'])]\n",
    "    .assign(year = orderlines['date'].dt.strftime('%Y'))\n",
    "    .groupby(['year','sku'])\n",
    "    .agg({'unit_price':'sum'})\n",
    "    .reset_index()\n",
    "    .sort_values('unit_price', ascending=False)\n",
    "    .groupby('year')\n",
    "    .head(10)\n",
    "  #  .groupby('year').count()\n",
    ")\n",
    "p_sku_jan"
   ]
  },
  {
   "cell_type": "code",
   "execution_count": null,
   "id": "2441d13b",
   "metadata": {},
   "outputs": [],
   "source": [
    "p_sku_jan = p_sku_jan.merge(products, how='left')\n",
    "p_sku_jan"
   ]
  },
  {
   "cell_type": "code",
   "execution_count": null,
   "id": "c764ee35-7f6d-46d9-99c3-5ce96aadeb3d",
   "metadata": {},
   "outputs": [],
   "source": [
    "# plot the top 10 sold in 2017\n",
    "p_df= p_sku_jan.loc[p_sku_jan['year'] == '2017']\n",
    "\n",
    "sns.barplot(data=p_df, x='unit_price', y='name', color='red')\n",
    "plt.title('Top 10 products for Jan ' + '2017')\n",
    "plt.xlabel('Total income')\n",
    "plt.show()"
   ]
  },
  {
   "cell_type": "code",
   "execution_count": null,
   "id": "639e076f",
   "metadata": {},
   "outputs": [],
   "source": [
    "for year in ['2017', '2018']:\n",
    "    temp = p_sku_jan.loc[p_sku_jan['year'] == year]\n",
    "    sns.barplot(data=temp, x='unit_price', y='name', color='dodgerblue')\n",
    "    plt.title('Top 10 products for Jan ' + year)\n",
    "    plt.xlabel('Total income')\n",
    "    plt.show()"
   ]
  },
  {
   "cell_type": "markdown",
   "id": "ac8342cf",
   "metadata": {},
   "source": [
    "The [product mix](https://en.wikipedia.org/wiki/Marketing_mix) of the company has changed across the two years. Also the revenue!"
   ]
  },
  {
   "cell_type": "markdown",
   "id": "a1f2029b",
   "metadata": {},
   "source": [
    "Let's do a step back and see if I can find more information about the evolution of mean and median order value across the months:"
   ]
  },
  {
   "cell_type": "code",
   "execution_count": null,
   "id": "e9d7b2c0",
   "metadata": {},
   "outputs": [],
   "source": [
    "p_df = (\n",
    "orders_compl\n",
    "    .assign(\n",
    "        # we can create periods of time, in that case year and mont periods. \n",
    "        # I recommend you look more in deep and the documentaion of `to_period`\n",
    "        year_month = orders_compl['created_date'].dt.to_period(freq='M')\n",
    "    )\n",
    "    # group by year and month period to find the mean and median value\n",
    "    .groupby('year_month')\n",
    "    .agg({'total_paid':['mean','median']})\n",
    "    .reset_index()\n",
    "    \n",
    ")\n",
    "p_df"
   ]
  },
  {
   "cell_type": "code",
   "execution_count": null,
   "id": "b2a5232e",
   "metadata": {},
   "outputs": [],
   "source": [
    "# rename columns to make it easier to call them on the plot\n",
    "p_df.columns = ['year_month','mean','median']\n",
    "p_df"
   ]
  },
  {
   "cell_type": "code",
   "execution_count": null,
   "id": "6dbdac2d",
   "metadata": {},
   "outputs": [],
   "source": [
    "plt.subplots(figsize=(12, 10))\n",
    "\n",
    "# seaborn and matplotlib works with layers, so you can put one on top of each other.\n",
    "# using a for look will help us to print as many plots as we want on top of each other\n",
    "for measure in ['mean','median']: \n",
    "    # plot_date help us to plot datetime plots, as it can understand datetime formats like periods\n",
    "    plt.plot_date(data=p_df, x='year_month', y=measure, linestyle='--')\n",
    "\n",
    "plt.title('Order value Comparison between the mean (blue) and median (orange)')\n",
    "plt.xlabel('')\n",
    "plt.ylabel('Total paid in Euros')\n",
    "plt.ticklabel_format(style='plain', axis='y')\n",
    "plt.ylim(0, p_df['mean'].max() * 1.1)\n",
    "sns.despine()\n",
    "plt.show()"
   ]
  },
  {
   "cell_type": "markdown",
   "id": "3f46100d",
   "metadata": {},
   "source": [
    "Which are the main conclusions we can extract from this graph? Which is the difference between using the mean and the median?"
   ]
  },
  {
   "cell_type": "markdown",
   "id": "2e68e490",
   "metadata": {},
   "source": [
    "## Looking for a correlation between shipping cost, total price and quantity of products by each order "
   ]
  },
  {
   "cell_type": "markdown",
   "id": "f1054682",
   "metadata": {},
   "source": [
    "Is there a correlation between the number of products acquired and the shipping cost? "
   ]
  },
  {
   "cell_type": "code",
   "execution_count": null,
   "id": "52277eb9",
   "metadata": {},
   "outputs": [],
   "source": [
    "p_df = (\n",
    "orderlines\n",
    "    .groupby(['id_order'])\n",
    "    .agg({'total_price':'sum', \n",
    "         'product_quantity':'sum'})\n",
    "    .reset_index()\n",
    "    .merge(orders, how='left', left_on='id_order', right_on='order_id')\n",
    "    .query('state == \"Completed\"')\n",
    "    # lambda function inside assign help us to call a variable create on the pandas pipeline\n",
    "    # further explanation below\n",
    "    .assign(ship_cost = lambda x: x['total_paid'] - x['total_price'])\n",
    "    # exclude orders with no shippping cost\n",
    "    .query('ship_cost != 0')\n",
    "    .groupby('id_order')\n",
    "    .agg({'ship_cost':'sum',\n",
    "         'total_price':'sum', \n",
    "         'product_quantity':'sum'})\n",
    "    .sort_values('product_quantity')\n",
    ")\n",
    "p_df"
   ]
  },
  {
   "cell_type": "code",
   "execution_count": null,
   "id": "808e2856",
   "metadata": {},
   "outputs": [],
   "source": [
    "# Example how to understand a lambda function inside assign\n",
    "\n",
    "# create a dummy dataframe\n",
    "temp = pd.DataFrame({\n",
    "    'x':[1,2,3],\n",
    "    'y':[2,3,4]\n",
    "})\n",
    "\n",
    "# example how it is applied\n",
    "print('Exemple 1:')\n",
    "print(\n",
    "temp\n",
    "    .assign(x_y = temp['x'] + temp['y'])\n",
    "    # the only way to call the variable x_y in the same data pipeline is to use \n",
    "    # a lambda function, as the variable x_y do not exist on the original dataframe\n",
    "    .assign(x__x_y = lambda x: x['x'] + x['x_y'])\n",
    ")\n",
    "\n",
    "# this process will be exaclty as doing\n",
    "print('\\nExemple 2:')\n",
    "temp = temp.assign(x_y = temp['x'] + temp['y'])\n",
    "# in this example I can call the variable as temp['x_y'] as I overwrited the object temp in the line above\n",
    "print(temp.assign(x__x_y = temp['x'] + temp['x_y']))"
   ]
  },
  {
   "cell_type": "code",
   "execution_count": null,
   "id": "0f9b5c74",
   "metadata": {},
   "outputs": [],
   "source": [
    "plt.subplots(figsize=(10, 8))\n",
    "\n",
    "sns.scatterplot(data=p_df, x='ship_cost', y='total_price', \n",
    "                hue='product_quantity', \n",
    "                size='product_quantity', # define the size of each point based on the variable product quantity\n",
    "                sizes=(20, 200), # range of size of the size variable\n",
    "                palette='ch:start=.2,rot=-.3') # define manually the range of colors\n",
    "\n",
    "plt.xlabel('Shipping cost in Euros')\n",
    "plt.ylabel('Total price in Euros')\n",
    "plt.title('Relation between shipping cost, total price and quantity of products by order id')\n",
    "plt.legend(title = 'Product quantity') # Change the title name of the legend\n",
    "plt.xlim(-7, 100)\n",
    "sns.despine()\n",
    "plt.show()"
   ]
  },
  {
   "cell_type": "markdown",
   "id": "71e620e5",
   "metadata": {},
   "source": [
    "## CHALLENGE"
   ]
  },
  {
   "cell_type": "markdown",
   "id": "e7d632df",
   "metadata": {},
   "source": [
    "Answer the following questions with the chart you consider better: \n",
    "\n",
    "1. Only a fraction of the total number of orders end up being completed. Let's call this fraction (Completed orders / Total number of orders) 'Orders Conversion Rate'. Can you plot the weekly evolution of the 'Orders Conversion Rate'? Find the best chart to represent it. \n",
    "\n",
    "HINT: Trends throughout time are best represented by lines. Search how to do line plots with Seaborn."
   ]
  },
  {
   "cell_type": "code",
   "execution_count": null,
   "id": "3325496f-0a1e-450f-b677-dfa424a924b8",
   "metadata": {},
   "outputs": [],
   "source": [
    "orders_state_count = (\n",
    "orders\n",
    "    .assign(week = lambda x: pd.to_numeric(x['created_date'].dt.strftime('%W')), \n",
    "           year = lambda x: x['created_date'].dt.strftime('%Y'))\n",
    "    .groupby(['year','week','state'])\n",
    "    .agg({'order_id':'count'})\n",
    "    .reset_index()\n",
    "    .rename(columns={'order_id':'state_count'})\n",
    ")\n",
    "orders_state_count.head(20)"
   ]
  },
  {
   "cell_type": "code",
   "execution_count": null,
   "id": "20d45fa6-e0fb-44a6-b1c1-5b23dc1fb154",
   "metadata": {},
   "outputs": [],
   "source": [
    "# keep it as pandas series \n",
    "(\n",
    "orders_state_count\n",
    "    .groupby(['year','week'])\n",
    "#     .sum()\n",
    "#     .agg({'state_count':'sum'})\n",
    "    ['state_count'].sum()#.tolist()\n",
    ")"
   ]
  },
  {
   "cell_type": "code",
   "execution_count": null,
   "id": "cb455bd3-c9b1-4ebb-a9ae-65ef3e1bd46d",
   "metadata": {},
   "outputs": [],
   "source": [
    "orders_count = (\n",
    "orders\n",
    "    .assign(week = lambda x: pd.to_numeric(x['created_date'].dt.strftime('%W')), \n",
    "           year = lambda x: x['created_date'].dt.strftime('%Y'))\n",
    "    .groupby(['year','week'])\n",
    "    .agg({'order_id':'count'})\n",
    "    .reset_index()\n",
    "    .rename(columns={'order_id':'order_count'})\n",
    ")\n",
    "orders_count.head()"
   ]
  },
  {
   "cell_type": "code",
   "execution_count": null,
   "id": "e318b311-f831-4a9b-85ff-42fa900341c4",
   "metadata": {},
   "outputs": [],
   "source": [
    "(\n",
    "orders_state_count\n",
    " .merge(orders_count, how='left', on=['year','week'])\n",
    " .assign(state_perc = lambda x: x['state_count'] / x['order_count']))"
   ]
  },
  {
   "cell_type": "code",
   "execution_count": null,
   "id": "46daacd8-cd87-4dc5-89dd-e26b06e2b654",
   "metadata": {},
   "outputs": [],
   "source": [
    "p_df = (\n",
    "orders\n",
    "    .assign(week = lambda x: pd.to_numeric(x['created_date'].dt.strftime('%W')), \n",
    "           year = lambda x: x['created_date'].dt.strftime('%Y'))\n",
    "    .groupby(['year','week','state'])\n",
    "    .agg({'order_id':'count'})\n",
    "    .reset_index()\n",
    "    .assign(week_n_orders = lambda x: x.groupby(['year','week'])['order_id'].transform('sum'))\n",
    "    .assign(state_perc = lambda x: x['order_id'] / x['week_n_orders'])\n",
    "    .query('state == \"Completed\"')\n",
    ")\n",
    "p_df.head(30)"
   ]
  },
  {
   "cell_type": "code",
   "execution_count": null,
   "id": "c4d1ce93",
   "metadata": {},
   "outputs": [],
   "source": [
    "\n",
    "plt.subplots(figsize=(14, 6))\n",
    "\n",
    "ax = sns.scatterplot(data=p_df, x='week', y='state_perc', hue='year', legend=None)\n",
    "vals = ax.get_yticks()\n",
    "ax.set_yticklabels(['{:.0%}'.format(val) for val in vals])\n",
    "sns.lineplot(data=p_df, x='week', y='state_perc', hue='year')\n",
    "\n",
    "plt.legend(facecolor='white')\n",
    "plt.title('Evolution of conversion ratio in % by weeks 2017/18')\n",
    "plt.ylabel('Conversion ratio (% Completed orders)')\n",
    "plt.xlabel('Week number')\n",
    "sns.despine()\n",
    "plt.show()"
   ]
  },
  {
   "cell_type": "code",
   "execution_count": null,
   "id": "f28d7776-7d20-4203-9ea0-b6dc3590a559",
   "metadata": {},
   "outputs": [],
   "source": [
    "# orderlines.query('unit_price == 0').merge(orders, how='left', left_on='id_order', right_on='order_id').query('state == \"Completed\"')"
   ]
  },
  {
   "cell_type": "markdown",
   "id": "a8429fa6",
   "metadata": {},
   "source": [
    "If you combine the unit prices from the products dataframe with the unit price in orderlines, you can find if a discount has been applied into a product and how much is the difference. Find out which are the best visualisation to: \n",
    "\n",
    "1. Show the evolution of the average discount (in %) by each month"
   ]
  },
  {
   "cell_type": "code",
   "execution_count": null,
   "id": "f5e4ed68-0f08-478e-9f6b-00692bfc7a03",
   "metadata": {},
   "outputs": [],
   "source": [
    "import numpy as np"
   ]
  },
  {
   "cell_type": "code",
   "execution_count": null,
   "id": "1c51a79a",
   "metadata": {},
   "outputs": [],
   "source": [
    "p_df = (\n",
    "orderlines\n",
    "    .merge(orders, how='left', left_on='id_order', right_on='order_id')\n",
    "    .query('state == \"Completed\"')\n",
    "    .merge(products, how='left')\n",
    "    .assign(price = lambda x: np.where(np.isnan(x['price']), x['max_price_orderlines'], x['price']))\n",
    "    .assign(disc = lambda x: x['price'] - x['unit_price'],\n",
    "           disc_perc = lambda x: round((1 - x['unit_price'] / x['price'])*100), \n",
    "           year_month = lambda x: x['date'].dt.to_period('M'))\n",
    "    .groupby(['year_month'])\n",
    "    .agg({'disc_perc':'mean'})\n",
    "    .reset_index()\n",
    ")\n",
    "p_df.head(3)"
   ]
  },
  {
   "cell_type": "code",
   "execution_count": null,
   "id": "8e6ec482",
   "metadata": {},
   "outputs": [],
   "source": [
    "plt.subplots(figsize=(10, 6))\n",
    "\n",
    "plt.plot_date(data=p_df, x='year_month', y='disc_perc', linestyle='--')\n",
    "\n",
    "plt.title('Evolution of discounts (%) overtime')\n",
    "plt.ylabel('Average discount (%)')\n",
    "plt.ylim(0, p_df['disc_perc'].max()*1.2)\n",
    "sns.despine()\n",
    "plt.show()"
   ]
  },
  {
   "cell_type": "markdown",
   "id": "aa026aa2",
   "metadata": {},
   "source": [
    "2. Show the top 30 products with the highest discounts in absolute values, on average.  "
   ]
  },
  {
   "cell_type": "code",
   "execution_count": null,
   "id": "31ca9470-047f-4817-8eca-0e9e0cfe7c13",
   "metadata": {},
   "outputs": [],
   "source": [
    "brands"
   ]
  },
  {
   "cell_type": "code",
   "execution_count": null,
   "id": "97fb87a7",
   "metadata": {},
   "outputs": [],
   "source": [
    "p_df = (\n",
    "orderlines\n",
    "    .merge(orders, how='left', left_on='id_order', right_on='order_id')\n",
    "    .assign(short = lambda x: x['sku'].str[:3])\n",
    "    .merge(brands, how='left', on='short')\n",
    "    .query('state == \"Completed\"')\n",
    "    .merge(products, how='left')\n",
    "    .assign(price = lambda x: np.where(np.isnan(x['price']), x['max_price_orderlines'], x['price']))\n",
    "    .assign(disc_perc = lambda x: round((1 - x['unit_price'] / x['price'])*100), \n",
    "            disc = lambda x: x['price'] - x['unit_price'])\n",
    "# #     .query('long != \"Pack\"')\n",
    "    .groupby(['long','sku'])\n",
    "    .agg({'disc':'mean',\n",
    "         'disc_perc':'mean'})\n",
    "    .reset_index()\n",
    "    .sort_values('disc', ascending=False)\n",
    "    .head(30)\n",
    "#     .reset_index()\n",
    "    .merge(products)\n",
    "    .assign(sku_name = lambda x: x['sku'] + ' - ' + x['name'])\n",
    ")\n",
    "p_df.head()"
   ]
  },
  {
   "cell_type": "code",
   "execution_count": null,
   "id": "a00a123e",
   "metadata": {},
   "outputs": [],
   "source": [
    "plt.subplots(figsize=(4, 12))\n",
    "\n",
    "sns.barplot(data=p_df, x='disc', y='sku_name', color='dodgerblue')\n",
    "\n",
    "plt.title('Top 30 products with a higher discount on average')\n",
    "plt.xlabel('Average discount in Euros')\n",
    "plt.ylabel('')\n",
    "sns.despine()\n",
    "plt.show()"
   ]
  },
  {
   "cell_type": "markdown",
   "id": "fc752402",
   "metadata": {},
   "source": [
    "3. Show the distributions of discounts for each brand. Choose the discount measure you consider better to compare all brands. HINT: you can use the first 3 characters of the sku name to merge it with the brands table."
   ]
  },
  {
   "cell_type": "code",
   "execution_count": null,
   "id": "0b73916b",
   "metadata": {},
   "outputs": [],
   "source": [
    "p_df = (\n",
    "orderlines\n",
    "    .merge(orders, how='left', left_on='id_order', right_on='order_id')\n",
    "    .query('state == \"Completed\"')\n",
    "    .merge(products, how='left')\n",
    "    .assign(price = lambda x: np.where(np.isnan(x['price']), x['max_price_orderlines'], x['price']))\n",
    "    .assign(disc_perc = lambda x: round((1 - x['unit_price'] / x['price'])*100), \n",
    "            disc = lambda x: x['price'] - x['unit_price'])\n",
    "#     .merge(products)\n",
    "    .assign(short = lambda x: x['sku'].str[:3])\n",
    "    .merge(brands)\n",
    "    .assign(sort_val = lambda x: x.groupby(['sku'])['disc'].transform('mean'),\n",
    "           index = lambda x: x['long'])\n",
    "    .sort_values('sort_val', ascending=False)\n",
    "    .set_index('index')\n",
    ")\n",
    "p_df.sample(2)"
   ]
  },
  {
   "cell_type": "code",
   "execution_count": null,
   "id": "08a58ee4",
   "metadata": {},
   "outputs": [],
   "source": [
    "plt.subplots(figsize=(10, 50))\n",
    "\n",
    "p = sns.boxplot(data=p_df, y='long', x='disc_perc', color='dodgerblue')\n",
    "\n",
    "p.axvline(0, linestyle='--', c='gray')\n",
    "\n",
    "plt.title('Discount distribution (%)\\nBrands sorted from the ones that has a higer discounts on average (absolute values) to lower discounts\\n')\n",
    "plt.xlabel('Discount (%)')\n",
    "plt.ylabel('')\n",
    "plt.xlim(-100, 100)\n",
    "sns.despine()\n",
    "plt.show()"
   ]
  },
  {
   "cell_type": "code",
   "execution_count": null,
   "id": "bbf6732e-e7cf-43be-8be4-e5b7e4de26fe",
   "metadata": {},
   "outputs": [],
   "source": []
  }
 ],
 "metadata": {
  "kernelspec": {
   "display_name": "Python 3",
   "language": "python",
   "name": "python3"
  },
  "language_info": {
   "codemirror_mode": {
    "name": "ipython",
    "version": 3
   },
   "file_extension": ".py",
   "mimetype": "text/x-python",
   "name": "python",
   "nbconvert_exporter": "python",
   "pygments_lexer": "ipython3",
   "version": "3.8.8"
  }
 },
 "nbformat": 4,
 "nbformat_minor": 5
}
